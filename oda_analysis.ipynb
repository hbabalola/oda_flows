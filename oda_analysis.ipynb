{
 "cells": [
  {
   "cell_type": "code",
   "execution_count": 21,
   "id": "27027bf0-f79e-4f24-bdb3-7c75cdc25e95",
   "metadata": {},
   "outputs": [],
   "source": [
    "import numpy as np\n",
    "import pandas as pd\n",
    "import matplotlib.pyplot as plt\n",
    "import plotly.graph_objects as go\n",
    "import plotly.express as px"
   ]
  },
  {
   "cell_type": "code",
   "execution_count": 19,
   "id": "934ae6eb",
   "metadata": {},
   "outputs": [
    {
     "name": "stderr",
     "output_type": "stream",
     "text": [
      "UsageError: Line magic function `%` not found.\n"
     ]
    }
   ],
   "source": [
    "% matplotlib inline"
   ]
  },
  {
   "cell_type": "code",
   "execution_count": null,
   "id": "091230bb-3d48-44a9-89b0-cc46f9052c4a",
   "metadata": {},
   "outputs": [],
   "source": [
    "#loading data\n",
    "crs_data = pd.read_csv(\"crs_data.csv\")"
   ]
  },
  {
   "cell_type": "code",
   "execution_count": null,
   "id": "a61a1368-aa04-4c33-9152-2b08ec6754c1",
   "metadata": {},
   "outputs": [
    {
     "data": {
      "text/html": [
       "<div>\n",
       "<style scoped>\n",
       "    .dataframe tbody tr th:only-of-type {\n",
       "        vertical-align: middle;\n",
       "    }\n",
       "\n",
       "    .dataframe tbody tr th {\n",
       "        vertical-align: top;\n",
       "    }\n",
       "\n",
       "    .dataframe thead th {\n",
       "        text-align: right;\n",
       "    }\n",
       "</style>\n",
       "<table border=\"1\" class=\"dataframe\">\n",
       "  <thead>\n",
       "    <tr style=\"text-align: right;\">\n",
       "      <th></th>\n",
       "      <th>donor_code</th>\n",
       "      <th>donor_name</th>\n",
       "      <th>recipient_code</th>\n",
       "      <th>recipient_name</th>\n",
       "      <th>sector_code</th>\n",
       "      <th>sector_name</th>\n",
       "      <th>measure_code</th>\n",
       "      <th>measure_name</th>\n",
       "      <th>channel_code</th>\n",
       "      <th>channel_name</th>\n",
       "      <th>...</th>\n",
       "      <th>drr</th>\n",
       "      <th>nutrition</th>\n",
       "      <th>disability</th>\n",
       "      <th>biodiversity</th>\n",
       "      <th>climate_mitigation</th>\n",
       "      <th>climate_adaptation</th>\n",
       "      <th>desertification</th>\n",
       "      <th>amount_tied</th>\n",
       "      <th>amount_untied</th>\n",
       "      <th>nature_of_submission</th>\n",
       "    </tr>\n",
       "  </thead>\n",
       "  <tbody>\n",
       "    <tr>\n",
       "      <th>0</th>\n",
       "      <td>1628.0</td>\n",
       "      <td>Wellcome Trust</td>\n",
       "      <td>665</td>\n",
       "      <td>Pakistan</td>\n",
       "      <td>12182</td>\n",
       "      <td>Medical research</td>\n",
       "      <td>30</td>\n",
       "      <td>Private Development Finance</td>\n",
       "      <td>50000</td>\n",
       "      <td>Teaching institutions, research institutes or ...</td>\n",
       "      <td>...</td>\n",
       "      <td>NaN</td>\n",
       "      <td>NaN</td>\n",
       "      <td>NaN</td>\n",
       "      <td>0.0</td>\n",
       "      <td>0.0</td>\n",
       "      <td>0.0</td>\n",
       "      <td>NaN</td>\n",
       "      <td>NaN</td>\n",
       "      <td>NaN</td>\n",
       "      <td>8.0</td>\n",
       "    </tr>\n",
       "    <tr>\n",
       "      <th>1</th>\n",
       "      <td>1628.0</td>\n",
       "      <td>Wellcome Trust</td>\n",
       "      <td>665</td>\n",
       "      <td>Pakistan</td>\n",
       "      <td>12182</td>\n",
       "      <td>Medical research</td>\n",
       "      <td>30</td>\n",
       "      <td>Private Development Finance</td>\n",
       "      <td>50000</td>\n",
       "      <td>Teaching institutions, research institutes or ...</td>\n",
       "      <td>...</td>\n",
       "      <td>NaN</td>\n",
       "      <td>NaN</td>\n",
       "      <td>NaN</td>\n",
       "      <td>0.0</td>\n",
       "      <td>0.0</td>\n",
       "      <td>0.0</td>\n",
       "      <td>NaN</td>\n",
       "      <td>NaN</td>\n",
       "      <td>NaN</td>\n",
       "      <td>8.0</td>\n",
       "    </tr>\n",
       "    <tr>\n",
       "      <th>2</th>\n",
       "      <td>1628.0</td>\n",
       "      <td>Wellcome Trust</td>\n",
       "      <td>665</td>\n",
       "      <td>Pakistan</td>\n",
       "      <td>12182</td>\n",
       "      <td>Medical research</td>\n",
       "      <td>30</td>\n",
       "      <td>Private Development Finance</td>\n",
       "      <td>50000</td>\n",
       "      <td>Teaching institutions, research institutes or ...</td>\n",
       "      <td>...</td>\n",
       "      <td>NaN</td>\n",
       "      <td>NaN</td>\n",
       "      <td>NaN</td>\n",
       "      <td>0.0</td>\n",
       "      <td>0.0</td>\n",
       "      <td>0.0</td>\n",
       "      <td>0.0</td>\n",
       "      <td>NaN</td>\n",
       "      <td>NaN</td>\n",
       "      <td>8.0</td>\n",
       "    </tr>\n",
       "    <tr>\n",
       "      <th>3</th>\n",
       "      <td>1628.0</td>\n",
       "      <td>Wellcome Trust</td>\n",
       "      <td>665</td>\n",
       "      <td>Pakistan</td>\n",
       "      <td>12182</td>\n",
       "      <td>Medical research</td>\n",
       "      <td>30</td>\n",
       "      <td>Private Development Finance</td>\n",
       "      <td>50000</td>\n",
       "      <td>Teaching institutions, research institutes or ...</td>\n",
       "      <td>...</td>\n",
       "      <td>NaN</td>\n",
       "      <td>NaN</td>\n",
       "      <td>NaN</td>\n",
       "      <td>0.0</td>\n",
       "      <td>0.0</td>\n",
       "      <td>0.0</td>\n",
       "      <td>0.0</td>\n",
       "      <td>NaN</td>\n",
       "      <td>NaN</td>\n",
       "      <td>8.0</td>\n",
       "    </tr>\n",
       "    <tr>\n",
       "      <th>4</th>\n",
       "      <td>1628.0</td>\n",
       "      <td>Wellcome Trust</td>\n",
       "      <td>665</td>\n",
       "      <td>Pakistan</td>\n",
       "      <td>12220</td>\n",
       "      <td>Basic health care</td>\n",
       "      <td>30</td>\n",
       "      <td>Private Development Finance</td>\n",
       "      <td>50000</td>\n",
       "      <td>Teaching institutions, research institutes or ...</td>\n",
       "      <td>...</td>\n",
       "      <td>NaN</td>\n",
       "      <td>NaN</td>\n",
       "      <td>NaN</td>\n",
       "      <td>0.0</td>\n",
       "      <td>0.0</td>\n",
       "      <td>0.0</td>\n",
       "      <td>0.0</td>\n",
       "      <td>NaN</td>\n",
       "      <td>NaN</td>\n",
       "      <td>8.0</td>\n",
       "    </tr>\n",
       "  </tbody>\n",
       "</table>\n",
       "<p>5 rows × 55 columns</p>\n",
       "</div>"
      ],
      "text/plain": [
       "   donor_code      donor_name  recipient_code recipient_name  sector_code  \\\n",
       "0      1628.0  Wellcome Trust             665       Pakistan        12182   \n",
       "1      1628.0  Wellcome Trust             665       Pakistan        12182   \n",
       "2      1628.0  Wellcome Trust             665       Pakistan        12182   \n",
       "3      1628.0  Wellcome Trust             665       Pakistan        12182   \n",
       "4      1628.0  Wellcome Trust             665       Pakistan        12220   \n",
       "\n",
       "         sector_name  measure_code                 measure_name  channel_code  \\\n",
       "0   Medical research            30  Private Development Finance         50000   \n",
       "1   Medical research            30  Private Development Finance         50000   \n",
       "2   Medical research            30  Private Development Finance         50000   \n",
       "3   Medical research            30  Private Development Finance         50000   \n",
       "4  Basic health care            30  Private Development Finance         50000   \n",
       "\n",
       "                                        channel_name  ... drr nutrition  \\\n",
       "0  Teaching institutions, research institutes or ...  ... NaN       NaN   \n",
       "1  Teaching institutions, research institutes or ...  ... NaN       NaN   \n",
       "2  Teaching institutions, research institutes or ...  ... NaN       NaN   \n",
       "3  Teaching institutions, research institutes or ...  ... NaN       NaN   \n",
       "4  Teaching institutions, research institutes or ...  ... NaN       NaN   \n",
       "\n",
       "  disability biodiversity climate_mitigation climate_adaptation  \\\n",
       "0        NaN          0.0                0.0                0.0   \n",
       "1        NaN          0.0                0.0                0.0   \n",
       "2        NaN          0.0                0.0                0.0   \n",
       "3        NaN          0.0                0.0                0.0   \n",
       "4        NaN          0.0                0.0                0.0   \n",
       "\n",
       "  desertification  amount_tied amount_untied nature_of_submission  \n",
       "0             NaN          NaN           NaN                  8.0  \n",
       "1             NaN          NaN           NaN                  8.0  \n",
       "2             0.0          NaN           NaN                  8.0  \n",
       "3             0.0          NaN           NaN                  8.0  \n",
       "4             0.0          NaN           NaN                  8.0  \n",
       "\n",
       "[5 rows x 55 columns]"
      ]
     },
     "execution_count": 3,
     "metadata": {},
     "output_type": "execute_result"
    }
   ],
   "source": [
    "#understanding variables\n",
    "crs_data.head()"
   ]
  },
  {
   "cell_type": "code",
   "execution_count": null,
   "id": "1c17c561-4e0a-49e4-9ce8-524cad49a193",
   "metadata": {},
   "outputs": [
    {
     "name": "stdout",
     "output_type": "stream",
     "text": [
      "<class 'pandas.core.frame.DataFrame'>\n",
      "RangeIndex: 87685 entries, 0 to 87684\n",
      "Data columns (total 55 columns):\n",
      " #   Column                 Non-Null Count  Dtype  \n",
      "---  ------                 --------------  -----  \n",
      " 0   donor_code             87667 non-null  float64\n",
      " 1   donor_name             87685 non-null  object \n",
      " 2   recipient_code         87685 non-null  int64  \n",
      " 3   recipient_name         87685 non-null  object \n",
      " 4   sector_code            87685 non-null  int64  \n",
      " 5   sector_name            87685 non-null  object \n",
      " 6   measure_code           87685 non-null  int64  \n",
      " 7   measure_name           87685 non-null  object \n",
      " 8   channel_code           87685 non-null  int64  \n",
      " 9   channel_name           87685 non-null  object \n",
      " 10  flow_code              87685 non-null  object \n",
      " 11  flow_name              87685 non-null  object \n",
      " 12  flow_type_code         87685 non-null  object \n",
      " 13  flow_type_name         87685 non-null  object \n",
      " 14  data_type_code         87685 non-null  object \n",
      " 15  amount_type            87685 non-null  object \n",
      " 16  md_dim_name            87685 non-null  object \n",
      " 17  md_id                  87685 non-null  int64  \n",
      " 18  unit_measure_code      87685 non-null  object \n",
      " 19  unit_measure_name      87685 non-null  object \n",
      " 20  year                   87685 non-null  int64  \n",
      " 21  value                  87685 non-null  float64\n",
      " 22  base_period            43843 non-null  float64\n",
      " 23  status_name            87685 non-null  object \n",
      " 24  unit_multiplier        87685 non-null  int64  \n",
      " 25  donor_agency_code      87685 non-null  object \n",
      " 26  crs_id                 87591 non-null  object \n",
      " 27  project_id             75730 non-null  object \n",
      " 28  region_code            87685 non-null  object \n",
      " 29  income_group_code      87685 non-null  object \n",
      " 30  channel_delivery_code  87685 non-null  int64  \n",
      " 31  channel_delivery_name  75128 non-null  object \n",
      " 32  category_code          87685 non-null  int64  \n",
      " 33  category_name          87685 non-null  object \n",
      " 34  finance_type_code      87685 non-null  int64  \n",
      " 35  finance_type_name      87685 non-null  object \n",
      " 36  bi_multi_code          87685 non-null  int64  \n",
      " 37  short_description      87625 non-null  object \n",
      " 38  project_title          83229 non-null  object \n",
      " 39  long_description       76367 non-null  object \n",
      " 40  sdg_focus              19151 non-null  object \n",
      " 41  gender_equality        58684 non-null  float64\n",
      " 42  environment            55448 non-null  float64\n",
      " 43  governance             52164 non-null  float64\n",
      " 44  rmnch                  31154 non-null  float64\n",
      " 45  drr                    14348 non-null  float64\n",
      " 46  nutrition              15060 non-null  float64\n",
      " 47  disability             10736 non-null  float64\n",
      " 48  biodiversity           48426 non-null  float64\n",
      " 49  climate_mitigation     50736 non-null  float64\n",
      " 50  climate_adaptation     44096 non-null  float64\n",
      " 51  desertification        38046 non-null  float64\n",
      " 52  amount_tied            28732 non-null  float64\n",
      " 53  amount_untied          38296 non-null  float64\n",
      " 54  nature_of_submission   87591 non-null  float64\n",
      "dtypes: float64(17), int64(11), object(27)\n",
      "memory usage: 36.8+ MB\n"
     ]
    }
   ],
   "source": [
    "crs_data.info()"
   ]
  },
  {
   "cell_type": "code",
   "execution_count": null,
   "id": "4008e189",
   "metadata": {},
   "outputs": [
    {
     "data": {
      "text/html": [
       "<div>\n",
       "<style scoped>\n",
       "    .dataframe tbody tr th:only-of-type {\n",
       "        vertical-align: middle;\n",
       "    }\n",
       "\n",
       "    .dataframe tbody tr th {\n",
       "        vertical-align: top;\n",
       "    }\n",
       "\n",
       "    .dataframe thead th {\n",
       "        text-align: right;\n",
       "    }\n",
       "</style>\n",
       "<table border=\"1\" class=\"dataframe\">\n",
       "  <thead>\n",
       "    <tr style=\"text-align: right;\">\n",
       "      <th></th>\n",
       "      <th>year</th>\n",
       "      <th>donor_name</th>\n",
       "      <th>value</th>\n",
       "    </tr>\n",
       "  </thead>\n",
       "  <tbody>\n",
       "    <tr>\n",
       "      <th>0</th>\n",
       "      <td>2002</td>\n",
       "      <td>Australia</td>\n",
       "      <td>5.103243</td>\n",
       "    </tr>\n",
       "    <tr>\n",
       "      <th>1</th>\n",
       "      <td>2002</td>\n",
       "      <td>Austria</td>\n",
       "      <td>1.885123</td>\n",
       "    </tr>\n",
       "    <tr>\n",
       "      <th>2</th>\n",
       "      <td>2002</td>\n",
       "      <td>Belgium</td>\n",
       "      <td>1.841848</td>\n",
       "    </tr>\n",
       "    <tr>\n",
       "      <th>3</th>\n",
       "      <td>2002</td>\n",
       "      <td>Canada</td>\n",
       "      <td>21.638231</td>\n",
       "    </tr>\n",
       "    <tr>\n",
       "      <th>4</th>\n",
       "      <td>2002</td>\n",
       "      <td>Finland</td>\n",
       "      <td>1.220490</td>\n",
       "    </tr>\n",
       "  </tbody>\n",
       "</table>\n",
       "</div>"
      ],
      "text/plain": [
       "   year donor_name      value\n",
       "0  2002  Australia   5.103243\n",
       "1  2002    Austria   1.885123\n",
       "2  2002    Belgium   1.841848\n",
       "3  2002     Canada  21.638231\n",
       "4  2002    Finland   1.220490"
      ]
     },
     "execution_count": 13,
     "metadata": {},
     "output_type": "execute_result"
    }
   ],
   "source": [
    "crs_grouped = crs_data.groupby(['year','donor_name'], as_index=False)['value'].sum()\n",
    "crs_grouped.head()"
   ]
  },
  {
   "cell_type": "markdown",
   "id": "5bff5301",
   "metadata": {},
   "source": [
    "#### EXPLORING VISUALISATIONS WITH MATPLOTLIB #####"
   ]
  },
  {
   "cell_type": "code",
   "execution_count": null,
   "id": "1690b2ed",
   "metadata": {},
   "outputs": [
    {
     "data": {
      "image/png": "[encoded data removed]",
      "text/plain": [
       "<Figure size 600x500 with 1 Axes>"
      ]
     },
     "metadata": {},
     "output_type": "display_data"
    }
   ],
   "source": [
    "# Create our figure and our axes\n",
    "figure, axes = plt.subplots(figsize=(6, 5))\n",
    "\n",
    "# Plot the Data\n",
    "axes.bar(x=crs_grouped[\"year\"], height=crs_grouped[\"value\"],\n",
    "             color=\"#9E2A2B\")  # NEW - Colour specified using HEX code\n",
    "\n",
    "# Add Labels and titles\n",
    "axes.set_title(\"ODA flows to Pakistan by year\", \n",
    "               fontname=\"Arial\", \n",
    "               size=16)\n",
    "axes.set_xlabel(\"Year\", fontname=\"Arial\", size=12)\n",
    "axes.set_ylabel(\"ODA disbursement ($million)\", fontname=\"Arial\", size=12);"
   ]
  },
  {
   "cell_type": "code",
   "execution_count": null,
   "id": "e5dcc589",
   "metadata": {},
   "outputs": [],
   "source": [
    "grouped = crs_data.groupby(['year', 'donor_name'], as_index=False)['value'].sum()"
   ]
  },
  {
   "cell_type": "code",
   "execution_count": null,
   "id": "55ee0f1f",
   "metadata": {},
   "outputs": [
    {
     "data": {
      "image/png": "[encoded data removed]",
      "text/plain": [
       "<Figure size 600x500 with 1 Axes>"
      ]
     },
     "metadata": {},
     "output_type": "display_data"
    },
    {
     "data": {
      "image/png": "[encoded data removed]",
      "text/plain": [
       "<Figure size 800x600 with 1 Axes>"
      ]
     },
     "metadata": {},
     "output_type": "display_data"
    }
   ],
   "source": [
    "# Create our figure and our axes\n",
    "figure, axes = plt.subplots(figsize=(6, 5))\n",
    "\n",
    "# Plot the Data\n",
    "axes.bar(x=crs_grouped[\"year\"], height=crs_grouped[\"value\"],\n",
    "             color=\"#9E2A2B\")  # NEW - Colour specified using HEX code\n",
    "\n",
    "#Pivot data to wide format\n",
    "pivoted = grouped.pivot(index='year', columns='donor_name', values='value').fillna(0)\n",
    "\n",
    "#Create stacked bar chart\n",
    "pivoted.plot(kind='bar', stacked=True, figsize=(8,6), color=[\"#9E2A2B\", \"#005F73\"])\n",
    "\n",
    "\n",
    "# Add Labels and titles\n",
    "axes.set_title(\"ODA flows to Pakistan by year\", \n",
    "               fontname=\"Arial\", \n",
    "               size=16)\n",
    "axes.set_xlabel(\"Year\", fontname=\"Arial\", size=12)\n",
    "axes.set_ylabel(\"ODA disbursement ($million)\", fontname=\"Arial\", size=12);"
   ]
  },
  {
   "cell_type": "markdown",
   "id": "210a99ea",
   "metadata": {},
   "source": [
    "#### EXPLORING VISUALISATIONS WITH PLOTLY EXPRESS - TESTING IF BETTER #### "
   ]
  },
  {
   "cell_type": "code",
   "execution_count": 25,
   "id": "90e2802d",
   "metadata": {},
   "outputs": [
    {
     "data": {
      "application/vnd.plotly.v1+json": {
       "config": {
        "plotlyServerURL": "https://plot.ly"
       },
       "data": [
        {
         "alignmentgroup": "True",
         "hovertemplate": "Donor Name=Australia<br>Year=%{x}<br>ODA disbursement ($million)=%{y}<extra></extra>",
         "legendgroup": "Australia",
         "marker": {
          "color": "rgb(136, 204, 238)",
          "pattern": {
           "shape": ""
          }
         },
         "name": "Australia",
         "offsetgroup": "Australia",
         "orientation": "v",
         "showlegend": true,
         "textposition": "auto",
         "texttemplate": "%{y}",
         "type": "bar",
         "x": [
          2002,
          2003,
          2004,
          2005,
          2006,
          2007,
          2008,
          2009,
          2010,
          2011,
          2012,
          2013,
          2014,
          2015,
          2016,
          2017,
          2018,
          2019,
          2020,
          2021,
          2022,
          2023
         ],
         "xaxis": "x",
         "y": [
          5.103243,
          9.466744,
          12.641822,
          43.200635,
          76.194003,
          26.154436,
          61.946214,
          104.346209,
          240.970623,
          142.982069,
          174.032272,
          124.312135,
          146.937983,
          124.007029,
          71.116472,
          88.694991,
          98.071176,
          43.320864,
          20.292957,
          21.759425,
          33.156407,
          21.755118
         ],
         "yaxis": "y"
        },
        {
         "alignmentgroup": "True",
         "hovertemplate": "Donor Name=Austria<br>Year=%{x}<br>ODA disbursement ($million)=%{y}<extra></extra>",
         "legendgroup": "Austria",
         "marker": {
          "color": "rgb(204, 102, 119)",
          "pattern": {
           "shape": ""
          }
         },
         "name": "Austria",
         "offsetgroup": "Austria",
         "orientation": "v",
         "showlegend": true,
         "textposition": "auto",
         "texttemplate": "%{y}",
         "type": "bar",
         "x": [
          2002,
          2003,
          2004,
          2005,
          2006,
          2007,
          2008,
          2009,
          2010,
          2011,
          2012,
          2013,
          2014,
          2015,
          2016,
          2017,
          2018,
          2019,
          2020,
          2021,
          2022,
          2023
         ],
         "xaxis": "x",
         "y": [
          1.885123,
          2.798594,
          4.186941,
          15.85284,
          4.05002,
          5.787432,
          7.357505000000001,
          6.570946,
          20.688892,
          4.69477,
          2.731969,
          4.077147,
          3.586855,
          4.6271130000000005,
          4.551386,
          4.812061,
          4.75256,
          26.110349,
          4.112184,
          9.465855999999999,
          13.648073,
          15.848956000000001
         ],
         "yaxis": "y"
        },
        {
         "alignmentgroup": "True",
         "hovertemplate": "Donor Name=Belgium<br>Year=%{x}<br>ODA disbursement ($million)=%{y}<extra></extra>",
         "legendgroup": "Belgium",
         "marker": {
          "color": "rgb(221, 204, 119)",
          "pattern": {
           "shape": ""
          }
         },
         "name": "Belgium",
         "offsetgroup": "Belgium",
         "orientation": "v",
         "showlegend": true,
         "textposition": "auto",
         "texttemplate": "%{y}",
         "type": "bar",
         "x": [
          2002,
          2003,
          2004,
          2005,
          2006,
          2007,
          2008,
          2009,
          2010,
          2011,
          2012,
          2013,
          2014,
          2015,
          2016,
          2017,
          2018,
          2019,
          2020,
          2021,
          2022,
          2023
         ],
         "xaxis": "x",
         "y": [
          1.841848,
          0.154602,
          0.142327,
          2.746442,
          11.203367,
          2.517157,
          1.0908740000000001,
          5.548283,
          31.008352000000002,
          28.805854,
          2.120286,
          5.493582,
          0.8617619999999999,
          0.027261,
          0.004521,
          0.004513,
          0.036958000000000005,
          0.119138,
          0.278673,
          0.12666899999999998,
          20.693183,
          0.057526
         ],
         "yaxis": "y"
        },
        {
         "alignmentgroup": "True",
         "hovertemplate": "Donor Name=Canada<br>Year=%{x}<br>ODA disbursement ($million)=%{y}<extra></extra>",
         "legendgroup": "Canada",
         "marker": {
          "color": "rgb(17, 119, 51)",
          "pattern": {
           "shape": ""
          }
         },
         "name": "Canada",
         "offsetgroup": "Canada",
         "orientation": "v",
         "showlegend": true,
         "textposition": "auto",
         "texttemplate": "%{y}",
         "type": "bar",
         "x": [
          2002,
          2003,
          2004,
          2005,
          2006,
          2007,
          2008,
          2009,
          2010,
          2011,
          2012,
          2013,
          2014,
          2015,
          2016,
          2017,
          2018,
          2019,
          2020,
          2021,
          2022,
          2023
         ],
         "xaxis": "x",
         "y": [
          21.638231,
          33.681032,
          39.795933,
          96.81275600000001,
          94.65914,
          74.371968,
          84.672136,
          91.505281,
          208.13603,
          172.148183,
          76.115151,
          132.737761,
          69.741385,
          75.441789,
          93.181877,
          51.25989,
          28.731393,
          26.62544,
          53.416655,
          59.895486,
          94.004249,
          62.483518000000004
         ],
         "yaxis": "y"
        },
        {
         "alignmentgroup": "True",
         "hovertemplate": "Donor Name=Finland<br>Year=%{x}<br>ODA disbursement ($million)=%{y}<extra></extra>",
         "legendgroup": "Finland",
         "marker": {
          "color": "rgb(51, 34, 136)",
          "pattern": {
           "shape": ""
          }
         },
         "name": "Finland",
         "offsetgroup": "Finland",
         "orientation": "v",
         "showlegend": true,
         "textposition": "auto",
         "texttemplate": "%{y}",
         "type": "bar",
         "x": [
          2002,
          2003,
          2006,
          2007,
          2008,
          2009,
          2010,
          2011,
          2012,
          2013,
          2014,
          2015,
          2016,
          2017,
          2018,
          2019,
          2020,
          2021,
          2022,
          2023
         ],
         "xaxis": "x",
         "y": [
          1.2204899999999999,
          1.1558570000000001,
          20.55778,
          15.951331,
          4.766007,
          16.590376,
          35.59239,
          21.205803,
          7.5016929999999995,
          6.936662,
          7.398684,
          1.501758,
          0.944358,
          0.529102,
          0.271795,
          0.099137,
          0.005856999999999999,
          20.019166,
          6.307182,
          0.28460799999999997
         ],
         "yaxis": "y"
        },
        {
         "alignmentgroup": "True",
         "hovertemplate": "Donor Name=France<br>Year=%{x}<br>ODA disbursement ($million)=%{y}<extra></extra>",
         "legendgroup": "France",
         "marker": {
          "color": "rgb(170, 68, 153)",
          "pattern": {
           "shape": ""
          }
         },
         "name": "France",
         "offsetgroup": "France",
         "orientation": "v",
         "showlegend": true,
         "textposition": "auto",
         "texttemplate": "%{y}",
         "type": "bar",
         "x": [
          2002,
          2003,
          2004,
          2005,
          2006,
          2007,
          2008,
          2009,
          2010,
          2011,
          2012,
          2013,
          2014,
          2015,
          2016,
          2017,
          2018,
          2019,
          2020,
          2021,
          2022,
          2023
         ],
         "xaxis": "x",
         "y": [
          5.135782,
          1148.83203,
          9.507596,
          76.667554,
          44.054171,
          112.744473,
          22.675706,
          47.162963,
          35.471799,
          33.318429,
          57.014542000000006,
          78.166399,
          72.27054,
          45.493355,
          85.794671,
          290.946663,
          165.472131,
          211.366008,
          105.753902,
          92.07641,
          80.547291,
          106.628104
         ],
         "yaxis": "y"
        },
        {
         "alignmentgroup": "True",
         "hovertemplate": "Donor Name=Germany<br>Year=%{x}<br>ODA disbursement ($million)=%{y}<extra></extra>",
         "legendgroup": "Germany",
         "marker": {
          "color": "rgb(68, 170, 153)",
          "pattern": {
           "shape": ""
          }
         },
         "name": "Germany",
         "offsetgroup": "Germany",
         "orientation": "v",
         "showlegend": true,
         "textposition": "auto",
         "texttemplate": "%{y}",
         "type": "bar",
         "x": [
          2002,
          2003,
          2004,
          2005,
          2006,
          2007,
          2008,
          2009,
          2010,
          2011,
          2012,
          2013,
          2014,
          2015,
          2016,
          2017,
          2018,
          2019,
          2020,
          2021,
          2022,
          2023
         ],
         "xaxis": "x",
         "y": [
          207.815887,
          87.503621,
          71.727447,
          104.423503,
          161.66936,
          150.44794,
          198.301296,
          229.123962,
          331.273873,
          323.605385,
          346.223213,
          277.217152,
          261.784476,
          229.569899,
          298.945679,
          465.548902,
          278.555462,
          239.486532,
          241.381869,
          380.797245,
          371.083071,
          276.810456
         ],
         "yaxis": "y"
        },
        {
         "alignmentgroup": "True",
         "hovertemplate": "Donor Name=Global Environment Facility [GEF]<br>Year=%{x}<br>ODA disbursement ($million)=%{y}<extra></extra>",
         "legendgroup": "Global Environment Facility [GEF]",
         "marker": {
          "color": "rgb(153, 153, 51)",
          "pattern": {
           "shape": ""
          }
         },
         "name": "Global Environment Facility [GEF]",
         "offsetgroup": "Global Environment Facility [GEF]",
         "orientation": "v",
         "showlegend": true,
         "textposition": "auto",
         "texttemplate": "%{y}",
         "type": "bar",
         "x": [
          2002,
          2003,
          2004,
          2005,
          2006,
          2007,
          2008,
          2009,
          2010,
          2011,
          2012,
          2013,
          2014,
          2015,
          2016,
          2017,
          2018,
          2019,
          2020,
          2021,
          2022,
          2023
         ],
         "xaxis": "x",
         "y": [
          9.609474,
          4.894653,
          3.319811,
          4.727872,
          3.663318,
          4.826543,
          5.490598,
          3.4946989999999998,
          5.589139,
          4.647845,
          4.880172,
          10.074801,
          11.537648,
          15.449443,
          15.548071,
          9.736783,
          10.732529,
          1.824182,
          11.89479,
          6.803633,
          6.984611,
          1.41229
         ],
         "yaxis": "y"
        },
        {
         "alignmentgroup": "True",
         "hovertemplate": "Donor Name=Greece<br>Year=%{x}<br>ODA disbursement ($million)=%{y}<extra></extra>",
         "legendgroup": "Greece",
         "marker": {
          "color": "rgb(136, 34, 85)",
          "pattern": {
           "shape": ""
          }
         },
         "name": "Greece",
         "offsetgroup": "Greece",
         "orientation": "v",
         "showlegend": true,
         "textposition": "auto",
         "texttemplate": "%{y}",
         "type": "bar",
         "x": [
          2002,
          2003,
          2004,
          2005,
          2006,
          2007,
          2008,
          2009,
          2010,
          2011,
          2012,
          2013,
          2014,
          2015,
          2021,
          2022
         ],
         "xaxis": "x",
         "y": [
          0.186919,
          0.7776419999999999,
          0.600633,
          7.996396,
          1.21673,
          1.7989330000000001,
          0.631293,
          2.117525,
          0.729344,
          0.38278,
          0.346908,
          0.24899500000000002,
          0.23202899999999999,
          0.200209,
          1.767422,
          0.310328
         ],
         "yaxis": "y"
        },
        {
         "alignmentgroup": "True",
         "hovertemplate": "Donor Name=IMF Concessional Trust Funds<br>Year=%{x}<br>ODA disbursement ($million)=%{y}<extra></extra>",
         "legendgroup": "IMF Concessional Trust Funds",
         "marker": {
          "color": "rgb(102, 17, 0)",
          "pattern": {
           "shape": ""
          }
         },
         "name": "IMF Concessional Trust Funds",
         "offsetgroup": "IMF Concessional Trust Funds",
         "orientation": "v",
         "showlegend": true,
         "textposition": "auto",
         "texttemplate": "%{y}",
         "type": "bar",
         "x": [
          2002,
          2003,
          2004
         ],
         "xaxis": "x",
         "y": [
          850.336738,
          1144.583186,
          579.225796
         ],
         "yaxis": "y"
        },
        {
         "alignmentgroup": "True",
         "hovertemplate": "Donor Name=International Bank for Reconstruction and Development [IBRD]<br>Year=%{x}<br>ODA disbursement ($million)=%{y}<extra></extra>",
         "legendgroup": "International Bank for Reconstruction and Development [IBRD]",
         "marker": {
          "color": "rgb(136, 136, 136)",
          "pattern": {
           "shape": ""
          }
         },
         "name": "International Bank for Reconstruction and Development [IBRD]",
         "offsetgroup": "International Bank for Reconstruction and Development [IBRD]",
         "orientation": "v",
         "showlegend": true,
         "textposition": "auto",
         "texttemplate": "%{y}",
         "type": "bar",
         "x": [
          2002,
          2003,
          2004,
          2005,
          2006,
          2007,
          2008,
          2009,
          2010,
          2011,
          2012,
          2013,
          2014,
          2015,
          2016,
          2017,
          2018,
          2019,
          2020,
          2021,
          2022,
          2023
         ],
         "xaxis": "x",
         "y": [
          84.789137,
          65.299941,
          2.178485,
          485.90717800000004,
          341.031323,
          370.827593,
          111.983098,
          187.64855699999998,
          126.625832,
          124.3233,
          158.094856,
          197.378392,
          208.308719,
          125.461671,
          437.215504,
          423.45195099999995,
          376.49606,
          324.03727499999997,
          835.237248,
          962.06719,
          324.907575,
          805.6727999999999
         ],
         "yaxis": "y"
        },
        {
         "alignmentgroup": "True",
         "hovertemplate": "Donor Name=International Development Association [IDA]<br>Year=%{x}<br>ODA disbursement ($million)=%{y}<extra></extra>",
         "legendgroup": "International Development Association [IDA]",
         "marker": {
          "color": "rgb(136, 204, 238)",
          "pattern": {
           "shape": ""
          }
         },
         "name": "International Development Association [IDA]",
         "offsetgroup": "International Development Association [IDA]",
         "orientation": "v",
         "showlegend": true,
         "textposition": "auto",
         "texttemplate": "%{y}",
         "type": "bar",
         "x": [
          2002,
          2003,
          2004,
          2005,
          2006,
          2007,
          2008,
          2009,
          2010,
          2011,
          2012,
          2013,
          2014,
          2015,
          2016,
          2017,
          2018,
          2019,
          2020,
          2021,
          2022,
          2023
         ],
         "xaxis": "x",
         "y": [
          2358.588869,
          279.322671,
          1775.188991,
          1410.263748,
          1881.054112,
          2169.208199,
          385.760991,
          2474.603326,
          775.128825,
          1786.113315,
          1140.153942,
          911.068915,
          2985.662326,
          3490.009361,
          1854.020966,
          1556.821979,
          1021.215318,
          1227.622968,
          2975.671428,
          3469.147881,
          2280.83964,
          4317.54816
         ],
         "yaxis": "y"
        },
        {
         "alignmentgroup": "True",
         "hovertemplate": "Donor Name=Ireland<br>Year=%{x}<br>ODA disbursement ($million)=%{y}<extra></extra>",
         "legendgroup": "Ireland",
         "marker": {
          "color": "rgb(204, 102, 119)",
          "pattern": {
           "shape": ""
          }
         },
         "name": "Ireland",
         "offsetgroup": "Ireland",
         "orientation": "v",
         "showlegend": true,
         "textposition": "auto",
         "texttemplate": "%{y}",
         "type": "bar",
         "x": [
          2002,
          2003,
          2004,
          2005,
          2006,
          2007,
          2008,
          2009,
          2010,
          2011,
          2012,
          2013,
          2014,
          2015,
          2016,
          2017,
          2018,
          2019,
          2020,
          2022,
          2023
         ],
         "xaxis": "x",
         "y": [
          1.4447899999999998,
          1.331847,
          1.6793770000000001,
          23.422554,
          8.386459,
          5.481977,
          5.298505,
          6.537559,
          10.339336,
          4.109375,
          5.064221,
          1.720381,
          1.499792,
          1.211164,
          1.5181170000000002,
          2.149049,
          1.907639,
          1.367048,
          1.234053,
          1.087931,
          21.626298
         ],
         "yaxis": "y"
        },
        {
         "alignmentgroup": "True",
         "hovertemplate": "Donor Name=Italy<br>Year=%{x}<br>ODA disbursement ($million)=%{y}<extra></extra>",
         "legendgroup": "Italy",
         "marker": {
          "color": "rgb(221, 204, 119)",
          "pattern": {
           "shape": ""
          }
         },
         "name": "Italy",
         "offsetgroup": "Italy",
         "orientation": "v",
         "showlegend": true,
         "textposition": "auto",
         "texttemplate": "%{y}",
         "type": "bar",
         "x": [
          2002,
          2003,
          2004,
          2005,
          2006,
          2007,
          2008,
          2009,
          2010,
          2011,
          2012,
          2013,
          2014,
          2015,
          2016,
          2017,
          2018,
          2019,
          2020,
          2021,
          2022,
          2023
         ],
         "xaxis": "x",
         "y": [
          0.219702,
          9.047236,
          0.189001,
          0.853488,
          6.615277,
          5.55183,
          7.589189,
          17.932823,
          24.572653,
          49.448127,
          86.17962700000001,
          34.840966,
          29.174126,
          94.60365499999999,
          25.197208,
          40.069428,
          37.581547,
          6.154935,
          24.568724,
          9.006592,
          47.198185,
          28.10635
         ],
         "yaxis": "y"
        },
        {
         "alignmentgroup": "True",
         "hovertemplate": "Donor Name=Japan<br>Year=%{x}<br>ODA disbursement ($million)=%{y}<extra></extra>",
         "legendgroup": "Japan",
         "marker": {
          "color": "rgb(17, 119, 51)",
          "pattern": {
           "shape": ""
          }
         },
         "name": "Japan",
         "offsetgroup": "Japan",
         "orientation": "v",
         "showlegend": true,
         "textposition": "auto",
         "texttemplate": "%{y}",
         "type": "bar",
         "x": [
          2002,
          2003,
          2004,
          2005,
          2006,
          2007,
          2008,
          2009,
          2010,
          2011,
          2012,
          2013,
          2014,
          2015,
          2016,
          2017,
          2018,
          2019,
          2020,
          2021,
          2022,
          2023
         ],
         "xaxis": "x",
         "y": [
          540.030664,
          486.715557,
          244.345069,
          184.498438,
          499.59117,
          158.922295,
          136.02923,
          289.530285,
          412.38885700000003,
          930.172348,
          490.820563,
          374.403946,
          509.190462,
          335.749729,
          444.788439,
          310.24593,
          231.954049,
          239.76335699999998,
          94.859643,
          137.856893,
          148.153241,
          160.704564
         ],
         "yaxis": "y"
        },
        {
         "alignmentgroup": "True",
         "hovertemplate": "Donor Name=Netherlands<br>Year=%{x}<br>ODA disbursement ($million)=%{y}<extra></extra>",
         "legendgroup": "Netherlands",
         "marker": {
          "color": "rgb(51, 34, 136)",
          "pattern": {
           "shape": ""
          }
         },
         "name": "Netherlands",
         "offsetgroup": "Netherlands",
         "orientation": "v",
         "showlegend": true,
         "textposition": "auto",
         "texttemplate": "%{y}",
         "type": "bar",
         "x": [
          2002,
          2003,
          2004,
          2005,
          2006,
          2007,
          2008,
          2009,
          2010,
          2011,
          2012,
          2013,
          2014,
          2015,
          2016,
          2017,
          2018,
          2019,
          2020,
          2021,
          2022,
          2023
         ],
         "xaxis": "x",
         "y": [
          54.35252,
          20.148592,
          23.209963000000002,
          103.155203,
          46.454024,
          76.783457,
          63.418869,
          79.85577,
          112.675883,
          62.678294,
          62.384536000000004,
          59.167091000000006,
          28.639257999999998,
          14.492924,
          9.178998,
          9.546581,
          5.980563,
          11.1229,
          9.479445,
          6.674455,
          4.569871,
          60.710482
         ],
         "yaxis": "y"
        },
        {
         "alignmentgroup": "True",
         "hovertemplate": "Donor Name=New Zealand<br>Year=%{x}<br>ODA disbursement ($million)=%{y}<extra></extra>",
         "legendgroup": "New Zealand",
         "marker": {
          "color": "rgb(170, 68, 153)",
          "pattern": {
           "shape": ""
          }
         },
         "name": "New Zealand",
         "offsetgroup": "New Zealand",
         "orientation": "v",
         "showlegend": true,
         "textposition": "auto",
         "texttemplate": "%{y}",
         "type": "bar",
         "x": [
          2002,
          2003,
          2004,
          2005,
          2006,
          2007,
          2008,
          2009,
          2010,
          2011,
          2022,
          2023
         ],
         "xaxis": "x",
         "y": [
          1.228993,
          1.089396,
          0.554529,
          4.230802,
          1.479051,
          1.337837,
          0.470818,
          1.858902,
          6.302516,
          2.430675,
          1.921355,
          2.4834639999999997
         ],
         "yaxis": "y"
        },
        {
         "alignmentgroup": "True",
         "hovertemplate": "Donor Name=Norway<br>Year=%{x}<br>ODA disbursement ($million)=%{y}<extra></extra>",
         "legendgroup": "Norway",
         "marker": {
          "color": "rgb(68, 170, 153)",
          "pattern": {
           "shape": ""
          }
         },
         "name": "Norway",
         "offsetgroup": "Norway",
         "orientation": "v",
         "showlegend": true,
         "textposition": "auto",
         "texttemplate": "%{y}",
         "type": "bar",
         "x": [
          2002,
          2003,
          2004,
          2005,
          2006,
          2007,
          2008,
          2009,
          2010,
          2011,
          2012,
          2013,
          2014,
          2015,
          2016,
          2017,
          2018,
          2019,
          2020,
          2021,
          2022,
          2023
         ],
         "xaxis": "x",
         "y": [
          28.630022,
          25.301303,
          19.396272,
          184.529028,
          39.489699,
          61.281339,
          55.817532,
          93.58861,
          159.378545,
          59.006169,
          54.800874,
          48.077946,
          44.249463,
          34.84589,
          28.507020999999998,
          22.333538,
          20.2689,
          15.762458,
          16.213807,
          23.869292,
          24.986234,
          24.88538
         ],
         "yaxis": "y"
        },
        {
         "alignmentgroup": "True",
         "hovertemplate": "Donor Name=Portugal<br>Year=%{x}<br>ODA disbursement ($million)=%{y}<extra></extra>",
         "legendgroup": "Portugal",
         "marker": {
          "color": "rgb(153, 153, 51)",
          "pattern": {
           "shape": ""
          }
         },
         "name": "Portugal",
         "offsetgroup": "Portugal",
         "orientation": "v",
         "showlegend": true,
         "textposition": "auto",
         "texttemplate": "%{y}",
         "type": "bar",
         "x": [
          2002,
          2005,
          2006,
          2010,
          2016,
          2018,
          2019,
          2020,
          2022,
          2023
         ],
         "xaxis": "x",
         "y": [
          0.000594,
          0.028066,
          0.005485,
          0.001103,
          0.004883,
          0.012908,
          0.013229,
          0.0035570000000000003,
          0.003422,
          0.008976
         ],
         "yaxis": "y"
        },
        {
         "alignmentgroup": "True",
         "hovertemplate": "Donor Name=Spain<br>Year=%{x}<br>ODA disbursement ($million)=%{y}<extra></extra>",
         "legendgroup": "Spain",
         "marker": {
          "color": "rgb(136, 34, 85)",
          "pattern": {
           "shape": ""
          }
         },
         "name": "Spain",
         "offsetgroup": "Spain",
         "orientation": "v",
         "showlegend": true,
         "textposition": "auto",
         "texttemplate": "%{y}",
         "type": "bar",
         "x": [
          2002,
          2003,
          2004,
          2005,
          2006,
          2007,
          2008,
          2009,
          2010,
          2011,
          2012,
          2013,
          2014,
          2015,
          2016,
          2017,
          2018,
          2019,
          2020,
          2021,
          2022,
          2023
         ],
         "xaxis": "x",
         "y": [
          0.264303,
          2.260748,
          0.153917,
          10.967400000000001,
          2.159556,
          11.189932999999998,
          6.270348,
          23.115816,
          45.098407,
          11.151622,
          0.5789500000000001,
          1.231854,
          0.29718500000000003,
          0.04261,
          2.352865,
          3.934104,
          4.868838,
          2.514703,
          1.412048,
          0.162153,
          1.4689910000000002,
          0.17575000000000002
         ],
         "yaxis": "y"
        },
        {
         "alignmentgroup": "True",
         "hovertemplate": "Donor Name=Sweden<br>Year=%{x}<br>ODA disbursement ($million)=%{y}<extra></extra>",
         "legendgroup": "Sweden",
         "marker": {
          "color": "rgb(102, 17, 0)",
          "pattern": {
           "shape": ""
          }
         },
         "name": "Sweden",
         "offsetgroup": "Sweden",
         "orientation": "v",
         "showlegend": true,
         "textposition": "auto",
         "texttemplate": "%{y}",
         "type": "bar",
         "x": [
          2002,
          2005,
          2006,
          2007,
          2008,
          2009,
          2010,
          2011,
          2012,
          2013,
          2014,
          2015,
          2016,
          2017,
          2018,
          2019,
          2020,
          2021,
          2022,
          2023
         ],
         "xaxis": "x",
         "y": [
          0.077825,
          15.774721,
          24.120376,
          27.673506,
          17.01245,
          27.1992,
          82.04183499999999,
          39.779229,
          27.102833,
          30.565641,
          42.471733,
          25.545678,
          25.291168,
          17.986499000000002,
          14.058720000000001,
          13.052545,
          10.332042,
          10.622127,
          24.290013000000002,
          17.226478
         ],
         "yaxis": "y"
        },
        {
         "alignmentgroup": "True",
         "hovertemplate": "Donor Name=Switzerland<br>Year=%{x}<br>ODA disbursement ($million)=%{y}<extra></extra>",
         "legendgroup": "Switzerland",
         "marker": {
          "color": "rgb(136, 136, 136)",
          "pattern": {
           "shape": ""
          }
         },
         "name": "Switzerland",
         "offsetgroup": "Switzerland",
         "orientation": "v",
         "showlegend": true,
         "textposition": "auto",
         "texttemplate": "%{y}",
         "type": "bar",
         "x": [
          2002,
          2003,
          2004,
          2005,
          2006,
          2007,
          2008,
          2009,
          2010,
          2011,
          2012,
          2013,
          2014,
          2015,
          2016,
          2017,
          2018,
          2019,
          2020,
          2021,
          2022,
          2023
         ],
         "xaxis": "x",
         "y": [
          35.662216,
          42.358425,
          37.32819,
          52.931495,
          44.10375,
          41.151127,
          38.416247,
          42.541133,
          51.570506,
          37.766139,
          30.185811,
          38.945661,
          45.29559,
          40.758026,
          39.892102,
          40.049302,
          25.367078,
          17.171635,
          6.674697,
          1.65999,
          12.472807,
          5.2398880000000005
         ],
         "yaxis": "y"
        },
        {
         "alignmentgroup": "True",
         "hovertemplate": "Donor Name=UNAIDS<br>Year=%{x}<br>ODA disbursement ($million)=%{y}<extra></extra>",
         "legendgroup": "UNAIDS",
         "marker": {
          "color": "rgb(136, 204, 238)",
          "pattern": {
           "shape": ""
          }
         },
         "name": "UNAIDS",
         "offsetgroup": "UNAIDS",
         "orientation": "v",
         "showlegend": true,
         "textposition": "auto",
         "texttemplate": "%{y}",
         "type": "bar",
         "x": [
          2002,
          2003,
          2005,
          2006,
          2007,
          2008,
          2009,
          2010,
          2011,
          2012,
          2013,
          2014,
          2015,
          2016,
          2017,
          2018,
          2019,
          2022,
          2023
         ],
         "xaxis": "x",
         "y": [
          0.10056599999999999,
          0.818496,
          0.578528,
          1.329996,
          2.382543,
          1.0225140000000001,
          2.119533,
          1.510969,
          1.6407479999999999,
          1.878616,
          1.174103,
          1.288898,
          1.569601,
          1.463424,
          1.292206,
          0.5178550000000001,
          1.451285,
          0.010506999999999999,
          0.52698
         ],
         "yaxis": "y"
        },
        {
         "alignmentgroup": "True",
         "hovertemplate": "Donor Name=UNFPA<br>Year=%{x}<br>ODA disbursement ($million)=%{y}<extra></extra>",
         "legendgroup": "UNFPA",
         "marker": {
          "color": "rgb(204, 102, 119)",
          "pattern": {
           "shape": ""
          }
         },
         "name": "UNFPA",
         "offsetgroup": "UNFPA",
         "orientation": "v",
         "showlegend": true,
         "textposition": "auto",
         "texttemplate": "%{y}",
         "type": "bar",
         "x": [
          2002,
          2003,
          2004,
          2005,
          2006,
          2007,
          2008,
          2009,
          2010,
          2011,
          2012,
          2013,
          2014,
          2015,
          2016,
          2017,
          2018,
          2019,
          2020,
          2021,
          2022,
          2023
         ],
         "xaxis": "x",
         "y": [
          10.99558,
          21.08411,
          11.328427,
          17.449731,
          14.195072,
          14.803857,
          13.932545000000001,
          16.571158,
          22.645682,
          19.639076,
          13.671874,
          9.961866,
          11.768802,
          14.455653,
          12.474077,
          8.128375,
          7.0932129999999995,
          11.376865,
          11.964517,
          12.175922,
          11.697305,
          15.2045
         ],
         "yaxis": "y"
        },
        {
         "alignmentgroup": "True",
         "hovertemplate": "Donor Name=UNICEF<br>Year=%{x}<br>ODA disbursement ($million)=%{y}<extra></extra>",
         "legendgroup": "UNICEF",
         "marker": {
          "color": "rgb(221, 204, 119)",
          "pattern": {
           "shape": ""
          }
         },
         "name": "UNICEF",
         "offsetgroup": "UNICEF",
         "orientation": "v",
         "showlegend": true,
         "textposition": "auto",
         "texttemplate": "%{y}",
         "type": "bar",
         "x": [
          2002,
          2003,
          2004,
          2005,
          2006,
          2007,
          2008,
          2009,
          2010,
          2011,
          2012,
          2013,
          2014,
          2015,
          2016,
          2017,
          2018,
          2019,
          2020,
          2021,
          2022,
          2023
         ],
         "xaxis": "x",
         "y": [
          27.946894999999998,
          32.643485,
          28.736135,
          31.391837,
          33.399557,
          35.922634,
          43.310057,
          41.712181,
          49.732606,
          45.529658,
          41.152499,
          34.468935,
          37.235359,
          58.010651,
          69.967359,
          68.389106,
          70.746604,
          81.100775,
          77.583486,
          75.543463,
          76.237311,
          105.932
         ],
         "yaxis": "y"
        },
        {
         "alignmentgroup": "True",
         "hovertemplate": "Donor Name=United Kingdom<br>Year=%{x}<br>ODA disbursement ($million)=%{y}<extra></extra>",
         "legendgroup": "United Kingdom",
         "marker": {
          "color": "rgb(17, 119, 51)",
          "pattern": {
           "shape": ""
          }
         },
         "name": "United Kingdom",
         "offsetgroup": "United Kingdom",
         "orientation": "v",
         "showlegend": true,
         "textposition": "auto",
         "texttemplate": "%{y}",
         "type": "bar",
         "x": [
          2002,
          2003,
          2004,
          2005,
          2006,
          2007,
          2008,
          2009,
          2010,
          2011,
          2012,
          2013,
          2014,
          2015,
          2016,
          2017,
          2018,
          2019,
          2020,
          2021,
          2022,
          2023
         ],
         "xaxis": "x",
         "y": [
          145.138531,
          272.40161,
          190.052233,
          166.771837,
          404.389707,
          371.799785,
          503.103291,
          463.015192,
          632.680572,
          685.86661,
          617.262583,
          1081.640744,
          869.771246,
          1169.888819,
          1349.073198,
          1137.492891,
          999.102879,
          865.804822,
          559.486046,
          557.496793,
          235.393945,
          174.419722
         ],
         "yaxis": "y"
        },
        {
         "alignmentgroup": "True",
         "hovertemplate": "Donor Name=United States<br>Year=%{x}<br>ODA disbursement ($million)=%{y}<extra></extra>",
         "legendgroup": "United States",
         "marker": {
          "color": "rgb(51, 34, 136)",
          "pattern": {
           "shape": ""
          }
         },
         "name": "United States",
         "offsetgroup": "United States",
         "orientation": "v",
         "showlegend": true,
         "textposition": "auto",
         "texttemplate": "%{y}",
         "type": "bar",
         "x": [
          2002,
          2003,
          2004,
          2005,
          2006,
          2007,
          2008,
          2009,
          2010,
          2011,
          2012,
          2013,
          2014,
          2015,
          2016,
          2017,
          2018,
          2019,
          2020,
          2021,
          2022,
          2023
         ],
         "xaxis": "x",
         "y": [
          3441.0537689999996,
          2852.915699,
          199.326164,
          840.262718,
          1210.725222,
          1066.89523,
          847.383663,
          1402.340522,
          2847.4048080000002,
          2994.8233,
          1463.685675,
          1409.229906,
          1806.431442,
          1761.4073290000001,
          1453.639926,
          1196.088208,
          1033.312455,
          831.041654,
          658.839792,
          522.839329,
          405.372914,
          554.244188
         ],
         "yaxis": "y"
        },
        {
         "alignmentgroup": "True",
         "hovertemplate": "Donor Name=Denmark<br>Year=%{x}<br>ODA disbursement ($million)=%{y}<extra></extra>",
         "legendgroup": "Denmark",
         "marker": {
          "color": "rgb(170, 68, 153)",
          "pattern": {
           "shape": ""
          }
         },
         "name": "Denmark",
         "offsetgroup": "Denmark",
         "orientation": "v",
         "showlegend": true,
         "textposition": "auto",
         "texttemplate": "%{y}",
         "type": "bar",
         "x": [
          2003,
          2006,
          2007,
          2008,
          2009,
          2010,
          2011,
          2012,
          2013,
          2014,
          2015,
          2016,
          2017,
          2018,
          2019,
          2020,
          2021,
          2022,
          2023
         ],
         "xaxis": "x",
         "y": [
          0.900817,
          0.724426,
          0.60329,
          -0.009755,
          7.469612,
          59.430729,
          34.558018,
          30.192566,
          20.132721,
          34.958498,
          33.572212,
          15.23295,
          5.964747,
          13.717465,
          2.658907,
          16.329798,
          11.186698,
          18.954937,
          7.690374
         ],
         "yaxis": "y"
        },
        {
         "alignmentgroup": "True",
         "hovertemplate": "Donor Name=EU Institutions<br>Year=%{x}<br>ODA disbursement ($million)=%{y}<extra></extra>",
         "legendgroup": "EU Institutions",
         "marker": {
          "color": "rgb(68, 170, 153)",
          "pattern": {
           "shape": ""
          }
         },
         "name": "EU Institutions",
         "offsetgroup": "EU Institutions",
         "orientation": "v",
         "showlegend": true,
         "textposition": "auto",
         "texttemplate": "%{y}",
         "type": "bar",
         "x": [
          2003,
          2005,
          2006,
          2007,
          2008,
          2009,
          2010,
          2011,
          2012,
          2013,
          2014,
          2015,
          2016,
          2017,
          2018,
          2019,
          2020,
          2021,
          2022,
          2023
         ],
         "xaxis": "x",
         "y": [
          4.563525,
          95.554805,
          233.442665,
          139.898605,
          124.55843899999999,
          196.479066,
          354.363845,
          512.057931,
          392.315657,
          286.231806,
          321.258358,
          270.348388,
          308.186549,
          286.515662,
          282.822067,
          237.04279300000002,
          279.709536,
          236.609353,
          251.266463,
          205.166564
         ],
         "yaxis": "y"
        },
        {
         "alignmentgroup": "True",
         "hovertemplate": "Donor Name=Global Fund<br>Year=%{x}<br>ODA disbursement ($million)=%{y}<extra></extra>",
         "legendgroup": "Global Fund",
         "marker": {
          "color": "rgb(153, 153, 51)",
          "pattern": {
           "shape": ""
          }
         },
         "name": "Global Fund",
         "offsetgroup": "Global Fund",
         "orientation": "v",
         "showlegend": true,
         "textposition": "auto",
         "texttemplate": "%{y}",
         "type": "bar",
         "x": [
          2003,
          2004,
          2005,
          2006,
          2007,
          2008,
          2009,
          2010,
          2011,
          2012,
          2013,
          2014,
          2015,
          2016,
          2017,
          2018,
          2019,
          2020,
          2021,
          2022,
          2023
         ],
         "xaxis": "x",
         "y": [
          4.064033,
          11.086687999999999,
          7.092666,
          13.805745,
          25.812338,
          18.807539,
          36.879452,
          52.904476,
          20.270716,
          94.69532,
          157.41165,
          80.575707,
          90.633069,
          140.319799,
          211.52772199999998,
          134.140679,
          124.574147,
          136.248223,
          161.85405500000002,
          232.66396600000002,
          370.742662
         ],
         "yaxis": "y"
        },
        {
         "alignmentgroup": "True",
         "hovertemplate": "Donor Name=UNDP<br>Year=%{x}<br>ODA disbursement ($million)=%{y}<extra></extra>",
         "legendgroup": "UNDP",
         "marker": {
          "color": "rgb(136, 34, 85)",
          "pattern": {
           "shape": ""
          }
         },
         "name": "UNDP",
         "offsetgroup": "UNDP",
         "orientation": "v",
         "showlegend": true,
         "textposition": "auto",
         "texttemplate": "%{y}",
         "type": "bar",
         "x": [
          2004,
          2005,
          2006,
          2007,
          2008,
          2009,
          2010,
          2011,
          2012,
          2013,
          2014,
          2015,
          2016,
          2017,
          2018,
          2019,
          2020,
          2021,
          2022
         ],
         "xaxis": "x",
         "y": [
          17.513459,
          26.860122,
          21.873658,
          26.433111,
          20.373029,
          19.963375,
          26.525917,
          22.331633,
          19.487787,
          13.453463000000001,
          14.214659,
          15.960192,
          11.809677,
          7.7126470000000005,
          3.220584,
          3.116792,
          3.372194,
          3.8734159999999997,
          4.639257
         ],
         "yaxis": "y"
        },
        {
         "alignmentgroup": "True",
         "hovertemplate": "Donor Name=Luxembourg<br>Year=%{x}<br>ODA disbursement ($million)=%{y}<extra></extra>",
         "legendgroup": "Luxembourg",
         "marker": {
          "color": "rgb(102, 17, 0)",
          "pattern": {
           "shape": ""
          }
         },
         "name": "Luxembourg",
         "offsetgroup": "Luxembourg",
         "orientation": "v",
         "showlegend": true,
         "textposition": "auto",
         "texttemplate": "%{y}",
         "type": "bar",
         "x": [
          2005,
          2006,
          2007,
          2008,
          2009,
          2010,
          2011,
          2012,
          2014,
          2015,
          2016,
          2017,
          2018,
          2022
         ],
         "xaxis": "x",
         "y": [
          10.962251,
          2.734156,
          0.969542,
          1.30477,
          3.255937,
          8.109363,
          3.9219049999999998,
          0.487796,
          0.376725,
          1.309843,
          1.2348050000000002,
          0.626913,
          0.6129169999999999,
          2.17176
         ],
         "yaxis": "y"
        },
        {
         "alignmentgroup": "True",
         "hovertemplate": "Donor Name=Korea<br>Year=%{x}<br>ODA disbursement ($million)=%{y}<extra></extra>",
         "legendgroup": "Korea",
         "marker": {
          "color": "rgb(136, 136, 136)",
          "pattern": {
           "shape": ""
          }
         },
         "name": "Korea",
         "offsetgroup": "Korea",
         "orientation": "v",
         "showlegend": true,
         "textposition": "auto",
         "texttemplate": "%{y}",
         "type": "bar",
         "x": [
          2006,
          2007,
          2008,
          2009,
          2010,
          2011,
          2012,
          2013,
          2014,
          2015,
          2016,
          2017,
          2018,
          2019,
          2020,
          2021,
          2022,
          2023
         ],
         "xaxis": "x",
         "y": [
          8.411289,
          6.470922,
          3.648732,
          4.367372,
          40.558318,
          93.226849,
          142.695758,
          71.324767,
          25.061895,
          11.360832,
          7.965534,
          6.339577,
          29.05957,
          227.755361,
          22.816345,
          54.273821,
          92.254852,
          52.108281999999996
         ],
         "yaxis": "y"
        },
        {
         "alignmentgroup": "True",
         "hovertemplate": "Donor Name=Global Alliance for Vaccines and Immunization [GAVI]<br>Year=%{x}<br>ODA disbursement ($million)=%{y}<extra></extra>",
         "legendgroup": "Global Alliance for Vaccines and Immunization [GAVI]",
         "marker": {
          "color": "rgb(136, 204, 238)",
          "pattern": {
           "shape": ""
          }
         },
         "name": "Global Alliance for Vaccines and Immunization [GAVI]",
         "offsetgroup": "Global Alliance for Vaccines and Immunization [GAVI]",
         "orientation": "v",
         "showlegend": true,
         "textposition": "auto",
         "texttemplate": "%{y}",
         "type": "bar",
         "x": [
          2007,
          2008,
          2009,
          2010,
          2011,
          2012,
          2013,
          2014,
          2015,
          2016,
          2017,
          2018,
          2019,
          2020,
          2021,
          2022,
          2023
         ],
         "xaxis": "x",
         "y": [
          66.839997,
          146.759412,
          66.84141799999999,
          199.499982,
          38.79509,
          316.53948099999997,
          351.379521,
          172.256582,
          218.062389,
          274.722463,
          264.570624,
          347.08772999999997,
          299.088211,
          562.988898,
          447.11749599999996,
          247.534539,
          150.014304
         ],
         "yaxis": "y"
        },
        {
         "alignmentgroup": "True",
         "hovertemplate": "Donor Name=WFP<br>Year=%{x}<br>ODA disbursement ($million)=%{y}<extra></extra>",
         "legendgroup": "WFP",
         "marker": {
          "color": "rgb(204, 102, 119)",
          "pattern": {
           "shape": ""
          }
         },
         "name": "WFP",
         "offsetgroup": "WFP",
         "orientation": "v",
         "showlegend": true,
         "textposition": "auto",
         "texttemplate": "%{y}",
         "type": "bar",
         "x": [
          2008,
          2009,
          2010,
          2011,
          2012,
          2013,
          2014,
          2015,
          2016,
          2017,
          2018,
          2019,
          2020,
          2021,
          2022,
          2023
         ],
         "xaxis": "x",
         "y": [
          26.883039,
          35.040834000000004,
          18.981568,
          61.496392,
          33.460304,
          9.04707,
          1.6696710000000001,
          15.151835,
          4.427584,
          6.574243,
          2.41388,
          1.132594,
          6.72123,
          5.785277,
          13.177754,
          16.685984
         ],
         "yaxis": "y"
        },
        {
         "alignmentgroup": "True",
         "hovertemplate": "Donor Name=Gates Foundation<br>Year=%{x}<br>ODA disbursement ($million)=%{y}<extra></extra>",
         "legendgroup": "Gates Foundation",
         "marker": {
          "color": "rgb(221, 204, 119)",
          "pattern": {
           "shape": ""
          }
         },
         "name": "Gates Foundation",
         "offsetgroup": "Gates Foundation",
         "orientation": "v",
         "showlegend": true,
         "textposition": "auto",
         "texttemplate": "%{y}",
         "type": "bar",
         "x": [
          2009,
          2010,
          2011,
          2012,
          2013,
          2014,
          2015,
          2016,
          2017,
          2018,
          2019,
          2020,
          2021,
          2022,
          2023
         ],
         "xaxis": "x",
         "y": [
          67.74978800000001,
          38.224437,
          193.522544,
          70.347465,
          55.135581,
          101.964329,
          119.386393,
          163.395407,
          297.745549,
          288.119249,
          271.964152,
          269.618572,
          284.05155,
          355.306434,
          339.43356
         ],
         "yaxis": "y"
        },
        {
         "alignmentgroup": "True",
         "hovertemplate": "Donor Name=OPEC Fund for International Development [OPEC Fund]<br>Year=%{x}<br>ODA disbursement ($million)=%{y}<extra></extra>",
         "legendgroup": "OPEC Fund for International Development [OPEC Fund]",
         "marker": {
          "color": "rgb(17, 119, 51)",
          "pattern": {
           "shape": ""
          }
         },
         "name": "OPEC Fund for International Development [OPEC Fund]",
         "offsetgroup": "OPEC Fund for International Development [OPEC Fund]",
         "orientation": "v",
         "showlegend": true,
         "textposition": "auto",
         "texttemplate": "%{y}",
         "type": "bar",
         "x": [
          2009,
          2010,
          2011,
          2012,
          2013,
          2014,
          2015,
          2016,
          2017,
          2018,
          2019,
          2020,
          2021,
          2022,
          2023
         ],
         "xaxis": "x",
         "y": [
          49.382142,
          8.069631000000001,
          17.416876,
          80.62976499999999,
          55.425042,
          141.689337,
          61.91782,
          118.858119,
          100.47498399999999,
          123.46241699999999,
          151.600362,
          123.007892,
          131.23941100000002,
          204.855034,
          58.938539999999996
         ],
         "yaxis": "y"
        },
        {
         "alignmentgroup": "True",
         "hovertemplate": "Donor Name=United Arab Emirates<br>Year=%{x}<br>ODA disbursement ($million)=%{y}<extra></extra>",
         "legendgroup": "United Arab Emirates",
         "marker": {
          "color": "rgb(51, 34, 136)",
          "pattern": {
           "shape": ""
          }
         },
         "name": "United Arab Emirates",
         "offsetgroup": "United Arab Emirates",
         "orientation": "v",
         "showlegend": true,
         "textposition": "auto",
         "texttemplate": "%{y}",
         "type": "bar",
         "x": [
          2009,
          2010,
          2011,
          2012,
          2013,
          2014,
          2015,
          2016,
          2017,
          2018,
          2019,
          2020,
          2021,
          2022,
          2023
         ],
         "xaxis": "x",
         "y": [
          333.549864,
          133.843346,
          144.837185,
          182.442778,
          285.863837,
          184.07942,
          178.112054,
          65.893943,
          73.299875,
          136.11710399999998,
          263.288887,
          99.199634,
          46.773982000000004,
          126.901374,
          34.18741
         ],
         "yaxis": "y"
        },
        {
         "alignmentgroup": "True",
         "hovertemplate": "Donor Name=Adaptation Fund<br>Year=%{x}<br>ODA disbursement ($million)=%{y}<extra></extra>",
         "legendgroup": "Adaptation Fund",
         "marker": {
          "color": "rgb(170, 68, 153)",
          "pattern": {
           "shape": ""
          }
         },
         "name": "Adaptation Fund",
         "offsetgroup": "Adaptation Fund",
         "orientation": "v",
         "showlegend": true,
         "textposition": "auto",
         "texttemplate": "%{y}",
         "type": "bar",
         "x": [
          2010,
          2014,
          2015,
          2020,
          2022
         ],
         "xaxis": "x",
         "y": [
          7.507612,
          1.9304999999999999,
          0.681898,
          0.914609,
          4.974584999999999
         ],
         "yaxis": "y"
        },
        {
         "alignmentgroup": "True",
         "hovertemplate": "Donor Name=Asian Development Bank [AsDB]<br>Year=%{x}<br>ODA disbursement ($million)=%{y}<extra></extra>",
         "legendgroup": "Asian Development Bank [AsDB]",
         "marker": {
          "color": "rgb(68, 170, 153)",
          "pattern": {
           "shape": ""
          }
         },
         "name": "Asian Development Bank [AsDB]",
         "offsetgroup": "Asian Development Bank [AsDB]",
         "orientation": "v",
         "showlegend": true,
         "textposition": "auto",
         "texttemplate": "%{y}",
         "type": "bar",
         "x": [
          2010,
          2011,
          2012,
          2013,
          2014,
          2015,
          2016,
          2017,
          2018,
          2019,
          2020,
          2021,
          2022,
          2023
         ],
         "xaxis": "x",
         "y": [
          1671.565116,
          1112.674709,
          1066.004167,
          1063.943059,
          1765.03055,
          1719.756734,
          2637.4523,
          2900.7649030000002,
          1543.40795,
          4869.078714,
          3731.793817,
          2661.943314,
          5100.257082,
          2004.003788
         ],
         "yaxis": "y"
        },
        {
         "alignmentgroup": "True",
         "hovertemplate": "Donor Name=Kuwait<br>Year=%{x}<br>ODA disbursement ($million)=%{y}<extra></extra>",
         "legendgroup": "Kuwait",
         "marker": {
          "color": "rgb(153, 153, 51)",
          "pattern": {
           "shape": ""
          }
         },
         "name": "Kuwait",
         "offsetgroup": "Kuwait",
         "orientation": "v",
         "showlegend": true,
         "textposition": "auto",
         "texttemplate": "%{y}",
         "type": "bar",
         "x": [
          2010,
          2011,
          2012,
          2013,
          2014,
          2015,
          2016,
          2017,
          2020,
          2022
         ],
         "xaxis": "x",
         "y": [
          15.645783,
          21.830813,
          68.957154,
          33.493417,
          20.324393,
          95.45905599999999,
          37.828995,
          27.994802,
          12.580425,
          0.214124
         ],
         "yaxis": "y"
        },
        {
         "alignmentgroup": "True",
         "hovertemplate": "Donor Name=Slovenia<br>Year=%{x}<br>ODA disbursement ($million)=%{y}<extra></extra>",
         "legendgroup": "Slovenia",
         "marker": {
          "color": "rgb(136, 34, 85)",
          "pattern": {
           "shape": ""
          }
         },
         "name": "Slovenia",
         "offsetgroup": "Slovenia",
         "orientation": "v",
         "showlegend": true,
         "textposition": "auto",
         "texttemplate": "%{y}",
         "type": "bar",
         "x": [
          2010,
          2022
         ],
         "xaxis": "x",
         "y": [
          0.08394499999999999,
          0.298135
         ],
         "yaxis": "y"
        },
        {
         "alignmentgroup": "True",
         "hovertemplate": "Donor Name=Czechia<br>Year=%{x}<br>ODA disbursement ($million)=%{y}<extra></extra>",
         "legendgroup": "Czechia",
         "marker": {
          "color": "rgb(102, 17, 0)",
          "pattern": {
           "shape": ""
          }
         },
         "name": "Czechia",
         "offsetgroup": "Czechia",
         "orientation": "v",
         "showlegend": true,
         "textposition": "auto",
         "texttemplate": "%{y}",
         "type": "bar",
         "x": [
          2011,
          2012,
          2013,
          2014,
          2015,
          2016,
          2017,
          2018,
          2019,
          2021,
          2022,
          2023
         ],
         "xaxis": "x",
         "y": [
          1.6176840000000001,
          1.089187,
          0.200604,
          0.299033,
          0.031105,
          0.028427,
          0.06137,
          0.021214,
          0.073766,
          0.049538,
          0.159091,
          0.058632000000000004
         ],
         "yaxis": "y"
        },
        {
         "alignmentgroup": "True",
         "hovertemplate": "Donor Name=Iceland<br>Year=%{x}<br>ODA disbursement ($million)=%{y}<extra></extra>",
         "legendgroup": "Iceland",
         "marker": {
          "color": "rgb(136, 136, 136)",
          "pattern": {
           "shape": ""
          }
         },
         "name": "Iceland",
         "offsetgroup": "Iceland",
         "orientation": "v",
         "showlegend": true,
         "textposition": "auto",
         "texttemplate": "%{y}",
         "type": "bar",
         "x": [
          2011,
          2013,
          2022,
          2023
         ],
         "xaxis": "x",
         "y": [
          0.136691,
          0.34403,
          0.451616,
          0.024008
         ],
         "yaxis": "y"
        },
        {
         "alignmentgroup": "True",
         "hovertemplate": "Donor Name=World Health Organisation [WHO]<br>Year=%{x}<br>ODA disbursement ($million)=%{y}<extra></extra>",
         "legendgroup": "World Health Organisation [WHO]",
         "marker": {
          "color": "rgb(136, 204, 238)",
          "pattern": {
           "shape": ""
          }
         },
         "name": "World Health Organisation [WHO]",
         "offsetgroup": "World Health Organisation [WHO]",
         "orientation": "v",
         "showlegend": true,
         "textposition": "auto",
         "texttemplate": "%{y}",
         "type": "bar",
         "x": [
          2011,
          2012,
          2013,
          2014,
          2015,
          2016,
          2017,
          2018,
          2019,
          2020,
          2021,
          2022,
          2023
         ],
         "xaxis": "x",
         "y": [
          3.376214,
          1.457977,
          2.261558,
          2.985623,
          5.699788,
          4.639478,
          4.606681,
          6.8660820000000005,
          7.321732,
          2.907819,
          5.305212,
          3.4148870000000002,
          5.044258
         ],
         "yaxis": "y"
        },
        {
         "alignmentgroup": "True",
         "hovertemplate": "Donor Name=International Labour Organisation [ILO]<br>Year=%{x}<br>ODA disbursement ($million)=%{y}<extra></extra>",
         "legendgroup": "International Labour Organisation [ILO]",
         "marker": {
          "color": "rgb(204, 102, 119)",
          "pattern": {
           "shape": ""
          }
         },
         "name": "International Labour Organisation [ILO]",
         "offsetgroup": "International Labour Organisation [ILO]",
         "orientation": "v",
         "showlegend": true,
         "textposition": "auto",
         "texttemplate": "%{y}",
         "type": "bar",
         "x": [
          2012,
          2013,
          2014,
          2015,
          2016,
          2017,
          2018,
          2019,
          2020,
          2021,
          2022,
          2023
         ],
         "xaxis": "x",
         "y": [
          2.441284,
          2.705722,
          2.574306,
          3.035892,
          2.929973,
          3.036416,
          4.412921,
          5.212451,
          3.05497,
          3.377843,
          3.330295,
          4.88147
         ],
         "yaxis": "y"
        },
        {
         "alignmentgroup": "True",
         "hovertemplate": "Donor Name=Islamic Development Bank [IsDB]<br>Year=%{x}<br>ODA disbursement ($million)=%{y}<extra></extra>",
         "legendgroup": "Islamic Development Bank [IsDB]",
         "marker": {
          "color": "rgb(221, 204, 119)",
          "pattern": {
           "shape": ""
          }
         },
         "name": "Islamic Development Bank [IsDB]",
         "offsetgroup": "Islamic Development Bank [IsDB]",
         "orientation": "v",
         "showlegend": true,
         "textposition": "auto",
         "texttemplate": "%{y}",
         "type": "bar",
         "x": [
          2012,
          2013,
          2014,
          2015,
          2016,
          2017,
          2018,
          2019,
          2020,
          2021,
          2022,
          2023
         ],
         "xaxis": "x",
         "y": [
          317.037679,
          538.414652,
          415.98314700000003,
          284.876843,
          309.475646,
          400.936312,
          66.378703,
          127.626526,
          116.128482,
          2401.493028,
          1223.186952,
          326.444726
         ],
         "yaxis": "y"
        },
        {
         "alignmentgroup": "True",
         "hovertemplate": "Donor Name=Estonia<br>Year=%{x}<br>ODA disbursement ($million)=%{y}<extra></extra>",
         "legendgroup": "Estonia",
         "marker": {
          "color": "rgb(17, 119, 51)",
          "pattern": {
           "shape": ""
          }
         },
         "name": "Estonia",
         "offsetgroup": "Estonia",
         "orientation": "v",
         "showlegend": true,
         "textposition": "auto",
         "texttemplate": "%{y}",
         "type": "bar",
         "x": [
          2013,
          2021,
          2022
         ],
         "xaxis": "x",
         "y": [
          0.04283,
          0.523577,
          0.111117
         ],
         "yaxis": "y"
        },
        {
         "alignmentgroup": "True",
         "hovertemplate": "Donor Name=Food and Agriculture Organisation [FAO]<br>Year=%{x}<br>ODA disbursement ($million)=%{y}<extra></extra>",
         "legendgroup": "Food and Agriculture Organisation [FAO]",
         "marker": {
          "color": "rgb(51, 34, 136)",
          "pattern": {
           "shape": ""
          }
         },
         "name": "Food and Agriculture Organisation [FAO]",
         "offsetgroup": "Food and Agriculture Organisation [FAO]",
         "orientation": "v",
         "showlegend": true,
         "textposition": "auto",
         "texttemplate": "%{y}",
         "type": "bar",
         "x": [
          2013,
          2018,
          2019,
          2020,
          2021,
          2022,
          2023
         ],
         "xaxis": "x",
         "y": [
          0.135237,
          0.863818,
          1.59432,
          1.320814,
          1.525112,
          1.455709,
          1.936666
         ],
         "yaxis": "y"
        },
        {
         "alignmentgroup": "True",
         "hovertemplate": "Donor Name=Poland<br>Year=%{x}<br>ODA disbursement ($million)=%{y}<extra></extra>",
         "legendgroup": "Poland",
         "marker": {
          "color": "rgb(170, 68, 153)",
          "pattern": {
           "shape": ""
          }
         },
         "name": "Poland",
         "offsetgroup": "Poland",
         "orientation": "v",
         "showlegend": true,
         "textposition": "auto",
         "texttemplate": "%{y}",
         "type": "bar",
         "x": [
          2013,
          2014,
          2015,
          2016,
          2017,
          2018,
          2019,
          2020,
          2021,
          2022,
          2023
         ],
         "xaxis": "x",
         "y": [
          0.080303,
          0.086501,
          0.11399999999999999,
          0.086818,
          0.159943,
          0.200806,
          1.8385960000000001,
          2.406197,
          2.8980930000000003,
          2.333508,
          3.7182399999999998
         ],
         "yaxis": "y"
        },
        {
         "alignmentgroup": "True",
         "hovertemplate": "Donor Name=Slovak Republic<br>Year=%{x}<br>ODA disbursement ($million)=%{y}<extra></extra>",
         "legendgroup": "Slovak Republic",
         "marker": {
          "color": "rgb(68, 170, 153)",
          "pattern": {
           "shape": ""
          }
         },
         "name": "Slovak Republic",
         "offsetgroup": "Slovak Republic",
         "orientation": "v",
         "showlegend": true,
         "textposition": "auto",
         "texttemplate": "%{y}",
         "type": "bar",
         "x": [
          2013
         ],
         "xaxis": "x",
         "y": [
          0.018256
         ],
         "yaxis": "y"
        },
        {
         "alignmentgroup": "True",
         "hovertemplate": "Donor Name=Azerbaijan<br>Year=%{x}<br>ODA disbursement ($million)=%{y}<extra></extra>",
         "legendgroup": "Azerbaijan",
         "marker": {
          "color": "rgb(153, 153, 51)",
          "pattern": {
           "shape": ""
          }
         },
         "name": "Azerbaijan",
         "offsetgroup": "Azerbaijan",
         "orientation": "v",
         "showlegend": true,
         "textposition": "auto",
         "texttemplate": "%{y}",
         "type": "bar",
         "x": [
          2014,
          2015,
          2020,
          2022,
          2023
         ],
         "xaxis": "x",
         "y": [
          0.306137,
          0.107597,
          4.158634,
          4.096138,
          4
         ],
         "yaxis": "y"
        },
        {
         "alignmentgroup": "True",
         "hovertemplate": "Donor Name=Conrad N. Hilton Foundation<br>Year=%{x}<br>ODA disbursement ($million)=%{y}<extra></extra>",
         "legendgroup": "Conrad N. Hilton Foundation",
         "marker": {
          "color": "rgb(136, 34, 85)",
          "pattern": {
           "shape": ""
          }
         },
         "name": "Conrad N. Hilton Foundation",
         "offsetgroup": "Conrad N. Hilton Foundation",
         "orientation": "v",
         "showlegend": true,
         "textposition": "auto",
         "texttemplate": "%{y}",
         "type": "bar",
         "x": [
          2014,
          2020,
          2022
         ],
         "xaxis": "x",
         "y": [
          0.226812,
          0.17824299999999998,
          2.035984
         ],
         "yaxis": "y"
        },
        {
         "alignmentgroup": "True",
         "hovertemplate": "Donor Name=Romania<br>Year=%{x}<br>ODA disbursement ($million)=%{y}<extra></extra>",
         "legendgroup": "Romania",
         "marker": {
          "color": "rgb(102, 17, 0)",
          "pattern": {
           "shape": ""
          }
         },
         "name": "Romania",
         "offsetgroup": "Romania",
         "orientation": "v",
         "showlegend": true,
         "textposition": "auto",
         "texttemplate": "%{y}",
         "type": "bar",
         "x": [
          2014,
          2015,
          2016,
          2017,
          2018,
          2019,
          2020,
          2021,
          2022,
          2023
         ],
         "xaxis": "x",
         "y": [
          0.20224399999999998,
          0.290204,
          0.10736400000000001,
          0.06523899999999999,
          0.038474,
          0.057572,
          0.047877,
          0.050603,
          0.297604,
          0.195699
         ],
         "yaxis": "y"
        },
        {
         "alignmentgroup": "True",
         "hovertemplate": "Donor Name=Hungary<br>Year=%{x}<br>ODA disbursement ($million)=%{y}<extra></extra>",
         "legendgroup": "Hungary",
         "marker": {
          "color": "rgb(136, 136, 136)",
          "pattern": {
           "shape": ""
          }
         },
         "name": "Hungary",
         "offsetgroup": "Hungary",
         "orientation": "v",
         "showlegend": true,
         "textposition": "auto",
         "texttemplate": "%{y}",
         "type": "bar",
         "x": [
          2015,
          2016,
          2017,
          2018,
          2019,
          2020,
          2021,
          2022,
          2023
         ],
         "xaxis": "x",
         "y": [
          0.07828099999999999,
          0.660242,
          0.89028,
          4.888872999999999,
          8.715060000000001,
          10.566376,
          10.59455,
          13.388729,
          7.792692
         ],
         "yaxis": "y"
        },
        {
         "alignmentgroup": "True",
         "hovertemplate": "Donor Name=IFAD<br>Year=%{x}<br>ODA disbursement ($million)=%{y}<extra></extra>",
         "legendgroup": "IFAD",
         "marker": {
          "color": "rgb(136, 204, 238)",
          "pattern": {
           "shape": ""
          }
         },
         "name": "IFAD",
         "offsetgroup": "IFAD",
         "orientation": "v",
         "showlegend": true,
         "textposition": "auto",
         "texttemplate": "%{y}",
         "type": "bar",
         "x": [
          2015,
          2016,
          2017,
          2018,
          2019,
          2020,
          2021,
          2022,
          2023
         ],
         "xaxis": "x",
         "y": [
          34.699138,
          38.419883,
          25.111697,
          51.628339999999994,
          70.72183,
          42.336501999999996,
          86.465366,
          132.658932,
          62.44292
         ],
         "yaxis": "y"
        },
        {
         "alignmentgroup": "True",
         "hovertemplate": "Donor Name=International Atomic Energy Agency [IAEA]<br>Year=%{x}<br>ODA disbursement ($million)=%{y}<extra></extra>",
         "legendgroup": "International Atomic Energy Agency [IAEA]",
         "marker": {
          "color": "rgb(204, 102, 119)",
          "pattern": {
           "shape": ""
          }
         },
         "name": "International Atomic Energy Agency [IAEA]",
         "offsetgroup": "International Atomic Energy Agency [IAEA]",
         "orientation": "v",
         "showlegend": true,
         "textposition": "auto",
         "texttemplate": "%{y}",
         "type": "bar",
         "x": [
          2015,
          2016,
          2017,
          2018,
          2019,
          2020,
          2021,
          2022,
          2023
         ],
         "xaxis": "x",
         "y": [
          2.793678,
          1.0407790000000001,
          2.1779029999999997,
          2.1921,
          1.781197,
          0.940962,
          1.789595,
          1.14707,
          2.68648
         ],
         "yaxis": "y"
        },
        {
         "alignmentgroup": "True",
         "hovertemplate": "Donor Name=Kazakhstan<br>Year=%{x}<br>ODA disbursement ($million)=%{y}<extra></extra>",
         "legendgroup": "Kazakhstan",
         "marker": {
          "color": "rgb(221, 204, 119)",
          "pattern": {
           "shape": ""
          }
         },
         "name": "Kazakhstan",
         "offsetgroup": "Kazakhstan",
         "orientation": "v",
         "showlegend": true,
         "textposition": "auto",
         "texttemplate": "%{y}",
         "type": "bar",
         "x": [
          2015,
          2022
         ],
         "xaxis": "x",
         "y": [
          0.20147500000000002,
          0.8192280000000001
         ],
         "yaxis": "y"
        },
        {
         "alignmentgroup": "True",
         "hovertemplate": "Donor Name=Laudes Foundation<br>Year=%{x}<br>ODA disbursement ($million)=%{y}<extra></extra>",
         "legendgroup": "Laudes Foundation",
         "marker": {
          "color": "rgb(17, 119, 51)",
          "pattern": {
           "shape": ""
          }
         },
         "name": "Laudes Foundation",
         "offsetgroup": "Laudes Foundation",
         "orientation": "v",
         "showlegend": true,
         "textposition": "auto",
         "texttemplate": "%{y}",
         "type": "bar",
         "x": [
          2015,
          2016,
          2019,
          2020,
          2021,
          2022,
          2023
         ],
         "xaxis": "x",
         "y": [
          0.07767199999999999,
          1.92164,
          5.257859000000001,
          0.305769,
          0.972734,
          1.361839,
          4.641126
         ],
         "yaxis": "y"
        },
        {
         "alignmentgroup": "True",
         "hovertemplate": "Donor Name=Lithuania<br>Year=%{x}<br>ODA disbursement ($million)=%{y}<extra></extra>",
         "legendgroup": "Lithuania",
         "marker": {
          "color": "rgb(51, 34, 136)",
          "pattern": {
           "shape": ""
          }
         },
         "name": "Lithuania",
         "offsetgroup": "Lithuania",
         "orientation": "v",
         "showlegend": true,
         "textposition": "auto",
         "texttemplate": "%{y}",
         "type": "bar",
         "x": [
          2015,
          2016,
          2018,
          2019,
          2020,
          2021,
          2022,
          2023
         ],
         "xaxis": "x",
         "y": [
          0.023422,
          0.013014,
          0.000768,
          0.005926,
          0.022327,
          0.07994,
          0.18457300000000001,
          0.035572
         ],
         "yaxis": "y"
        },
        {
         "alignmentgroup": "True",
         "hovertemplate": "Donor Name=Saudi Arabia<br>Year=%{x}<br>ODA disbursement ($million)=%{y}<extra></extra>",
         "legendgroup": "Saudi Arabia",
         "marker": {
          "color": "rgb(170, 68, 153)",
          "pattern": {
           "shape": ""
          }
         },
         "name": "Saudi Arabia",
         "offsetgroup": "Saudi Arabia",
         "orientation": "v",
         "showlegend": true,
         "textposition": "auto",
         "texttemplate": "%{y}",
         "type": "bar",
         "x": [
          2015,
          2016,
          2017,
          2018,
          2019,
          2020,
          2021,
          2022,
          2023
         ],
         "xaxis": "x",
         "y": [
          49.131771,
          52.882602000000006,
          205.280771,
          91.147803,
          55.783672,
          21.659952,
          42.648303,
          50.403792,
          4085.600138
         ],
         "yaxis": "y"
        },
        {
         "alignmentgroup": "True",
         "hovertemplate": "Donor Name=Thailand<br>Year=%{x}<br>ODA disbursement ($million)=%{y}<extra></extra>",
         "legendgroup": "Thailand",
         "marker": {
          "color": "rgb(68, 170, 153)",
          "pattern": {
           "shape": ""
          }
         },
         "name": "Thailand",
         "offsetgroup": "Thailand",
         "orientation": "v",
         "showlegend": true,
         "textposition": "auto",
         "texttemplate": "%{y}",
         "type": "bar",
         "x": [
          2015,
          2016,
          2017,
          2018,
          2019,
          2020,
          2021,
          2022
         ],
         "xaxis": "x",
         "y": [
          2.695182,
          0.14438800000000002,
          0.274974,
          0.494743,
          0.262162,
          0.50795,
          0.091615,
          0.412267
         ],
         "yaxis": "y"
        },
        {
         "alignmentgroup": "True",
         "hovertemplate": "Donor Name=Türkiye<br>Year=%{x}<br>ODA disbursement ($million)=%{y}<extra></extra>",
         "legendgroup": "Türkiye",
         "marker": {
          "color": "rgb(153, 153, 51)",
          "pattern": {
           "shape": ""
          }
         },
         "name": "Türkiye",
         "offsetgroup": "Türkiye",
         "orientation": "v",
         "showlegend": true,
         "textposition": "auto",
         "texttemplate": "%{y}",
         "type": "bar",
         "x": [
          2015,
          2016,
          2017,
          2018,
          2019,
          2020,
          2021,
          2022,
          2023
         ],
         "xaxis": "x",
         "y": [
          3.647611,
          8.917200000000001,
          21.734104000000002,
          13.676628,
          6.608376,
          6.896817,
          6.655573,
          15.255984,
          8.118558
         ],
         "yaxis": "y"
        },
        {
         "alignmentgroup": "True",
         "hovertemplate": "Donor Name=Asian Infrastructure Investment Bank [AIIB]<br>Year=%{x}<br>ODA disbursement ($million)=%{y}<extra></extra>",
         "legendgroup": "Asian Infrastructure Investment Bank [AIIB]",
         "marker": {
          "color": "rgb(136, 34, 85)",
          "pattern": {
           "shape": ""
          }
         },
         "name": "Asian Infrastructure Investment Bank [AIIB]",
         "offsetgroup": "Asian Infrastructure Investment Bank [AIIB]",
         "orientation": "v",
         "showlegend": true,
         "textposition": "auto",
         "texttemplate": "%{y}",
         "type": "bar",
         "x": [
          2016,
          2017,
          2018,
          2019,
          2020,
          2021,
          2022,
          2023
         ],
         "xaxis": "x",
         "y": [
          20.829849,
          51.384974,
          56.18804,
          40.329204,
          1571.6964389999998,
          83.503905,
          1058.579812,
          672.38943
         ],
         "yaxis": "y"
        },
        {
         "alignmentgroup": "True",
         "hovertemplate": "Donor Name=Green Climate Fund [GCF]<br>Year=%{x}<br>ODA disbursement ($million)=%{y}<extra></extra>",
         "legendgroup": "Green Climate Fund [GCF]",
         "marker": {
          "color": "rgb(102, 17, 0)",
          "pattern": {
           "shape": ""
          }
         },
         "name": "Green Climate Fund [GCF]",
         "offsetgroup": "Green Climate Fund [GCF]",
         "orientation": "v",
         "showlegend": true,
         "textposition": "auto",
         "texttemplate": "%{y}",
         "type": "bar",
         "x": [
          2016,
          2017,
          2018,
          2019,
          2020,
          2021,
          2022,
          2023
         ],
         "xaxis": "x",
         "y": [
          0.368634,
          0.267471,
          23.574944,
          0.43844,
          13.441549,
          18.868793999999998,
          15.76755,
          15.397478
         ],
         "yaxis": "y"
        },
        {
         "alignmentgroup": "True",
         "hovertemplate": "Donor Name=H&M Foundation<br>Year=%{x}<br>ODA disbursement ($million)=%{y}<extra></extra>",
         "legendgroup": "H&M Foundation",
         "marker": {
          "color": "rgb(136, 136, 136)",
          "pattern": {
           "shape": ""
          }
         },
         "name": "H&M Foundation",
         "offsetgroup": "H&M Foundation",
         "orientation": "v",
         "showlegend": true,
         "textposition": "auto",
         "texttemplate": "%{y}",
         "type": "bar",
         "x": [
          2016,
          2017,
          2018,
          2019,
          2022
         ],
         "xaxis": "x",
         "y": [
          0.7072229999999999,
          1.866518,
          1.349984,
          1.262697,
          0.502922
         ],
         "yaxis": "y"
        },
        {
         "alignmentgroup": "True",
         "hovertemplate": "Donor Name=IKEA Foundation<br>Year=%{x}<br>ODA disbursement ($million)=%{y}<extra></extra>",
         "legendgroup": "IKEA Foundation",
         "marker": {
          "color": "rgb(136, 204, 238)",
          "pattern": {
           "shape": ""
          }
         },
         "name": "IKEA Foundation",
         "offsetgroup": "IKEA Foundation",
         "orientation": "v",
         "showlegend": true,
         "textposition": "auto",
         "texttemplate": "%{y}",
         "type": "bar",
         "x": [
          2016,
          2019,
          2020,
          2021
         ],
         "xaxis": "x",
         "y": [
          14.806122,
          5.313303,
          0.674629,
          0.289796
         ],
         "yaxis": "y"
        },
        {
         "alignmentgroup": "True",
         "hovertemplate": "Donor Name=UNHCR<br>Year=%{x}<br>ODA disbursement ($million)=%{y}<extra></extra>",
         "legendgroup": "UNHCR",
         "marker": {
          "color": "rgb(204, 102, 119)",
          "pattern": {
           "shape": ""
          }
         },
         "name": "UNHCR",
         "offsetgroup": "UNHCR",
         "orientation": "v",
         "showlegend": true,
         "textposition": "auto",
         "texttemplate": "%{y}",
         "type": "bar",
         "x": [
          2016,
          2017,
          2020
         ],
         "xaxis": "x",
         "y": [
          38.797589,
          12.920193999999999,
          9.93382
         ],
         "yaxis": "y"
        },
        {
         "alignmentgroup": "True",
         "hovertemplate": "Donor Name=World Diabetes Foundation<br>Year=%{x}<br>ODA disbursement ($million)=%{y}<extra></extra>",
         "legendgroup": "World Diabetes Foundation",
         "marker": {
          "color": "rgb(221, 204, 119)",
          "pattern": {
           "shape": ""
          }
         },
         "name": "World Diabetes Foundation",
         "offsetgroup": "World Diabetes Foundation",
         "orientation": "v",
         "showlegend": true,
         "textposition": "auto",
         "texttemplate": "%{y}",
         "type": "bar",
         "x": [
          2016,
          2019,
          2021,
          2022
         ],
         "xaxis": "x",
         "y": [
          0.422518,
          0.599796,
          0.456418,
          1.093471
         ],
         "yaxis": "y"
        },
        {
         "alignmentgroup": "True",
         "hovertemplate": "Donor Name=Citi Foundation<br>Year=%{x}<br>ODA disbursement ($million)=%{y}<extra></extra>",
         "legendgroup": "Citi Foundation",
         "marker": {
          "color": "rgb(17, 119, 51)",
          "pattern": {
           "shape": ""
          }
         },
         "name": "Citi Foundation",
         "offsetgroup": "Citi Foundation",
         "orientation": "v",
         "showlegend": true,
         "textposition": "auto",
         "texttemplate": "%{y}",
         "type": "bar",
         "x": [
          2017,
          2018,
          2019,
          2020,
          2021
         ],
         "xaxis": "x",
         "y": [
          0.66682,
          1.536745,
          1.436121,
          1.08026,
          0.36922299999999997
         ],
         "yaxis": "y"
        },
        {
         "alignmentgroup": "True",
         "hovertemplate": "Donor Name=David and Lucile Packard Foundation<br>Year=%{x}<br>ODA disbursement ($million)=%{y}<extra></extra>",
         "legendgroup": "David and Lucile Packard Foundation",
         "marker": {
          "color": "rgb(51, 34, 136)",
          "pattern": {
           "shape": ""
          }
         },
         "name": "David and Lucile Packard Foundation",
         "offsetgroup": "David and Lucile Packard Foundation",
         "orientation": "v",
         "showlegend": true,
         "textposition": "auto",
         "texttemplate": "%{y}",
         "type": "bar",
         "x": [
          2017,
          2018,
          2020,
          2021,
          2022,
          2023
         ],
         "xaxis": "x",
         "y": [
          0.19449,
          0.941256,
          0.526626,
          0.12149100000000002,
          1.8028629999999999,
          0.116
         ],
         "yaxis": "y"
        },
        {
         "alignmentgroup": "True",
         "hovertemplate": "Donor Name=Malta<br>Year=%{x}<br>ODA disbursement ($million)=%{y}<extra></extra>",
         "legendgroup": "Malta",
         "marker": {
          "color": "rgb(170, 68, 153)",
          "pattern": {
           "shape": ""
          }
         },
         "name": "Malta",
         "offsetgroup": "Malta",
         "orientation": "v",
         "showlegend": true,
         "textposition": "auto",
         "texttemplate": "%{y}",
         "type": "bar",
         "x": [
          2017,
          2018,
          2019,
          2021,
          2022
         ],
         "xaxis": "x",
         "y": [
          0.003833,
          0.004423,
          0.002587,
          0.000823,
          0.058513
         ],
         "yaxis": "y"
        },
        {
         "alignmentgroup": "True",
         "hovertemplate": "Donor Name=Susan T. Buffett Foundation<br>Year=%{x}<br>ODA disbursement ($million)=%{y}<extra></extra>",
         "legendgroup": "Susan T. Buffett Foundation",
         "marker": {
          "color": "rgb(68, 170, 153)",
          "pattern": {
           "shape": ""
          }
         },
         "name": "Susan T. Buffett Foundation",
         "offsetgroup": "Susan T. Buffett Foundation",
         "orientation": "v",
         "showlegend": true,
         "textposition": "auto",
         "texttemplate": "%{y}",
         "type": "bar",
         "x": [
          2017,
          2018,
          2019,
          2020,
          2021,
          2022
         ],
         "xaxis": "x",
         "y": [
          6.618929,
          4.934889,
          4.13058,
          7.517811,
          8.537697999999999,
          4.071968
         ],
         "yaxis": "y"
        },
        {
         "alignmentgroup": "True",
         "hovertemplate": "Donor Name=Wellcome Trust<br>Year=%{x}<br>ODA disbursement ($million)=%{y}<extra></extra>",
         "legendgroup": "Wellcome Trust",
         "marker": {
          "color": "rgb(153, 153, 51)",
          "pattern": {
           "shape": ""
          }
         },
         "name": "Wellcome Trust",
         "offsetgroup": "Wellcome Trust",
         "orientation": "v",
         "showlegend": true,
         "textposition": "auto",
         "texttemplate": "%{y}",
         "type": "bar",
         "x": [
          2017,
          2020,
          2021,
          2023
         ],
         "xaxis": "x",
         "y": [
          1.271409,
          0.012660999999999999,
          2.021012,
          15.314814
         ],
         "yaxis": "y"
        },
        {
         "alignmentgroup": "True",
         "hovertemplate": "Donor Name=Central Emergency Response Fund [CERF]<br>Year=%{x}<br>ODA disbursement ($million)=%{y}<extra></extra>",
         "legendgroup": "Central Emergency Response Fund [CERF]",
         "marker": {
          "color": "rgb(136, 34, 85)",
          "pattern": {
           "shape": ""
          }
         },
         "name": "Central Emergency Response Fund [CERF]",
         "offsetgroup": "Central Emergency Response Fund [CERF]",
         "orientation": "v",
         "showlegend": true,
         "textposition": "auto",
         "texttemplate": "%{y}",
         "type": "bar",
         "x": [
          2018,
          2019,
          2020,
          2022,
          2023
         ],
         "xaxis": "x",
         "y": [
          16.738235,
          21.714985,
          24.897747,
          20.626103,
          12.968627999999999
         ],
         "yaxis": "y"
        },
        {
         "alignmentgroup": "True",
         "hovertemplate": "Donor Name=Children's Investment Fund Foundation<br>Year=%{x}<br>ODA disbursement ($million)=%{y}<extra></extra>",
         "legendgroup": "Children's Investment Fund Foundation",
         "marker": {
          "color": "rgb(102, 17, 0)",
          "pattern": {
           "shape": ""
          }
         },
         "name": "Children's Investment Fund Foundation",
         "offsetgroup": "Children's Investment Fund Foundation",
         "orientation": "v",
         "showlegend": true,
         "textposition": "auto",
         "texttemplate": "%{y}",
         "type": "bar",
         "x": [
          2019
         ],
         "xaxis": "x",
         "y": [
          0.407359
         ],
         "yaxis": "y"
        },
        {
         "alignmentgroup": "True",
         "hovertemplate": "Donor Name=Jacobs Foundation<br>Year=%{x}<br>ODA disbursement ($million)=%{y}<extra></extra>",
         "legendgroup": "Jacobs Foundation",
         "marker": {
          "color": "rgb(136, 136, 136)",
          "pattern": {
           "shape": ""
          }
         },
         "name": "Jacobs Foundation",
         "offsetgroup": "Jacobs Foundation",
         "orientation": "v",
         "showlegend": true,
         "textposition": "auto",
         "texttemplate": "%{y}",
         "type": "bar",
         "x": [
          2019,
          2023
         ],
         "xaxis": "x",
         "y": [
          0.241139,
          0.220368
         ],
         "yaxis": "y"
        },
        {
         "alignmentgroup": "True",
         "hovertemplate": "Donor Name=Qatar<br>Year=%{x}<br>ODA disbursement ($million)=%{y}<extra></extra>",
         "legendgroup": "Qatar",
         "marker": {
          "color": "rgb(136, 204, 238)",
          "pattern": {
           "shape": ""
          }
         },
         "name": "Qatar",
         "offsetgroup": "Qatar",
         "orientation": "v",
         "showlegend": true,
         "textposition": "auto",
         "texttemplate": "%{y}",
         "type": "bar",
         "x": [
          2019,
          2020,
          2021,
          2022,
          2023
         ],
         "xaxis": "x",
         "y": [
          1.733164,
          10.134464,
          33.129463,
          23.118098,
          24.854726
         ],
         "yaxis": "y"
        },
        {
         "alignmentgroup": "True",
         "hovertemplate": "Donor Name=UBS Optimus Foundation<br>Year=%{x}<br>ODA disbursement ($million)=%{y}<extra></extra>",
         "legendgroup": "UBS Optimus Foundation",
         "marker": {
          "color": "rgb(204, 102, 119)",
          "pattern": {
           "shape": ""
          }
         },
         "name": "UBS Optimus Foundation",
         "offsetgroup": "UBS Optimus Foundation",
         "orientation": "v",
         "showlegend": true,
         "textposition": "auto",
         "texttemplate": "%{y}",
         "type": "bar",
         "x": [
          2019,
          2020,
          2021,
          2022,
          2023
         ],
         "xaxis": "x",
         "y": [
          0.855553,
          2.5893949999999997,
          1.59035,
          0.06837499999999999,
          24.55183
         ],
         "yaxis": "y"
        },
        {
         "alignmentgroup": "True",
         "hovertemplate": "Donor Name=UN Development Coordination Office<br>Year=%{x}<br>ODA disbursement ($million)=%{y}<extra></extra>",
         "legendgroup": "UN Development Coordination Office",
         "marker": {
          "color": "rgb(221, 204, 119)",
          "pattern": {
           "shape": ""
          }
         },
         "name": "UN Development Coordination Office",
         "offsetgroup": "UN Development Coordination Office",
         "orientation": "v",
         "showlegend": true,
         "textposition": "auto",
         "texttemplate": "%{y}",
         "type": "bar",
         "x": [
          2019,
          2020,
          2021,
          2022,
          2023
         ],
         "xaxis": "x",
         "y": [
          2.14005,
          2.4003509999999997,
          2.822236,
          2.2341930000000003,
          2.184872
         ],
         "yaxis": "y"
        },
        {
         "alignmentgroup": "True",
         "hovertemplate": "Donor Name=Israel<br>Year=%{x}<br>ODA disbursement ($million)=%{y}<extra></extra>",
         "legendgroup": "Israel",
         "marker": {
          "color": "rgb(17, 119, 51)",
          "pattern": {
           "shape": ""
          }
         },
         "name": "Israel",
         "offsetgroup": "Israel",
         "orientation": "v",
         "showlegend": true,
         "textposition": "auto",
         "texttemplate": "%{y}",
         "type": "bar",
         "x": [
          2020,
          2021,
          2022,
          2023
         ],
         "xaxis": "x",
         "y": [
          0.045808,
          0.27696200000000004,
          0.494133,
          0.416688
         ],
         "yaxis": "y"
        },
        {
         "alignmentgroup": "True",
         "hovertemplate": "Donor Name=LEGO Foundation<br>Year=%{x}<br>ODA disbursement ($million)=%{y}<extra></extra>",
         "legendgroup": "LEGO Foundation",
         "marker": {
          "color": "rgb(51, 34, 136)",
          "pattern": {
           "shape": ""
          }
         },
         "name": "LEGO Foundation",
         "offsetgroup": "LEGO Foundation",
         "orientation": "v",
         "showlegend": true,
         "textposition": "auto",
         "texttemplate": "%{y}",
         "type": "bar",
         "x": [
          2020,
          2022
         ],
         "xaxis": "x",
         "y": [
          0.251467,
          0.001141
         ],
         "yaxis": "y"
        },
        {
         "alignmentgroup": "True",
         "hovertemplate": "Donor Name=Nordic Development Fund [NDF]<br>Year=%{x}<br>ODA disbursement ($million)=%{y}<extra></extra>",
         "legendgroup": "Nordic Development Fund [NDF]",
         "marker": {
          "color": "rgb(170, 68, 153)",
          "pattern": {
           "shape": ""
          }
         },
         "name": "Nordic Development Fund [NDF]",
         "offsetgroup": "Nordic Development Fund [NDF]",
         "orientation": "v",
         "showlegend": true,
         "textposition": "auto",
         "texttemplate": "%{y}",
         "type": "bar",
         "x": [
          2020
         ],
         "xaxis": "x",
         "y": [
          0.419598
         ],
         "yaxis": "y"
        },
        {
         "alignmentgroup": "True",
         "hovertemplate": "Donor Name=Rockefeller Foundation<br>Year=%{x}<br>ODA disbursement ($million)=%{y}<extra></extra>",
         "legendgroup": "Rockefeller Foundation",
         "marker": {
          "color": "rgb(68, 170, 153)",
          "pattern": {
           "shape": ""
          }
         },
         "name": "Rockefeller Foundation",
         "offsetgroup": "Rockefeller Foundation",
         "orientation": "v",
         "showlegend": true,
         "textposition": "auto",
         "texttemplate": "%{y}",
         "type": "bar",
         "x": [
          2020,
          2021
         ],
         "xaxis": "x",
         "y": [
          0.094523,
          0.026373
         ],
         "yaxis": "y"
        },
        {
         "alignmentgroup": "True",
         "hovertemplate": "Donor Name=United Nations Industrial Development Organization [UNIDO]<br>Year=%{x}<br>ODA disbursement ($million)=%{y}<extra></extra>",
         "legendgroup": "United Nations Industrial Development Organization [UNIDO]",
         "marker": {
          "color": "rgb(153, 153, 51)",
          "pattern": {
           "shape": ""
          }
         },
         "name": "United Nations Industrial Development Organization [UNIDO]",
         "offsetgroup": "United Nations Industrial Development Organization [UNIDO]",
         "orientation": "v",
         "showlegend": true,
         "textposition": "auto",
         "texttemplate": "%{y}",
         "type": "bar",
         "x": [
          2020,
          2021,
          2022,
          2023
         ],
         "xaxis": "x",
         "y": [
          0.000483,
          0.154186,
          0.08538200000000001,
          0.048479999999999995
         ],
         "yaxis": "y"
        },
        {
         "alignmentgroup": "True",
         "hovertemplate": "Donor Name=WTO - International Trade Centre [ITC]<br>Year=%{x}<br>ODA disbursement ($million)=%{y}<extra></extra>",
         "legendgroup": "WTO - International Trade Centre [ITC]",
         "marker": {
          "color": "rgb(136, 34, 85)",
          "pattern": {
           "shape": ""
          }
         },
         "name": "WTO - International Trade Centre [ITC]",
         "offsetgroup": "WTO - International Trade Centre [ITC]",
         "orientation": "v",
         "showlegend": true,
         "textposition": "auto",
         "texttemplate": "%{y}",
         "type": "bar",
         "x": [
          2020,
          2021,
          2022
         ],
         "xaxis": "x",
         "y": [
          0.174774,
          0.014154,
          0.062439
         ],
         "yaxis": "y"
        },
        {
         "alignmentgroup": "True",
         "hovertemplate": "Donor Name=Arcadia Fund<br>Year=%{x}<br>ODA disbursement ($million)=%{y}<extra></extra>",
         "legendgroup": "Arcadia Fund",
         "marker": {
          "color": "rgb(102, 17, 0)",
          "pattern": {
           "shape": ""
          }
         },
         "name": "Arcadia Fund",
         "offsetgroup": "Arcadia Fund",
         "orientation": "v",
         "showlegend": true,
         "textposition": "auto",
         "texttemplate": "%{y}",
         "type": "bar",
         "x": [
          2021
         ],
         "xaxis": "x",
         "y": [
          1.378
         ],
         "yaxis": "y"
        },
        {
         "alignmentgroup": "True",
         "hovertemplate": "Donor Name=Bloomberg Family Foundation<br>Year=%{x}<br>ODA disbursement ($million)=%{y}<extra></extra>",
         "legendgroup": "Bloomberg Family Foundation",
         "marker": {
          "color": "rgb(136, 136, 136)",
          "pattern": {
           "shape": ""
          }
         },
         "name": "Bloomberg Family Foundation",
         "offsetgroup": "Bloomberg Family Foundation",
         "orientation": "v",
         "showlegend": true,
         "textposition": "auto",
         "texttemplate": "%{y}",
         "type": "bar",
         "x": [
          2021,
          2022
         ],
         "xaxis": "x",
         "y": [
          4.413091,
          3.750122
         ],
         "yaxis": "y"
        },
        {
         "alignmentgroup": "True",
         "hovertemplate": "Donor Name=COVID-19 Response and Recovery Multi-Partner Trust Fund [UN COVID-19 MPTF]<br>Year=%{x}<br>ODA disbursement ($million)=%{y}<extra></extra>",
         "legendgroup": "COVID-19 Response and Recovery Multi-Partner Trust Fund [UN COVID-19 MPTF]",
         "marker": {
          "color": "rgb(136, 204, 238)",
          "pattern": {
           "shape": ""
          }
         },
         "name": "COVID-19 Response and Recovery Multi-Partner Trust Fund [UN COVID-19 MPTF]",
         "offsetgroup": "COVID-19 Response and Recovery Multi-Partner Trust Fund [UN COVID-19 MPTF]",
         "orientation": "v",
         "showlegend": true,
         "textposition": "auto",
         "texttemplate": "%{y}",
         "type": "bar",
         "x": [
          2021
         ],
         "xaxis": "x",
         "y": [
          3.4294849999999997
         ],
         "yaxis": "y"
        },
        {
         "alignmentgroup": "True",
         "hovertemplate": "Donor Name=Ford Foundation<br>Year=%{x}<br>ODA disbursement ($million)=%{y}<extra></extra>",
         "legendgroup": "Ford Foundation",
         "marker": {
          "color": "rgb(204, 102, 119)",
          "pattern": {
           "shape": ""
          }
         },
         "name": "Ford Foundation",
         "offsetgroup": "Ford Foundation",
         "orientation": "v",
         "showlegend": true,
         "textposition": "auto",
         "texttemplate": "%{y}",
         "type": "bar",
         "x": [
          2021
         ],
         "xaxis": "x",
         "y": [
          0.035164
         ],
         "yaxis": "y"
        },
        {
         "alignmentgroup": "True",
         "hovertemplate": "Donor Name=German Postcode Lottery<br>Year=%{x}<br>ODA disbursement ($million)=%{y}<extra></extra>",
         "legendgroup": "German Postcode Lottery",
         "marker": {
          "color": "rgb(221, 204, 119)",
          "pattern": {
           "shape": ""
          }
         },
         "name": "German Postcode Lottery",
         "offsetgroup": "German Postcode Lottery",
         "orientation": "v",
         "showlegend": true,
         "textposition": "auto",
         "texttemplate": "%{y}",
         "type": "bar",
         "x": [
          2021
         ],
         "xaxis": "x",
         "y": [
          0.021602999999999997
         ],
         "yaxis": "y"
        },
        {
         "alignmentgroup": "True",
         "hovertemplate": "Donor Name=International Centre for Genetic Engineering and Biotechnology [ICGEB]<br>Year=%{x}<br>ODA disbursement ($million)=%{y}<extra></extra>",
         "legendgroup": "International Centre for Genetic Engineering and Biotechnology [ICGEB]",
         "marker": {
          "color": "rgb(17, 119, 51)",
          "pattern": {
           "shape": ""
          }
         },
         "name": "International Centre for Genetic Engineering and Biotechnology [ICGEB]",
         "offsetgroup": "International Centre for Genetic Engineering and Biotechnology [ICGEB]",
         "orientation": "v",
         "showlegend": true,
         "textposition": "auto",
         "texttemplate": "%{y}",
         "type": "bar",
         "x": [
          2021,
          2022,
          2023
         ],
         "xaxis": "x",
         "y": [
          0.071809,
          0.030283,
          0.046278
         ],
         "yaxis": "y"
        },
        {
         "alignmentgroup": "True",
         "hovertemplate": "Donor Name=Open Society Foundations<br>Year=%{x}<br>ODA disbursement ($million)=%{y}<extra></extra>",
         "legendgroup": "Open Society Foundations",
         "marker": {
          "color": "rgb(51, 34, 136)",
          "pattern": {
           "shape": ""
          }
         },
         "name": "Open Society Foundations",
         "offsetgroup": "Open Society Foundations",
         "orientation": "v",
         "showlegend": true,
         "textposition": "auto",
         "texttemplate": "%{y}",
         "type": "bar",
         "x": [
          2021,
          2022,
          2023
         ],
         "xaxis": "x",
         "y": [
          2.109844,
          0.508996,
          1.0419960000000001
         ],
         "yaxis": "y"
        },
        {
         "alignmentgroup": "True",
         "hovertemplate": "Donor Name=Private Infrastructure Development Group<br>Year=%{x}<br>ODA disbursement ($million)=%{y}<extra></extra>",
         "legendgroup": "Private Infrastructure Development Group",
         "marker": {
          "color": "rgb(170, 68, 153)",
          "pattern": {
           "shape": ""
          }
         },
         "name": "Private Infrastructure Development Group",
         "offsetgroup": "Private Infrastructure Development Group",
         "orientation": "v",
         "showlegend": true,
         "textposition": "auto",
         "texttemplate": "%{y}",
         "type": "bar",
         "x": [
          2021,
          2022,
          2023
         ],
         "xaxis": "x",
         "y": [
          7.929022,
          1.480754,
          3.284
         ],
         "yaxis": "y"
        },
        {
         "alignmentgroup": "True",
         "hovertemplate": "Donor Name=UN Women<br>Year=%{x}<br>ODA disbursement ($million)=%{y}<extra></extra>",
         "legendgroup": "UN Women",
         "marker": {
          "color": "rgb(68, 170, 153)",
          "pattern": {
           "shape": ""
          }
         },
         "name": "UN Women",
         "offsetgroup": "UN Women",
         "orientation": "v",
         "showlegend": true,
         "textposition": "auto",
         "texttemplate": "%{y}",
         "type": "bar",
         "x": [
          2021,
          2022,
          2023
         ],
         "xaxis": "x",
         "y": [
          2.457326,
          2.3322380000000003,
          4.580182000000001
         ],
         "yaxis": "y"
        },
        {
         "alignmentgroup": "True",
         "hovertemplate": "Donor Name=WHO-Strategic Preparedness and Response Plan [SPRP]<br>Year=%{x}<br>ODA disbursement ($million)=%{y}<extra></extra>",
         "legendgroup": "WHO-Strategic Preparedness and Response Plan [SPRP]",
         "marker": {
          "color": "rgb(153, 153, 51)",
          "pattern": {
           "shape": ""
          }
         },
         "name": "WHO-Strategic Preparedness and Response Plan [SPRP]",
         "offsetgroup": "WHO-Strategic Preparedness and Response Plan [SPRP]",
         "orientation": "v",
         "showlegend": true,
         "textposition": "auto",
         "texttemplate": "%{y}",
         "type": "bar",
         "x": [
          2021,
          2022,
          2023
         ],
         "xaxis": "x",
         "y": [
          9.846047,
          0.882839,
          0.205562
         ],
         "yaxis": "y"
        },
        {
         "alignmentgroup": "True",
         "hovertemplate": "Donor Name=William and Flora Hewlett Foundation<br>Year=%{x}<br>ODA disbursement ($million)=%{y}<extra></extra>",
         "legendgroup": "William and Flora Hewlett Foundation",
         "marker": {
          "color": "rgb(136, 34, 85)",
          "pattern": {
           "shape": ""
          }
         },
         "name": "William and Flora Hewlett Foundation",
         "offsetgroup": "William and Flora Hewlett Foundation",
         "orientation": "v",
         "showlegend": true,
         "textposition": "auto",
         "texttemplate": "%{y}",
         "type": "bar",
         "x": [
          2021,
          2022
         ],
         "xaxis": "x",
         "y": [
          0.105492,
          0.101799
         ],
         "yaxis": "y"
        },
        {
         "alignmentgroup": "True",
         "hovertemplate": "Donor Name=Bulgaria<br>Year=%{x}<br>ODA disbursement ($million)=%{y}<extra></extra>",
         "legendgroup": "Bulgaria",
         "marker": {
          "color": "rgb(102, 17, 0)",
          "pattern": {
           "shape": ""
          }
         },
         "name": "Bulgaria",
         "offsetgroup": "Bulgaria",
         "orientation": "v",
         "showlegend": true,
         "textposition": "auto",
         "texttemplate": "%{y}",
         "type": "bar",
         "x": [
          2022
         ],
         "xaxis": "x",
         "y": [
          0.110969
         ],
         "yaxis": "y"
        },
        {
         "alignmentgroup": "True",
         "hovertemplate": "Donor Name=Croatia<br>Year=%{x}<br>ODA disbursement ($million)=%{y}<extra></extra>",
         "legendgroup": "Croatia",
         "marker": {
          "color": "rgb(136, 136, 136)",
          "pattern": {
           "shape": ""
          }
         },
         "name": "Croatia",
         "offsetgroup": "Croatia",
         "orientation": "v",
         "showlegend": true,
         "textposition": "auto",
         "texttemplate": "%{y}",
         "type": "bar",
         "x": [
          2022
         ],
         "xaxis": "x",
         "y": [
          0.22563899999999998
         ],
         "yaxis": "y"
        },
        {
         "alignmentgroup": "True",
         "hovertemplate": "Donor Name=Good Ventures Foundation<br>Year=%{x}<br>ODA disbursement ($million)=%{y}<extra></extra>",
         "legendgroup": "Good Ventures Foundation",
         "marker": {
          "color": "rgb(136, 204, 238)",
          "pattern": {
           "shape": ""
          }
         },
         "name": "Good Ventures Foundation",
         "offsetgroup": "Good Ventures Foundation",
         "orientation": "v",
         "showlegend": true,
         "textposition": "auto",
         "texttemplate": "%{y}",
         "type": "bar",
         "x": [
          2022
         ],
         "xaxis": "x",
         "y": [
          20.486472
         ],
         "yaxis": "y"
        },
        {
         "alignmentgroup": "True",
         "hovertemplate": "Donor Name=Joint Sustainable Development Goals Fund [Joint SDG Fund]<br>Year=%{x}<br>ODA disbursement ($million)=%{y}<extra></extra>",
         "legendgroup": "Joint Sustainable Development Goals Fund [Joint SDG Fund]",
         "marker": {
          "color": "rgb(204, 102, 119)",
          "pattern": {
           "shape": ""
          }
         },
         "name": "Joint Sustainable Development Goals Fund [Joint SDG Fund]",
         "offsetgroup": "Joint Sustainable Development Goals Fund [Joint SDG Fund]",
         "orientation": "v",
         "showlegend": true,
         "textposition": "auto",
         "texttemplate": "%{y}",
         "type": "bar",
         "x": [
          2022
         ],
         "xaxis": "x",
         "y": [
          0.512018
         ],
         "yaxis": "y"
        },
        {
         "alignmentgroup": "True",
         "hovertemplate": "Donor Name=Latvia<br>Year=%{x}<br>ODA disbursement ($million)=%{y}<extra></extra>",
         "legendgroup": "Latvia",
         "marker": {
          "color": "rgb(221, 204, 119)",
          "pattern": {
           "shape": ""
          }
         },
         "name": "Latvia",
         "offsetgroup": "Latvia",
         "orientation": "v",
         "showlegend": true,
         "textposition": "auto",
         "texttemplate": "%{y}",
         "type": "bar",
         "x": [
          2022,
          2023
         ],
         "xaxis": "x",
         "y": [
          0.044045,
          0.043252
         ],
         "yaxis": "y"
        },
        {
         "alignmentgroup": "True",
         "hovertemplate": "Donor Name=Liechtenstein<br>Year=%{x}<br>ODA disbursement ($million)=%{y}<extra></extra>",
         "legendgroup": "Liechtenstein",
         "marker": {
          "color": "rgb(17, 119, 51)",
          "pattern": {
           "shape": ""
          }
         },
         "name": "Liechtenstein",
         "offsetgroup": "Liechtenstein",
         "orientation": "v",
         "showlegend": true,
         "textposition": "auto",
         "texttemplate": "%{y}",
         "type": "bar",
         "x": [
          2022
         ],
         "xaxis": "x",
         "y": [
          0.21452500000000002
         ],
         "yaxis": "y"
        },
        {
         "alignmentgroup": "True",
         "hovertemplate": "Donor Name=World Trade Organisation<br>Year=%{x}<br>ODA disbursement ($million)=%{y}<extra></extra>",
         "legendgroup": "World Trade Organisation",
         "marker": {
          "color": "rgb(51, 34, 136)",
          "pattern": {
           "shape": ""
          }
         },
         "name": "World Trade Organisation",
         "offsetgroup": "World Trade Organisation",
         "orientation": "v",
         "showlegend": true,
         "textposition": "auto",
         "texttemplate": "%{y}",
         "type": "bar",
         "x": [
          2022
         ],
         "xaxis": "x",
         "y": [
          0.028208
         ],
         "yaxis": "y"
        }
       ],
       "layout": {
        "barmode": "stack",
        "legend": {
         "title": {
          "text": "Donor"
         },
         "tracegroupgap": 0
        },
        "template": {
         "data": {
          "bar": [
           {
            "error_x": {
             "color": "#2a3f5f"
            },
            "error_y": {
             "color": "#2a3f5f"
            },
            "marker": {
             "line": {
              "color": "white",
              "width": 0.5
             },
             "pattern": {
              "fillmode": "overlay",
              "size": 10,
              "solidity": 0.2
             }
            },
            "type": "bar"
           }
          ],
          "barpolar": [
           {
            "marker": {
             "line": {
              "color": "white",
              "width": 0.5
             },
             "pattern": {
              "fillmode": "overlay",
              "size": 10,
              "solidity": 0.2
             }
            },
            "type": "barpolar"
           }
          ],
          "carpet": [
           {
            "aaxis": {
             "endlinecolor": "#2a3f5f",
             "gridcolor": "#C8D4E3",
             "linecolor": "#C8D4E3",
             "minorgridcolor": "#C8D4E3",
             "startlinecolor": "#2a3f5f"
            },
            "baxis": {
             "endlinecolor": "#2a3f5f",
             "gridcolor": "#C8D4E3",
             "linecolor": "#C8D4E3",
             "minorgridcolor": "#C8D4E3",
             "startlinecolor": "#2a3f5f"
            },
            "type": "carpet"
           }
          ],
          "choropleth": [
           {
            "colorbar": {
             "outlinewidth": 0,
             "ticks": ""
            },
            "type": "choropleth"
           }
          ],
          "contour": [
           {
            "colorbar": {
             "outlinewidth": 0,
             "ticks": ""
            },
            "colorscale": [
             [
              0,
              "#0d0887"
             ],
             [
              0.1111111111111111,
              "#46039f"
             ],
             [
              0.2222222222222222,
              "#7201a8"
             ],
             [
              0.3333333333333333,
              "#9c179e"
             ],
             [
              0.4444444444444444,
              "#bd3786"
             ],
             [
              0.5555555555555556,
              "#d8576b"
             ],
             [
              0.6666666666666666,
              "#ed7953"
             ],
             [
              0.7777777777777778,
              "#fb9f3a"
             ],
             [
              0.8888888888888888,
              "#fdca26"
             ],
             [
              1,
              "#f0f921"
             ]
            ],
            "type": "contour"
           }
          ],
          "contourcarpet": [
           {
            "colorbar": {
             "outlinewidth": 0,
             "ticks": ""
            },
            "type": "contourcarpet"
           }
          ],
          "heatmap": [
           {
            "colorbar": {
             "outlinewidth": 0,
             "ticks": ""
            },
            "colorscale": [
             [
              0,
              "#0d0887"
             ],
             [
              0.1111111111111111,
              "#46039f"
             ],
             [
              0.2222222222222222,
              "#7201a8"
             ],
             [
              0.3333333333333333,
              "#9c179e"
             ],
             [
              0.4444444444444444,
              "#bd3786"
             ],
             [
              0.5555555555555556,
              "#d8576b"
             ],
             [
              0.6666666666666666,
              "#ed7953"
             ],
             [
              0.7777777777777778,
              "#fb9f3a"
             ],
             [
              0.8888888888888888,
              "#fdca26"
             ],
             [
              1,
              "#f0f921"
             ]
            ],
            "type": "heatmap"
           }
          ],
          "heatmapgl": [
           {
            "colorbar": {
             "outlinewidth": 0,
             "ticks": ""
            },
            "colorscale": [
             [
              0,
              "#0d0887"
             ],
             [
              0.1111111111111111,
              "#46039f"
             ],
             [
              0.2222222222222222,
              "#7201a8"
             ],
             [
              0.3333333333333333,
              "#9c179e"
             ],
             [
              0.4444444444444444,
              "#bd3786"
             ],
             [
              0.5555555555555556,
              "#d8576b"
             ],
             [
              0.6666666666666666,
              "#ed7953"
             ],
             [
              0.7777777777777778,
              "#fb9f3a"
             ],
             [
              0.8888888888888888,
              "#fdca26"
             ],
             [
              1,
              "#f0f921"
             ]
            ],
            "type": "heatmapgl"
           }
          ],
          "histogram": [
           {
            "marker": {
             "pattern": {
              "fillmode": "overlay",
              "size": 10,
              "solidity": 0.2
             }
            },
            "type": "histogram"
           }
          ],
          "histogram2d": [
           {
            "colorbar": {
             "outlinewidth": 0,
             "ticks": ""
            },
            "colorscale": [
             [
              0,
              "#0d0887"
             ],
             [
              0.1111111111111111,
              "#46039f"
             ],
             [
              0.2222222222222222,
              "#7201a8"
             ],
             [
              0.3333333333333333,
              "#9c179e"
             ],
             [
              0.4444444444444444,
              "#bd3786"
             ],
             [
              0.5555555555555556,
              "#d8576b"
             ],
             [
              0.6666666666666666,
              "#ed7953"
             ],
             [
              0.7777777777777778,
              "#fb9f3a"
             ],
             [
              0.8888888888888888,
              "#fdca26"
             ],
             [
              1,
              "#f0f921"
             ]
            ],
            "type": "histogram2d"
           }
          ],
          "histogram2dcontour": [
           {
            "colorbar": {
             "outlinewidth": 0,
             "ticks": ""
            },
            "colorscale": [
             [
              0,
              "#0d0887"
             ],
             [
              0.1111111111111111,
              "#46039f"
             ],
             [
              0.2222222222222222,
              "#7201a8"
             ],
             [
              0.3333333333333333,
              "#9c179e"
             ],
             [
              0.4444444444444444,
              "#bd3786"
             ],
             [
              0.5555555555555556,
              "#d8576b"
             ],
             [
              0.6666666666666666,
              "#ed7953"
             ],
             [
              0.7777777777777778,
              "#fb9f3a"
             ],
             [
              0.8888888888888888,
              "#fdca26"
             ],
             [
              1,
              "#f0f921"
             ]
            ],
            "type": "histogram2dcontour"
           }
          ],
          "mesh3d": [
           {
            "colorbar": {
             "outlinewidth": 0,
             "ticks": ""
            },
            "type": "mesh3d"
           }
          ],
          "parcoords": [
           {
            "line": {
             "colorbar": {
              "outlinewidth": 0,
              "ticks": ""
             }
            },
            "type": "parcoords"
           }
          ],
          "pie": [
           {
            "automargin": true,
            "type": "pie"
           }
          ],
          "scatter": [
           {
            "fillpattern": {
             "fillmode": "overlay",
             "size": 10,
             "solidity": 0.2
            },
            "type": "scatter"
           }
          ],
          "scatter3d": [
           {
            "line": {
             "colorbar": {
              "outlinewidth": 0,
              "ticks": ""
             }
            },
            "marker": {
             "colorbar": {
              "outlinewidth": 0,
              "ticks": ""
             }
            },
            "type": "scatter3d"
           }
          ],
          "scattercarpet": [
           {
            "marker": {
             "colorbar": {
              "outlinewidth": 0,
              "ticks": ""
             }
            },
            "type": "scattercarpet"
           }
          ],
          "scattergeo": [
           {
            "marker": {
             "colorbar": {
              "outlinewidth": 0,
              "ticks": ""
             }
            },
            "type": "scattergeo"
           }
          ],
          "scattergl": [
           {
            "marker": {
             "colorbar": {
              "outlinewidth": 0,
              "ticks": ""
             }
            },
            "type": "scattergl"
           }
          ],
          "scattermapbox": [
           {
            "marker": {
             "colorbar": {
              "outlinewidth": 0,
              "ticks": ""
             }
            },
            "type": "scattermapbox"
           }
          ],
          "scatterpolar": [
           {
            "marker": {
             "colorbar": {
              "outlinewidth": 0,
              "ticks": ""
             }
            },
            "type": "scatterpolar"
           }
          ],
          "scatterpolargl": [
           {
            "marker": {
             "colorbar": {
              "outlinewidth": 0,
              "ticks": ""
             }
            },
            "type": "scatterpolargl"
           }
          ],
          "scatterternary": [
           {
            "marker": {
             "colorbar": {
              "outlinewidth": 0,
              "ticks": ""
             }
            },
            "type": "scatterternary"
           }
          ],
          "surface": [
           {
            "colorbar": {
             "outlinewidth": 0,
             "ticks": ""
            },
            "colorscale": [
             [
              0,
              "#0d0887"
             ],
             [
              0.1111111111111111,
              "#46039f"
             ],
             [
              0.2222222222222222,
              "#7201a8"
             ],
             [
              0.3333333333333333,
              "#9c179e"
             ],
             [
              0.4444444444444444,
              "#bd3786"
             ],
             [
              0.5555555555555556,
              "#d8576b"
             ],
             [
              0.6666666666666666,
              "#ed7953"
             ],
             [
              0.7777777777777778,
              "#fb9f3a"
             ],
             [
              0.8888888888888888,
              "#fdca26"
             ],
             [
              1,
              "#f0f921"
             ]
            ],
            "type": "surface"
           }
          ],
          "table": [
           {
            "cells": {
             "fill": {
              "color": "#EBF0F8"
             },
             "line": {
              "color": "white"
             }
            },
            "header": {
             "fill": {
              "color": "#C8D4E3"
             },
             "line": {
              "color": "white"
             }
            },
            "type": "table"
           }
          ]
         },
         "layout": {
          "annotationdefaults": {
           "arrowcolor": "#2a3f5f",
           "arrowhead": 0,
           "arrowwidth": 1
          },
          "autotypenumbers": "strict",
          "coloraxis": {
           "colorbar": {
            "outlinewidth": 0,
            "ticks": ""
           }
          },
          "colorscale": {
           "diverging": [
            [
             0,
             "#8e0152"
            ],
            [
             0.1,
             "#c51b7d"
            ],
            [
             0.2,
             "#de77ae"
            ],
            [
             0.3,
             "#f1b6da"
            ],
            [
             0.4,
             "#fde0ef"
            ],
            [
             0.5,
             "#f7f7f7"
            ],
            [
             0.6,
             "#e6f5d0"
            ],
            [
             0.7,
             "#b8e186"
            ],
            [
             0.8,
             "#7fbc41"
            ],
            [
             0.9,
             "#4d9221"
            ],
            [
             1,
             "#276419"
            ]
           ],
           "sequential": [
            [
             0,
             "#0d0887"
            ],
            [
             0.1111111111111111,
             "#46039f"
            ],
            [
             0.2222222222222222,
             "#7201a8"
            ],
            [
             0.3333333333333333,
             "#9c179e"
            ],
            [
             0.4444444444444444,
             "#bd3786"
            ],
            [
             0.5555555555555556,
             "#d8576b"
            ],
            [
             0.6666666666666666,
             "#ed7953"
            ],
            [
             0.7777777777777778,
             "#fb9f3a"
            ],
            [
             0.8888888888888888,
             "#fdca26"
            ],
            [
             1,
             "#f0f921"
            ]
           ],
           "sequentialminus": [
            [
             0,
             "#0d0887"
            ],
            [
             0.1111111111111111,
             "#46039f"
            ],
            [
             0.2222222222222222,
             "#7201a8"
            ],
            [
             0.3333333333333333,
             "#9c179e"
            ],
            [
             0.4444444444444444,
             "#bd3786"
            ],
            [
             0.5555555555555556,
             "#d8576b"
            ],
            [
             0.6666666666666666,
             "#ed7953"
            ],
            [
             0.7777777777777778,
             "#fb9f3a"
            ],
            [
             0.8888888888888888,
             "#fdca26"
            ],
            [
             1,
             "#f0f921"
            ]
           ]
          },
          "colorway": [
           "#636efa",
           "#EF553B",
           "#00cc96",
           "#ab63fa",
           "#FFA15A",
           "#19d3f3",
           "#FF6692",
           "#B6E880",
           "#FF97FF",
           "#FECB52"
          ],
          "font": {
           "color": "#2a3f5f"
          },
          "geo": {
           "bgcolor": "white",
           "lakecolor": "white",
           "landcolor": "white",
           "showlakes": true,
           "showland": true,
           "subunitcolor": "#C8D4E3"
          },
          "hoverlabel": {
           "align": "left"
          },
          "hovermode": "closest",
          "mapbox": {
           "style": "light"
          },
          "paper_bgcolor": "white",
          "plot_bgcolor": "white",
          "polar": {
           "angularaxis": {
            "gridcolor": "#EBF0F8",
            "linecolor": "#EBF0F8",
            "ticks": ""
           },
           "bgcolor": "white",
           "radialaxis": {
            "gridcolor": "#EBF0F8",
            "linecolor": "#EBF0F8",
            "ticks": ""
           }
          },
          "scene": {
           "xaxis": {
            "backgroundcolor": "white",
            "gridcolor": "#DFE8F3",
            "gridwidth": 2,
            "linecolor": "#EBF0F8",
            "showbackground": true,
            "ticks": "",
            "zerolinecolor": "#EBF0F8"
           },
           "yaxis": {
            "backgroundcolor": "white",
            "gridcolor": "#DFE8F3",
            "gridwidth": 2,
            "linecolor": "#EBF0F8",
            "showbackground": true,
            "ticks": "",
            "zerolinecolor": "#EBF0F8"
           },
           "zaxis": {
            "backgroundcolor": "white",
            "gridcolor": "#DFE8F3",
            "gridwidth": 2,
            "linecolor": "#EBF0F8",
            "showbackground": true,
            "ticks": "",
            "zerolinecolor": "#EBF0F8"
           }
          },
          "shapedefaults": {
           "line": {
            "color": "#2a3f5f"
           }
          },
          "ternary": {
           "aaxis": {
            "gridcolor": "#DFE8F3",
            "linecolor": "#A2B1C6",
            "ticks": ""
           },
           "baxis": {
            "gridcolor": "#DFE8F3",
            "linecolor": "#A2B1C6",
            "ticks": ""
           },
           "bgcolor": "white",
           "caxis": {
            "gridcolor": "#DFE8F3",
            "linecolor": "#A2B1C6",
            "ticks": ""
           }
          },
          "title": {
           "x": 0.05
          },
          "xaxis": {
           "automargin": true,
           "gridcolor": "#EBF0F8",
           "linecolor": "#EBF0F8",
           "ticks": "",
           "title": {
            "standoff": 15
           },
           "zerolinecolor": "#EBF0F8",
           "zerolinewidth": 2
          },
          "yaxis": {
           "automargin": true,
           "gridcolor": "#EBF0F8",
           "linecolor": "#EBF0F8",
           "ticks": "",
           "title": {
            "standoff": 15
           },
           "zerolinecolor": "#EBF0F8",
           "zerolinewidth": 2
          }
         }
        },
        "title": {
         "font": {
          "family": "Arial",
          "size": 16
         },
         "text": "ODA flows to Pakistan by year and donor"
        },
        "xaxis": {
         "anchor": "y",
         "domain": [
          0,
          1
         ],
         "title": {
          "font": {
           "family": "Arial",
           "size": 12
          },
          "text": "Year"
         }
        },
        "yaxis": {
         "anchor": "x",
         "domain": [
          0,
          1
         ],
         "title": {
          "font": {
           "family": "Arial",
           "size": 12
          },
          "text": "ODA disbursement ($million)"
         }
        }
       }
      }
     },
     "metadata": {},
     "output_type": "display_data"
    }
   ],
   "source": [
    "fig = px.bar(\n",
    "    crs_grouped,\n",
    "    x=\"year\",\n",
    "    y=\"value\",\n",
    "    color=\"donor_name\",   # This separates the stacks by donor\n",
    "    text_auto=True,       # Optional: shows values on bars\n",
    "    title=\"ODA flows to Pakistan by year and donor\",\n",
    "    labels={\n",
    "        \"year\": \"Year\",\n",
    "        \"value\": \"ODA disbursement ($million)\",\n",
    "        \"donor_name\": \"Donor Name\"\n",
    "    },\n",
    "    color_discrete_sequence=px.colors.qualitative.Safe  # Optional: choose nice colors\n",
    ")\n",
    "\n",
    "# Customize the layout a bit\n",
    "fig.update_layout(\n",
    "    barmode=\"stack\",  # Stack the bars\n",
    "    title_font=dict(family=\"Arial\", size=16),\n",
    "    xaxis_title_font=dict(family=\"Arial\", size=12),\n",
    "    yaxis_title_font=dict(family=\"Arial\", size=12),\n",
    "    legend_title=\"Donor\",\n",
    "    template=\"plotly_white\"\n",
    ")\n",
    "\n",
    "fig.show()\n",
    "\n",
    "### definitely need to recategorise donor names, grouping roughly as follows:\n",
    "# multilaterals: ADB, WB(IDA & IBRD), UN agencies, EU institution\n",
    "# bilterals: USA, UK, France, Germany, Australia, Japan, Saudi, 'other'"
   ]
  },
  {
   "cell_type": "markdown",
   "id": "96177c46",
   "metadata": {},
   "source": [
    "### TRYING PLOTLY.GRAPH_OBJECTS - WHICH IS MORE CUSTOMISABLE THAN EXPRESS"
   ]
  },
  {
   "cell_type": "code",
   "execution_count": 26,
   "id": "50b954ff-bdaf-466b-b57e-71877d9fca74",
   "metadata": {},
   "outputs": [
    {
     "data": {
      "application/vnd.plotly.v1+json": {
       "config": {
        "plotlyServerURL": "https://plot.ly"
       },
       "data": [
        {
         "marker": {
          "color": "#9E2A2B"
         },
         "type": "bar",
         "x": [
          2002,
          2002,
          2002,
          2002,
          2002,
          2002,
          2002,
          2002,
          2002,
          2002,
          2002,
          2002,
          2002,
          2002,
          2002,
          2002,
          2002,
          2002,
          2002,
          2002,
          2002,
          2002,
          2002,
          2002,
          2002,
          2002,
          2002,
          2003,
          2003,
          2003,
          2003,
          2003,
          2003,
          2003,
          2003,
          2003,
          2003,
          2003,
          2003,
          2003,
          2003,
          2003,
          2003,
          2003,
          2003,
          2003,
          2003,
          2003,
          2003,
          2003,
          2003,
          2003,
          2003,
          2003,
          2003,
          2004,
          2004,
          2004,
          2004,
          2004,
          2004,
          2004,
          2004,
          2004,
          2004,
          2004,
          2004,
          2004,
          2004,
          2004,
          2004,
          2004,
          2004,
          2004,
          2004,
          2004,
          2004,
          2004,
          2004,
          2004,
          2005,
          2005,
          2005,
          2005,
          2005,
          2005,
          2005,
          2005,
          2005,
          2005,
          2005,
          2005,
          2005,
          2005,
          2005,
          2005,
          2005,
          2005,
          2005,
          2005,
          2005,
          2005,
          2005,
          2005,
          2005,
          2005,
          2005,
          2005,
          2005,
          2006,
          2006,
          2006,
          2006,
          2006,
          2006,
          2006,
          2006,
          2006,
          2006,
          2006,
          2006,
          2006,
          2006,
          2006,
          2006,
          2006,
          2006,
          2006,
          2006,
          2006,
          2006,
          2006,
          2006,
          2006,
          2006,
          2006,
          2006,
          2006,
          2006,
          2006,
          2006,
          2007,
          2007,
          2007,
          2007,
          2007,
          2007,
          2007,
          2007,
          2007,
          2007,
          2007,
          2007,
          2007,
          2007,
          2007,
          2007,
          2007,
          2007,
          2007,
          2007,
          2007,
          2007,
          2007,
          2007,
          2007,
          2007,
          2007,
          2007,
          2007,
          2007,
          2007,
          2007,
          2008,
          2008,
          2008,
          2008,
          2008,
          2008,
          2008,
          2008,
          2008,
          2008,
          2008,
          2008,
          2008,
          2008,
          2008,
          2008,
          2008,
          2008,
          2008,
          2008,
          2008,
          2008,
          2008,
          2008,
          2008,
          2008,
          2008,
          2008,
          2008,
          2008,
          2008,
          2008,
          2008,
          2009,
          2009,
          2009,
          2009,
          2009,
          2009,
          2009,
          2009,
          2009,
          2009,
          2009,
          2009,
          2009,
          2009,
          2009,
          2009,
          2009,
          2009,
          2009,
          2009,
          2009,
          2009,
          2009,
          2009,
          2009,
          2009,
          2009,
          2009,
          2009,
          2009,
          2009,
          2009,
          2009,
          2009,
          2009,
          2009,
          2010,
          2010,
          2010,
          2010,
          2010,
          2010,
          2010,
          2010,
          2010,
          2010,
          2010,
          2010,
          2010,
          2010,
          2010,
          2010,
          2010,
          2010,
          2010,
          2010,
          2010,
          2010,
          2010,
          2010,
          2010,
          2010,
          2010,
          2010,
          2010,
          2010,
          2010,
          2010,
          2010,
          2010,
          2010,
          2010,
          2010,
          2010,
          2010,
          2010,
          2010,
          2011,
          2011,
          2011,
          2011,
          2011,
          2011,
          2011,
          2011,
          2011,
          2011,
          2011,
          2011,
          2011,
          2011,
          2011,
          2011,
          2011,
          2011,
          2011,
          2011,
          2011,
          2011,
          2011,
          2011,
          2011,
          2011,
          2011,
          2011,
          2011,
          2011,
          2011,
          2011,
          2011,
          2011,
          2011,
          2011,
          2011,
          2011,
          2011,
          2011,
          2011,
          2012,
          2012,
          2012,
          2012,
          2012,
          2012,
          2012,
          2012,
          2012,
          2012,
          2012,
          2012,
          2012,
          2012,
          2012,
          2012,
          2012,
          2012,
          2012,
          2012,
          2012,
          2012,
          2012,
          2012,
          2012,
          2012,
          2012,
          2012,
          2012,
          2012,
          2012,
          2012,
          2012,
          2012,
          2012,
          2012,
          2012,
          2012,
          2012,
          2012,
          2012,
          2013,
          2013,
          2013,
          2013,
          2013,
          2013,
          2013,
          2013,
          2013,
          2013,
          2013,
          2013,
          2013,
          2013,
          2013,
          2013,
          2013,
          2013,
          2013,
          2013,
          2013,
          2013,
          2013,
          2013,
          2013,
          2013,
          2013,
          2013,
          2013,
          2013,
          2013,
          2013,
          2013,
          2013,
          2013,
          2013,
          2013,
          2013,
          2013,
          2013,
          2013,
          2013,
          2013,
          2013,
          2013,
          2014,
          2014,
          2014,
          2014,
          2014,
          2014,
          2014,
          2014,
          2014,
          2014,
          2014,
          2014,
          2014,
          2014,
          2014,
          2014,
          2014,
          2014,
          2014,
          2014,
          2014,
          2014,
          2014,
          2014,
          2014,
          2014,
          2014,
          2014,
          2014,
          2014,
          2014,
          2014,
          2014,
          2014,
          2014,
          2014,
          2014,
          2014,
          2014,
          2014,
          2014,
          2014,
          2014,
          2014,
          2014,
          2014,
          2015,
          2015,
          2015,
          2015,
          2015,
          2015,
          2015,
          2015,
          2015,
          2015,
          2015,
          2015,
          2015,
          2015,
          2015,
          2015,
          2015,
          2015,
          2015,
          2015,
          2015,
          2015,
          2015,
          2015,
          2015,
          2015,
          2015,
          2015,
          2015,
          2015,
          2015,
          2015,
          2015,
          2015,
          2015,
          2015,
          2015,
          2015,
          2015,
          2015,
          2015,
          2015,
          2015,
          2015,
          2015,
          2015,
          2015,
          2015,
          2015,
          2015,
          2015,
          2015,
          2015,
          2015,
          2016,
          2016,
          2016,
          2016,
          2016,
          2016,
          2016,
          2016,
          2016,
          2016,
          2016,
          2016,
          2016,
          2016,
          2016,
          2016,
          2016,
          2016,
          2016,
          2016,
          2016,
          2016,
          2016,
          2016,
          2016,
          2016,
          2016,
          2016,
          2016,
          2016,
          2016,
          2016,
          2016,
          2016,
          2016,
          2016,
          2016,
          2016,
          2016,
          2016,
          2016,
          2016,
          2016,
          2016,
          2016,
          2016,
          2016,
          2016,
          2016,
          2016,
          2016,
          2016,
          2016,
          2016,
          2016,
          2016,
          2016,
          2017,
          2017,
          2017,
          2017,
          2017,
          2017,
          2017,
          2017,
          2017,
          2017,
          2017,
          2017,
          2017,
          2017,
          2017,
          2017,
          2017,
          2017,
          2017,
          2017,
          2017,
          2017,
          2017,
          2017,
          2017,
          2017,
          2017,
          2017,
          2017,
          2017,
          2017,
          2017,
          2017,
          2017,
          2017,
          2017,
          2017,
          2017,
          2017,
          2017,
          2017,
          2017,
          2017,
          2017,
          2017,
          2017,
          2017,
          2017,
          2017,
          2017,
          2017,
          2017,
          2017,
          2017,
          2017,
          2017,
          2017,
          2018,
          2018,
          2018,
          2018,
          2018,
          2018,
          2018,
          2018,
          2018,
          2018,
          2018,
          2018,
          2018,
          2018,
          2018,
          2018,
          2018,
          2018,
          2018,
          2018,
          2018,
          2018,
          2018,
          2018,
          2018,
          2018,
          2018,
          2018,
          2018,
          2018,
          2018,
          2018,
          2018,
          2018,
          2018,
          2018,
          2018,
          2018,
          2018,
          2018,
          2018,
          2018,
          2018,
          2018,
          2018,
          2018,
          2018,
          2018,
          2018,
          2018,
          2018,
          2018,
          2018,
          2018,
          2018,
          2018,
          2018,
          2018,
          2019,
          2019,
          2019,
          2019,
          2019,
          2019,
          2019,
          2019,
          2019,
          2019,
          2019,
          2019,
          2019,
          2019,
          2019,
          2019,
          2019,
          2019,
          2019,
          2019,
          2019,
          2019,
          2019,
          2019,
          2019,
          2019,
          2019,
          2019,
          2019,
          2019,
          2019,
          2019,
          2019,
          2019,
          2019,
          2019,
          2019,
          2019,
          2019,
          2019,
          2019,
          2019,
          2019,
          2019,
          2019,
          2019,
          2019,
          2019,
          2019,
          2019,
          2019,
          2019,
          2019,
          2019,
          2019,
          2019,
          2019,
          2019,
          2019,
          2019,
          2019,
          2019,
          2019,
          2019,
          2020,
          2020,
          2020,
          2020,
          2020,
          2020,
          2020,
          2020,
          2020,
          2020,
          2020,
          2020,
          2020,
          2020,
          2020,
          2020,
          2020,
          2020,
          2020,
          2020,
          2020,
          2020,
          2020,
          2020,
          2020,
          2020,
          2020,
          2020,
          2020,
          2020,
          2020,
          2020,
          2020,
          2020,
          2020,
          2020,
          2020,
          2020,
          2020,
          2020,
          2020,
          2020,
          2020,
          2020,
          2020,
          2020,
          2020,
          2020,
          2020,
          2020,
          2020,
          2020,
          2020,
          2020,
          2020,
          2020,
          2020,
          2020,
          2020,
          2020,
          2020,
          2020,
          2020,
          2020,
          2020,
          2020,
          2020,
          2020,
          2020,
          2020,
          2021,
          2021,
          2021,
          2021,
          2021,
          2021,
          2021,
          2021,
          2021,
          2021,
          2021,
          2021,
          2021,
          2021,
          2021,
          2021,
          2021,
          2021,
          2021,
          2021,
          2021,
          2021,
          2021,
          2021,
          2021,
          2021,
          2021,
          2021,
          2021,
          2021,
          2021,
          2021,
          2021,
          2021,
          2021,
          2021,
          2021,
          2021,
          2021,
          2021,
          2021,
          2021,
          2021,
          2021,
          2021,
          2021,
          2021,
          2021,
          2021,
          2021,
          2021,
          2021,
          2021,
          2021,
          2021,
          2021,
          2021,
          2021,
          2021,
          2021,
          2021,
          2021,
          2021,
          2021,
          2021,
          2021,
          2021,
          2021,
          2021,
          2021,
          2021,
          2021,
          2021,
          2021,
          2021,
          2021,
          2022,
          2022,
          2022,
          2022,
          2022,
          2022,
          2022,
          2022,
          2022,
          2022,
          2022,
          2022,
          2022,
          2022,
          2022,
          2022,
          2022,
          2022,
          2022,
          2022,
          2022,
          2022,
          2022,
          2022,
          2022,
          2022,
          2022,
          2022,
          2022,
          2022,
          2022,
          2022,
          2022,
          2022,
          2022,
          2022,
          2022,
          2022,
          2022,
          2022,
          2022,
          2022,
          2022,
          2022,
          2022,
          2022,
          2022,
          2022,
          2022,
          2022,
          2022,
          2022,
          2022,
          2022,
          2022,
          2022,
          2022,
          2022,
          2022,
          2022,
          2022,
          2022,
          2022,
          2022,
          2022,
          2022,
          2022,
          2022,
          2022,
          2022,
          2022,
          2022,
          2022,
          2022,
          2022,
          2022,
          2022,
          2022,
          2022,
          2022,
          2022,
          2022,
          2022,
          2022,
          2022,
          2022,
          2022,
          2022,
          2022,
          2022,
          2023,
          2023,
          2023,
          2023,
          2023,
          2023,
          2023,
          2023,
          2023,
          2023,
          2023,
          2023,
          2023,
          2023,
          2023,
          2023,
          2023,
          2023,
          2023,
          2023,
          2023,
          2023,
          2023,
          2023,
          2023,
          2023,
          2023,
          2023,
          2023,
          2023,
          2023,
          2023,
          2023,
          2023,
          2023,
          2023,
          2023,
          2023,
          2023,
          2023,
          2023,
          2023,
          2023,
          2023,
          2023,
          2023,
          2023,
          2023,
          2023,
          2023,
          2023,
          2023,
          2023,
          2023,
          2023,
          2023,
          2023,
          2023,
          2023,
          2023,
          2023,
          2023,
          2023,
          2023,
          2023,
          2023,
          2023,
          2023
         ],
         "y": [
          5.103243,
          1.885123,
          1.841848,
          21.638231,
          1.2204899999999999,
          5.135782,
          207.815887,
          9.609474,
          0.186919,
          850.336738,
          84.789137,
          2358.588869,
          1.4447899999999998,
          0.219702,
          540.030664,
          54.35252,
          1.228993,
          28.630022,
          0.000594,
          0.264303,
          0.077825,
          35.662216,
          0.10056599999999999,
          10.99558,
          27.946894999999998,
          145.138531,
          3441.0537689999996,
          9.466744,
          2.798594,
          0.154602,
          33.681032,
          0.900817,
          4.563525,
          1.1558570000000001,
          1148.83203,
          87.503621,
          4.894653,
          4.064033,
          0.7776419999999999,
          1144.583186,
          65.299941,
          279.322671,
          1.331847,
          9.047236,
          486.715557,
          20.148592,
          1.089396,
          25.301303,
          2.260748,
          42.358425,
          0.818496,
          21.08411,
          32.643485,
          272.40161,
          2852.915699,
          12.641822,
          4.186941,
          0.142327,
          39.795933,
          9.507596,
          71.727447,
          3.319811,
          11.086687999999999,
          0.600633,
          579.225796,
          2.178485,
          1775.188991,
          1.6793770000000001,
          0.189001,
          244.345069,
          23.209963000000002,
          0.554529,
          19.396272,
          0.153917,
          37.32819,
          17.513459,
          11.328427,
          28.736135,
          190.052233,
          199.326164,
          43.200635,
          15.85284,
          2.746442,
          96.81275600000001,
          95.554805,
          76.667554,
          104.423503,
          4.727872,
          7.092666,
          7.996396,
          485.90717800000004,
          1410.263748,
          23.422554,
          0.853488,
          184.498438,
          10.962251,
          103.155203,
          4.230802,
          184.529028,
          0.028066,
          10.967400000000001,
          15.774721,
          52.931495,
          0.578528,
          26.860122,
          17.449731,
          31.391837,
          166.771837,
          840.262718,
          76.194003,
          4.05002,
          11.203367,
          94.65914,
          0.724426,
          233.442665,
          20.55778,
          44.054171,
          161.66936,
          3.663318,
          13.805745,
          1.21673,
          341.031323,
          1881.054112,
          8.386459,
          6.615277,
          499.59117,
          8.411289,
          2.734156,
          46.454024,
          1.479051,
          39.489699,
          0.005485,
          2.159556,
          24.120376,
          44.10375,
          1.329996,
          21.873658,
          14.195072,
          33.399557,
          404.389707,
          1210.725222,
          26.154436,
          5.787432,
          2.517157,
          74.371968,
          0.60329,
          139.898605,
          15.951331,
          112.744473,
          150.44794,
          66.839997,
          4.826543,
          25.812338,
          1.7989330000000001,
          370.827593,
          2169.208199,
          5.481977,
          5.55183,
          158.922295,
          6.470922,
          0.969542,
          76.783457,
          1.337837,
          61.281339,
          11.189932999999998,
          27.673506,
          41.151127,
          2.382543,
          26.433111,
          14.803857,
          35.922634,
          371.799785,
          1066.89523,
          61.946214,
          7.357505000000001,
          1.0908740000000001,
          84.672136,
          -0.009755,
          124.55843899999999,
          4.766007,
          22.675706,
          198.301296,
          146.759412,
          5.490598,
          18.807539,
          0.631293,
          111.983098,
          385.760991,
          5.298505,
          7.589189,
          136.02923,
          3.648732,
          1.30477,
          63.418869,
          0.470818,
          55.817532,
          6.270348,
          17.01245,
          38.416247,
          1.0225140000000001,
          20.373029,
          13.932545000000001,
          43.310057,
          503.103291,
          847.383663,
          26.883039,
          104.346209,
          6.570946,
          5.548283,
          91.505281,
          7.469612,
          196.479066,
          16.590376,
          47.162963,
          67.74978800000001,
          229.123962,
          66.84141799999999,
          3.4946989999999998,
          36.879452,
          2.117525,
          187.64855699999998,
          2474.603326,
          6.537559,
          17.932823,
          289.530285,
          4.367372,
          3.255937,
          79.85577,
          1.858902,
          93.58861,
          49.382142,
          23.115816,
          27.1992,
          42.541133,
          2.119533,
          19.963375,
          16.571158,
          41.712181,
          333.549864,
          463.015192,
          1402.340522,
          35.040834000000004,
          7.507612,
          1671.565116,
          240.970623,
          20.688892,
          31.008352000000002,
          208.13603,
          59.430729,
          354.363845,
          35.59239,
          35.471799,
          38.224437,
          331.273873,
          199.499982,
          5.589139,
          52.904476,
          0.729344,
          126.625832,
          775.128825,
          10.339336,
          24.572653,
          412.38885700000003,
          40.558318,
          15.645783,
          8.109363,
          112.675883,
          6.302516,
          159.378545,
          8.069631000000001,
          0.001103,
          0.08394499999999999,
          45.098407,
          82.04183499999999,
          51.570506,
          1.510969,
          26.525917,
          22.645682,
          49.732606,
          133.843346,
          632.680572,
          2847.4048080000002,
          18.981568,
          1112.674709,
          142.982069,
          4.69477,
          28.805854,
          172.148183,
          1.6176840000000001,
          34.558018,
          512.057931,
          21.205803,
          33.318429,
          193.522544,
          323.605385,
          38.79509,
          4.647845,
          20.270716,
          0.38278,
          0.136691,
          124.3233,
          1786.113315,
          4.109375,
          49.448127,
          930.172348,
          93.226849,
          21.830813,
          3.9219049999999998,
          62.678294,
          2.430675,
          59.006169,
          17.416876,
          11.151622,
          39.779229,
          37.766139,
          1.6407479999999999,
          22.331633,
          19.639076,
          45.529658,
          144.837185,
          685.86661,
          2994.8233,
          61.496392,
          3.376214,
          1066.004167,
          174.032272,
          2.731969,
          2.120286,
          76.115151,
          1.089187,
          30.192566,
          392.315657,
          7.5016929999999995,
          57.014542000000006,
          70.347465,
          346.223213,
          316.53948099999997,
          4.880172,
          94.69532,
          0.346908,
          158.094856,
          1140.153942,
          2.441284,
          5.064221,
          317.037679,
          86.17962700000001,
          490.820563,
          142.695758,
          68.957154,
          0.487796,
          62.384536000000004,
          54.800874,
          80.62976499999999,
          0.5789500000000001,
          27.102833,
          30.185811,
          1.878616,
          19.487787,
          13.671874,
          41.152499,
          182.442778,
          617.262583,
          1463.685675,
          33.460304,
          1.457977,
          1063.943059,
          124.312135,
          4.077147,
          5.493582,
          132.737761,
          0.200604,
          20.132721,
          286.231806,
          0.04283,
          6.936662,
          0.135237,
          78.166399,
          55.135581,
          277.217152,
          351.379521,
          10.074801,
          157.41165,
          0.24899500000000002,
          0.34403,
          197.378392,
          911.068915,
          2.705722,
          1.720381,
          538.414652,
          34.840966,
          374.403946,
          71.324767,
          33.493417,
          59.167091000000006,
          48.077946,
          55.425042,
          0.080303,
          0.018256,
          1.231854,
          30.565641,
          38.945661,
          1.174103,
          13.453463000000001,
          9.961866,
          34.468935,
          285.863837,
          1081.640744,
          1409.229906,
          9.04707,
          2.261558,
          1.9304999999999999,
          1765.03055,
          146.937983,
          3.586855,
          0.306137,
          0.8617619999999999,
          69.741385,
          0.226812,
          0.299033,
          34.958498,
          321.258358,
          7.398684,
          72.27054,
          101.964329,
          261.784476,
          172.256582,
          11.537648,
          80.575707,
          0.23202899999999999,
          208.308719,
          2985.662326,
          2.574306,
          1.499792,
          415.98314700000003,
          29.174126,
          509.190462,
          25.061895,
          20.324393,
          0.376725,
          28.639257999999998,
          44.249463,
          141.689337,
          0.086501,
          0.20224399999999998,
          0.29718500000000003,
          42.471733,
          45.29559,
          1.288898,
          14.214659,
          11.768802,
          37.235359,
          184.07942,
          869.771246,
          1806.431442,
          1.6696710000000001,
          2.985623,
          0.681898,
          1719.756734,
          124.007029,
          4.6271130000000005,
          0.107597,
          0.027261,
          75.441789,
          0.031105,
          33.572212,
          270.348388,
          1.501758,
          45.493355,
          119.386393,
          229.569899,
          218.062389,
          15.449443,
          90.633069,
          0.200209,
          0.07828099999999999,
          34.699138,
          2.793678,
          125.461671,
          3490.009361,
          3.035892,
          1.211164,
          284.876843,
          94.60365499999999,
          335.749729,
          0.20147500000000002,
          11.360832,
          95.45905599999999,
          0.07767199999999999,
          0.023422,
          1.309843,
          14.492924,
          34.84589,
          61.91782,
          0.11399999999999999,
          0.290204,
          49.131771,
          0.04261,
          25.545678,
          40.758026,
          2.695182,
          3.647611,
          1.569601,
          15.960192,
          14.455653,
          58.010651,
          178.112054,
          1169.888819,
          1761.4073290000001,
          15.151835,
          5.699788,
          2637.4523,
          20.829849,
          71.116472,
          4.551386,
          0.004521,
          93.181877,
          0.028427,
          15.23295,
          308.186549,
          0.944358,
          85.794671,
          163.395407,
          298.945679,
          274.722463,
          15.548071,
          140.319799,
          0.368634,
          0.7072229999999999,
          0.660242,
          38.419883,
          14.806122,
          1.0407790000000001,
          437.215504,
          1854.020966,
          2.929973,
          1.5181170000000002,
          309.475646,
          25.197208,
          444.788439,
          7.965534,
          37.828995,
          1.92164,
          0.013014,
          1.2348050000000002,
          9.178998,
          28.507020999999998,
          118.858119,
          0.086818,
          0.004883,
          0.10736400000000001,
          52.882602000000006,
          2.352865,
          25.291168,
          39.892102,
          0.14438800000000002,
          8.917200000000001,
          1.463424,
          11.809677,
          12.474077,
          38.797589,
          69.967359,
          65.893943,
          1349.073198,
          1453.639926,
          4.427584,
          0.422518,
          4.639478,
          2900.7649030000002,
          51.384974,
          88.694991,
          4.812061,
          0.004513,
          51.25989,
          0.66682,
          0.06137,
          0.19449,
          5.964747,
          286.515662,
          0.529102,
          290.946663,
          297.745549,
          465.548902,
          264.570624,
          9.736783,
          211.52772199999998,
          0.267471,
          1.866518,
          0.89028,
          25.111697,
          2.1779029999999997,
          423.45195099999995,
          1556.821979,
          3.036416,
          2.149049,
          400.936312,
          40.069428,
          310.24593,
          6.339577,
          27.994802,
          0.626913,
          0.003833,
          9.546581,
          22.333538,
          100.47498399999999,
          0.159943,
          0.06523899999999999,
          205.280771,
          3.934104,
          6.618929,
          17.986499000000002,
          40.049302,
          0.274974,
          21.734104000000002,
          1.292206,
          7.7126470000000005,
          8.128375,
          12.920193999999999,
          68.389106,
          73.299875,
          1137.492891,
          1196.088208,
          6.574243,
          1.271409,
          4.606681,
          1543.40795,
          56.18804,
          98.071176,
          4.75256,
          0.036958000000000005,
          28.731393,
          16.738235,
          1.536745,
          0.021214,
          0.941256,
          13.717465,
          282.822067,
          0.271795,
          0.863818,
          165.472131,
          288.119249,
          278.555462,
          347.08772999999997,
          10.732529,
          134.140679,
          23.574944,
          1.349984,
          4.888872999999999,
          51.628339999999994,
          2.1921,
          376.49606,
          1021.215318,
          4.412921,
          1.907639,
          66.378703,
          37.581547,
          231.954049,
          29.05957,
          0.000768,
          0.6129169999999999,
          0.004423,
          5.980563,
          20.2689,
          123.46241699999999,
          0.200806,
          0.012908,
          0.038474,
          91.147803,
          4.868838,
          4.934889,
          14.058720000000001,
          25.367078,
          0.494743,
          13.676628,
          0.5178550000000001,
          3.220584,
          7.0932129999999995,
          70.746604,
          136.11710399999998,
          999.102879,
          1033.312455,
          2.41388,
          6.8660820000000005,
          4869.078714,
          40.329204,
          43.320864,
          26.110349,
          0.119138,
          26.62544,
          21.714985,
          0.407359,
          1.436121,
          0.073766,
          2.658907,
          237.04279300000002,
          0.099137,
          1.59432,
          211.366008,
          271.964152,
          239.486532,
          299.088211,
          1.824182,
          124.574147,
          0.43844,
          1.262697,
          8.715060000000001,
          70.72183,
          5.313303,
          1.781197,
          324.03727499999997,
          1227.622968,
          5.212451,
          1.367048,
          127.626526,
          6.154935,
          0.241139,
          239.76335699999998,
          227.755361,
          5.257859000000001,
          0.005926,
          0.002587,
          11.1229,
          15.762458,
          151.600362,
          1.8385960000000001,
          0.013229,
          1.733164,
          0.057572,
          55.783672,
          2.514703,
          4.13058,
          13.052545,
          17.171635,
          0.262162,
          6.608376,
          0.855553,
          2.14005,
          1.451285,
          3.116792,
          11.376865,
          81.100775,
          263.288887,
          865.804822,
          831.041654,
          1.132594,
          0.599796,
          7.321732,
          0.914609,
          3731.793817,
          1571.6964389999998,
          20.292957,
          4.112184,
          4.158634,
          0.278673,
          53.416655,
          24.897747,
          1.08026,
          0.17824299999999998,
          0.526626,
          16.329798,
          279.709536,
          0.005856999999999999,
          1.320814,
          105.753902,
          269.618572,
          241.381869,
          562.988898,
          11.89479,
          136.248223,
          13.441549,
          10.566376,
          42.336501999999996,
          0.674629,
          0.940962,
          835.237248,
          2975.671428,
          3.05497,
          1.234053,
          116.128482,
          0.045808,
          24.568724,
          94.859643,
          22.816345,
          12.580425,
          0.251467,
          0.305769,
          0.022327,
          9.479445,
          0.419598,
          16.213807,
          123.007892,
          2.406197,
          0.0035570000000000003,
          10.134464,
          0.094523,
          0.047877,
          21.659952,
          1.412048,
          7.517811,
          10.332042,
          6.674697,
          0.50795,
          6.896817,
          2.5893949999999997,
          2.4003509999999997,
          3.372194,
          11.964517,
          9.93382,
          77.583486,
          99.199634,
          559.486046,
          0.000483,
          658.839792,
          6.72123,
          0.174774,
          0.012660999999999999,
          2.907819,
          1.378,
          2661.943314,
          83.503905,
          21.759425,
          9.465855999999999,
          0.12666899999999998,
          4.413091,
          3.4294849999999997,
          59.895486,
          0.36922299999999997,
          0.049538,
          0.12149100000000002,
          11.186698,
          236.609353,
          0.523577,
          20.019166,
          1.525112,
          0.035164,
          92.07641,
          284.05155,
          0.021602999999999997,
          380.797245,
          447.11749599999996,
          6.803633,
          161.85405500000002,
          1.767422,
          18.868793999999998,
          10.59455,
          86.465366,
          0.289796,
          1.789595,
          962.06719,
          0.071809,
          3469.147881,
          3.377843,
          2401.493028,
          0.27696200000000004,
          9.006592,
          137.856893,
          54.273821,
          0.972734,
          0.07994,
          0.000823,
          6.674455,
          23.869292,
          131.23941100000002,
          2.109844,
          2.8980930000000003,
          7.929022,
          33.129463,
          0.026373,
          0.050603,
          42.648303,
          0.162153,
          8.537697999999999,
          10.622127,
          1.65999,
          0.091615,
          6.655573,
          1.59035,
          2.822236,
          2.457326,
          3.8734159999999997,
          12.175922,
          75.543463,
          46.773982000000004,
          557.496793,
          0.154186,
          522.839329,
          5.785277,
          9.846047,
          0.014154,
          2.021012,
          0.105492,
          0.456418,
          5.305212,
          4.974584999999999,
          5100.257082,
          1058.579812,
          33.156407,
          13.648073,
          4.096138,
          20.693183,
          3.750122,
          0.110969,
          94.004249,
          20.626103,
          2.035984,
          0.22563899999999998,
          0.159091,
          1.8028629999999999,
          18.954937,
          251.266463,
          0.111117,
          6.307182,
          1.455709,
          80.547291,
          355.306434,
          371.083071,
          247.534539,
          6.984611,
          232.66396600000002,
          20.486472,
          0.310328,
          15.76755,
          0.502922,
          13.388729,
          132.658932,
          0.451616,
          1.14707,
          324.907575,
          0.030283,
          2280.83964,
          3.330295,
          1.087931,
          1223.186952,
          0.494133,
          47.198185,
          148.153241,
          0.512018,
          0.8192280000000001,
          92.254852,
          0.214124,
          0.001141,
          0.044045,
          1.361839,
          0.21452500000000002,
          0.18457300000000001,
          2.17176,
          0.058513,
          4.569871,
          1.921355,
          24.986234,
          204.855034,
          0.508996,
          2.333508,
          0.003422,
          1.480754,
          23.118098,
          0.297604,
          50.403792,
          0.298135,
          1.4689910000000002,
          4.071968,
          24.290013000000002,
          12.472807,
          0.412267,
          15.255984,
          0.06837499999999999,
          2.2341930000000003,
          2.3322380000000003,
          0.010506999999999999,
          4.639257,
          11.697305,
          76.237311,
          126.901374,
          235.393945,
          0.08538200000000001,
          405.372914,
          13.177754,
          0.882839,
          0.062439,
          0.101799,
          1.093471,
          3.4148870000000002,
          0.028208,
          2004.003788,
          672.38943,
          21.755118,
          15.848956000000001,
          4,
          0.057526,
          62.483518000000004,
          12.968627999999999,
          0.058632000000000004,
          0.116,
          7.690374,
          205.166564,
          0.28460799999999997,
          1.936666,
          106.628104,
          339.43356,
          276.810456,
          150.014304,
          1.41229,
          370.742662,
          15.397478,
          7.792692,
          62.44292,
          0.024008,
          2.68648,
          805.6727999999999,
          0.046278,
          4317.54816,
          4.88147,
          21.626298,
          326.444726,
          0.416688,
          28.10635,
          0.220368,
          160.704564,
          52.108281999999996,
          0.043252,
          4.641126,
          0.035572,
          60.710482,
          2.4834639999999997,
          24.88538,
          58.938539999999996,
          1.0419960000000001,
          3.7182399999999998,
          0.008976,
          3.284,
          24.854726,
          0.195699,
          4085.600138,
          0.17575000000000002,
          17.226478,
          5.2398880000000005,
          8.118558,
          24.55183,
          2.184872,
          4.580182000000001,
          0.52698,
          15.2045,
          105.932,
          34.18741,
          174.419722,
          0.048479999999999995,
          554.244188,
          16.685984,
          0.205562,
          15.314814,
          5.044258
         ]
        }
       ],
       "layout": {
        "template": {
         "data": {
          "bar": [
           {
            "error_x": {
             "color": "#2a3f5f"
            },
            "error_y": {
             "color": "#2a3f5f"
            },
            "marker": {
             "line": {
              "color": "#E5ECF6",
              "width": 0.5
             },
             "pattern": {
              "fillmode": "overlay",
              "size": 10,
              "solidity": 0.2
             }
            },
            "type": "bar"
           }
          ],
          "barpolar": [
           {
            "marker": {
             "line": {
              "color": "#E5ECF6",
              "width": 0.5
             },
             "pattern": {
              "fillmode": "overlay",
              "size": 10,
              "solidity": 0.2
             }
            },
            "type": "barpolar"
           }
          ],
          "carpet": [
           {
            "aaxis": {
             "endlinecolor": "#2a3f5f",
             "gridcolor": "white",
             "linecolor": "white",
             "minorgridcolor": "white",
             "startlinecolor": "#2a3f5f"
            },
            "baxis": {
             "endlinecolor": "#2a3f5f",
             "gridcolor": "white",
             "linecolor": "white",
             "minorgridcolor": "white",
             "startlinecolor": "#2a3f5f"
            },
            "type": "carpet"
           }
          ],
          "choropleth": [
           {
            "colorbar": {
             "outlinewidth": 0,
             "ticks": ""
            },
            "type": "choropleth"
           }
          ],
          "contour": [
           {
            "colorbar": {
             "outlinewidth": 0,
             "ticks": ""
            },
            "colorscale": [
             [
              0,
              "#0d0887"
             ],
             [
              0.1111111111111111,
              "#46039f"
             ],
             [
              0.2222222222222222,
              "#7201a8"
             ],
             [
              0.3333333333333333,
              "#9c179e"
             ],
             [
              0.4444444444444444,
              "#bd3786"
             ],
             [
              0.5555555555555556,
              "#d8576b"
             ],
             [
              0.6666666666666666,
              "#ed7953"
             ],
             [
              0.7777777777777778,
              "#fb9f3a"
             ],
             [
              0.8888888888888888,
              "#fdca26"
             ],
             [
              1,
              "#f0f921"
             ]
            ],
            "type": "contour"
           }
          ],
          "contourcarpet": [
           {
            "colorbar": {
             "outlinewidth": 0,
             "ticks": ""
            },
            "type": "contourcarpet"
           }
          ],
          "heatmap": [
           {
            "colorbar": {
             "outlinewidth": 0,
             "ticks": ""
            },
            "colorscale": [
             [
              0,
              "#0d0887"
             ],
             [
              0.1111111111111111,
              "#46039f"
             ],
             [
              0.2222222222222222,
              "#7201a8"
             ],
             [
              0.3333333333333333,
              "#9c179e"
             ],
             [
              0.4444444444444444,
              "#bd3786"
             ],
             [
              0.5555555555555556,
              "#d8576b"
             ],
             [
              0.6666666666666666,
              "#ed7953"
             ],
             [
              0.7777777777777778,
              "#fb9f3a"
             ],
             [
              0.8888888888888888,
              "#fdca26"
             ],
             [
              1,
              "#f0f921"
             ]
            ],
            "type": "heatmap"
           }
          ],
          "heatmapgl": [
           {
            "colorbar": {
             "outlinewidth": 0,
             "ticks": ""
            },
            "colorscale": [
             [
              0,
              "#0d0887"
             ],
             [
              0.1111111111111111,
              "#46039f"
             ],
             [
              0.2222222222222222,
              "#7201a8"
             ],
             [
              0.3333333333333333,
              "#9c179e"
             ],
             [
              0.4444444444444444,
              "#bd3786"
             ],
             [
              0.5555555555555556,
              "#d8576b"
             ],
             [
              0.6666666666666666,
              "#ed7953"
             ],
             [
              0.7777777777777778,
              "#fb9f3a"
             ],
             [
              0.8888888888888888,
              "#fdca26"
             ],
             [
              1,
              "#f0f921"
             ]
            ],
            "type": "heatmapgl"
           }
          ],
          "histogram": [
           {
            "marker": {
             "pattern": {
              "fillmode": "overlay",
              "size": 10,
              "solidity": 0.2
             }
            },
            "type": "histogram"
           }
          ],
          "histogram2d": [
           {
            "colorbar": {
             "outlinewidth": 0,
             "ticks": ""
            },
            "colorscale": [
             [
              0,
              "#0d0887"
             ],
             [
              0.1111111111111111,
              "#46039f"
             ],
             [
              0.2222222222222222,
              "#7201a8"
             ],
             [
              0.3333333333333333,
              "#9c179e"
             ],
             [
              0.4444444444444444,
              "#bd3786"
             ],
             [
              0.5555555555555556,
              "#d8576b"
             ],
             [
              0.6666666666666666,
              "#ed7953"
             ],
             [
              0.7777777777777778,
              "#fb9f3a"
             ],
             [
              0.8888888888888888,
              "#fdca26"
             ],
             [
              1,
              "#f0f921"
             ]
            ],
            "type": "histogram2d"
           }
          ],
          "histogram2dcontour": [
           {
            "colorbar": {
             "outlinewidth": 0,
             "ticks": ""
            },
            "colorscale": [
             [
              0,
              "#0d0887"
             ],
             [
              0.1111111111111111,
              "#46039f"
             ],
             [
              0.2222222222222222,
              "#7201a8"
             ],
             [
              0.3333333333333333,
              "#9c179e"
             ],
             [
              0.4444444444444444,
              "#bd3786"
             ],
             [
              0.5555555555555556,
              "#d8576b"
             ],
             [
              0.6666666666666666,
              "#ed7953"
             ],
             [
              0.7777777777777778,
              "#fb9f3a"
             ],
             [
              0.8888888888888888,
              "#fdca26"
             ],
             [
              1,
              "#f0f921"
             ]
            ],
            "type": "histogram2dcontour"
           }
          ],
          "mesh3d": [
           {
            "colorbar": {
             "outlinewidth": 0,
             "ticks": ""
            },
            "type": "mesh3d"
           }
          ],
          "parcoords": [
           {
            "line": {
             "colorbar": {
              "outlinewidth": 0,
              "ticks": ""
             }
            },
            "type": "parcoords"
           }
          ],
          "pie": [
           {
            "automargin": true,
            "type": "pie"
           }
          ],
          "scatter": [
           {
            "fillpattern": {
             "fillmode": "overlay",
             "size": 10,
             "solidity": 0.2
            },
            "type": "scatter"
           }
          ],
          "scatter3d": [
           {
            "line": {
             "colorbar": {
              "outlinewidth": 0,
              "ticks": ""
             }
            },
            "marker": {
             "colorbar": {
              "outlinewidth": 0,
              "ticks": ""
             }
            },
            "type": "scatter3d"
           }
          ],
          "scattercarpet": [
           {
            "marker": {
             "colorbar": {
              "outlinewidth": 0,
              "ticks": ""
             }
            },
            "type": "scattercarpet"
           }
          ],
          "scattergeo": [
           {
            "marker": {
             "colorbar": {
              "outlinewidth": 0,
              "ticks": ""
             }
            },
            "type": "scattergeo"
           }
          ],
          "scattergl": [
           {
            "marker": {
             "colorbar": {
              "outlinewidth": 0,
              "ticks": ""
             }
            },
            "type": "scattergl"
           }
          ],
          "scattermapbox": [
           {
            "marker": {
             "colorbar": {
              "outlinewidth": 0,
              "ticks": ""
             }
            },
            "type": "scattermapbox"
           }
          ],
          "scatterpolar": [
           {
            "marker": {
             "colorbar": {
              "outlinewidth": 0,
              "ticks": ""
             }
            },
            "type": "scatterpolar"
           }
          ],
          "scatterpolargl": [
           {
            "marker": {
             "colorbar": {
              "outlinewidth": 0,
              "ticks": ""
             }
            },
            "type": "scatterpolargl"
           }
          ],
          "scatterternary": [
           {
            "marker": {
             "colorbar": {
              "outlinewidth": 0,
              "ticks": ""
             }
            },
            "type": "scatterternary"
           }
          ],
          "surface": [
           {
            "colorbar": {
             "outlinewidth": 0,
             "ticks": ""
            },
            "colorscale": [
             [
              0,
              "#0d0887"
             ],
             [
              0.1111111111111111,
              "#46039f"
             ],
             [
              0.2222222222222222,
              "#7201a8"
             ],
             [
              0.3333333333333333,
              "#9c179e"
             ],
             [
              0.4444444444444444,
              "#bd3786"
             ],
             [
              0.5555555555555556,
              "#d8576b"
             ],
             [
              0.6666666666666666,
              "#ed7953"
             ],
             [
              0.7777777777777778,
              "#fb9f3a"
             ],
             [
              0.8888888888888888,
              "#fdca26"
             ],
             [
              1,
              "#f0f921"
             ]
            ],
            "type": "surface"
           }
          ],
          "table": [
           {
            "cells": {
             "fill": {
              "color": "#EBF0F8"
             },
             "line": {
              "color": "white"
             }
            },
            "header": {
             "fill": {
              "color": "#C8D4E3"
             },
             "line": {
              "color": "white"
             }
            },
            "type": "table"
           }
          ]
         },
         "layout": {
          "annotationdefaults": {
           "arrowcolor": "#2a3f5f",
           "arrowhead": 0,
           "arrowwidth": 1
          },
          "autotypenumbers": "strict",
          "coloraxis": {
           "colorbar": {
            "outlinewidth": 0,
            "ticks": ""
           }
          },
          "colorscale": {
           "diverging": [
            [
             0,
             "#8e0152"
            ],
            [
             0.1,
             "#c51b7d"
            ],
            [
             0.2,
             "#de77ae"
            ],
            [
             0.3,
             "#f1b6da"
            ],
            [
             0.4,
             "#fde0ef"
            ],
            [
             0.5,
             "#f7f7f7"
            ],
            [
             0.6,
             "#e6f5d0"
            ],
            [
             0.7,
             "#b8e186"
            ],
            [
             0.8,
             "#7fbc41"
            ],
            [
             0.9,
             "#4d9221"
            ],
            [
             1,
             "#276419"
            ]
           ],
           "sequential": [
            [
             0,
             "#0d0887"
            ],
            [
             0.1111111111111111,
             "#46039f"
            ],
            [
             0.2222222222222222,
             "#7201a8"
            ],
            [
             0.3333333333333333,
             "#9c179e"
            ],
            [
             0.4444444444444444,
             "#bd3786"
            ],
            [
             0.5555555555555556,
             "#d8576b"
            ],
            [
             0.6666666666666666,
             "#ed7953"
            ],
            [
             0.7777777777777778,
             "#fb9f3a"
            ],
            [
             0.8888888888888888,
             "#fdca26"
            ],
            [
             1,
             "#f0f921"
            ]
           ],
           "sequentialminus": [
            [
             0,
             "#0d0887"
            ],
            [
             0.1111111111111111,
             "#46039f"
            ],
            [
             0.2222222222222222,
             "#7201a8"
            ],
            [
             0.3333333333333333,
             "#9c179e"
            ],
            [
             0.4444444444444444,
             "#bd3786"
            ],
            [
             0.5555555555555556,
             "#d8576b"
            ],
            [
             0.6666666666666666,
             "#ed7953"
            ],
            [
             0.7777777777777778,
             "#fb9f3a"
            ],
            [
             0.8888888888888888,
             "#fdca26"
            ],
            [
             1,
             "#f0f921"
            ]
           ]
          },
          "colorway": [
           "#636efa",
           "#EF553B",
           "#00cc96",
           "#ab63fa",
           "#FFA15A",
           "#19d3f3",
           "#FF6692",
           "#B6E880",
           "#FF97FF",
           "#FECB52"
          ],
          "font": {
           "color": "#2a3f5f"
          },
          "geo": {
           "bgcolor": "white",
           "lakecolor": "white",
           "landcolor": "#E5ECF6",
           "showlakes": true,
           "showland": true,
           "subunitcolor": "white"
          },
          "hoverlabel": {
           "align": "left"
          },
          "hovermode": "closest",
          "mapbox": {
           "style": "light"
          },
          "paper_bgcolor": "white",
          "plot_bgcolor": "#E5ECF6",
          "polar": {
           "angularaxis": {
            "gridcolor": "white",
            "linecolor": "white",
            "ticks": ""
           },
           "bgcolor": "#E5ECF6",
           "radialaxis": {
            "gridcolor": "white",
            "linecolor": "white",
            "ticks": ""
           }
          },
          "scene": {
           "xaxis": {
            "backgroundcolor": "#E5ECF6",
            "gridcolor": "white",
            "gridwidth": 2,
            "linecolor": "white",
            "showbackground": true,
            "ticks": "",
            "zerolinecolor": "white"
           },
           "yaxis": {
            "backgroundcolor": "#E5ECF6",
            "gridcolor": "white",
            "gridwidth": 2,
            "linecolor": "white",
            "showbackground": true,
            "ticks": "",
            "zerolinecolor": "white"
           },
           "zaxis": {
            "backgroundcolor": "#E5ECF6",
            "gridcolor": "white",
            "gridwidth": 2,
            "linecolor": "white",
            "showbackground": true,
            "ticks": "",
            "zerolinecolor": "white"
           }
          },
          "shapedefaults": {
           "line": {
            "color": "#2a3f5f"
           }
          },
          "ternary": {
           "aaxis": {
            "gridcolor": "white",
            "linecolor": "white",
            "ticks": ""
           },
           "baxis": {
            "gridcolor": "white",
            "linecolor": "white",
            "ticks": ""
           },
           "bgcolor": "#E5ECF6",
           "caxis": {
            "gridcolor": "white",
            "linecolor": "white",
            "ticks": ""
           }
          },
          "title": {
           "x": 0.05
          },
          "xaxis": {
           "automargin": true,
           "gridcolor": "white",
           "linecolor": "white",
           "ticks": "",
           "title": {
            "standoff": 15
           },
           "zerolinecolor": "white",
           "zerolinewidth": 2
          },
          "yaxis": {
           "automargin": true,
           "gridcolor": "white",
           "linecolor": "white",
           "ticks": "",
           "title": {
            "standoff": 15
           },
           "zerolinecolor": "white",
           "zerolinewidth": 2
          }
         }
        },
        "title": {
         "font": {
          "family": "Arial",
          "size": 16
         },
         "text": "ODA flows to Pakistan by year"
        },
        "xaxis": {
         "title": {
          "font": {
           "family": "Arial",
           "size": 12
          },
          "text": "Year"
         }
        },
        "yaxis": {
         "title": {
          "font": {
           "family": "Arial",
           "size": 12
          },
          "text": "ODA disbursement ($million)"
         }
        }
       }
      }
     },
     "metadata": {},
     "output_type": "display_data"
    }
   ],
   "source": [
    "# Create a bar chart using Plotly\n",
    "fig = go.Figure(data=[go.Bar(\n",
    "    x=crs_grouped[\"year\"],  # x-axis\n",
    "    y=crs_grouped[\"value\"],  # y-axis\n",
    "    marker_color=\"#9E2A2B\"    # Color specified using HEX code\n",
    ")])\n",
    "\n",
    "# Add titles and labels\n",
    "fig.update_layout(\n",
    "    title=\"ODA flows to Pakistan by year\",\n",
    "    title_font=dict(family=\"Arial\", size=16),\n",
    "    xaxis_title=\"Year\",\n",
    "    xaxis_title_font=dict(family=\"Arial\", size=12),\n",
    "    yaxis_title=\"ODA disbursement ($million)\",\n",
    "    yaxis_title_font=dict(family=\"Arial\", size=12)\n",
    ")\n",
    "\n",
    "# Show the figure\n",
    "fig.show()\n"
   ]
  },
  {
   "cell_type": "markdown",
   "id": "9796345a",
   "metadata": {},
   "source": [
    "next steps - categorise these donors in groups, so graph is much digestible"
   ]
  },
  {
   "cell_type": "code",
   "execution_count": null,
   "id": "c1441be6-ba02-49a8-b93c-2b4d1d4bc1ff",
   "metadata": {},
   "outputs": [],
   "source": []
  }
 ],
 "metadata": {
  "kernelspec": {
   "display_name": "base",
   "language": "python",
   "name": "python3"
  },
  "language_info": {
   "codemirror_mode": {
    "name": "ipython",
    "version": 3
   },
   "file_extension": ".py",
   "mimetype": "text/x-python",
   "name": "python",
   "nbconvert_exporter": "python",
   "pygments_lexer": "ipython3",
   "version": "3.12.5"
  }
 },
 "nbformat": 4,
 "nbformat_minor": 5
}
