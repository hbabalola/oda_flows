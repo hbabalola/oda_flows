{
 "cells": [
  {
   "cell_type": "code",
   "execution_count": 1,
   "id": "27027bf0-f79e-4f24-bdb3-7c75cdc25e95",
   "metadata": {},
   "outputs": [],
   "source": [
    "import numpy as np\n",
    "import pandas as pd\n",
    "import plotly.graph_objects as go\n",
    "import plotly.express as px\n",
    "from dash import Dash, html, dash_table, dcc, callback, Output, Input"
   ]
  },
  {
   "cell_type": "code",
   "execution_count": 2,
   "id": "091230bb-3d48-44a9-89b0-cc46f9052c4a",
   "metadata": {},
   "outputs": [],
   "source": [
    "#loading data\n",
    "crs_data = pd.read_csv(\"crs_data.csv\")"
   ]
  },
  {
   "cell_type": "code",
   "execution_count": 3,
   "id": "a61a1368-aa04-4c33-9152-2b08ec6754c1",
   "metadata": {},
   "outputs": [],
   "source": [
    "#understanding variables\n",
    "#crs_data.head()\n",
    "#crs_data.info()"
   ]
  },
  {
   "cell_type": "code",
   "execution_count": 4,
   "id": "6709b78a",
   "metadata": {},
   "outputs": [],
   "source": [
    "#figuring out what the unique donor names are, to categorise\n",
    "#unique_donor_name = crs_data[\"donor_name\"].unique()\n",
    "#print(unique_donor_name)\n",
    "#unique_donors.to_csv('unique_donors_250517.csv', index=False)"
   ]
  },
  {
   "cell_type": "code",
   "execution_count": 5,
   "id": "abb4c0f9",
   "metadata": {},
   "outputs": [],
   "source": [
    "#Grouping donors into mutually exclusive categories - G7, BRICS, UN, World Bank, Other - etc\n",
    "\n",
    "g7 = [\"United Kingdom\", \n",
    "      \"United States\", \n",
    "      \"France\", \n",
    "      \"Germany\", \n",
    "      \"Italy\", \n",
    "      \"Canada\", \n",
    "      \"Japan\"]\n",
    "\n",
    "brics = [\"Brazil\", \n",
    "         \"Russia\", \n",
    "         \"India\",\n",
    "         \"China\", \n",
    "         \"South Africa\"] # no BRIC countries currently in dataset\n",
    "\n",
    "eu_institutions = [\"EU Institutions\"]\n",
    "\n",
    "foundation = [\"Wellcome Trust\",\n",
    "            \"IKEA Foundation\",\n",
    "            \"William and Flora Hewlett Foundation\",\n",
    "            \"Jacobs Foundation\",\n",
    "            \"German Postcode Lottery\",\n",
    "            \"Open Society Foundations\",\n",
    "            \"UBS Optimus Foundation\",\n",
    "            \"Susan T. Buffett Foundation\",\n",
    "            \"World Diabetes Foundation\",\n",
    "            \"Gates Foundation\",\n",
    "            \"Rockefeller Foundation\",\n",
    "            \"Laudes Foundation\",\n",
    "            \"H&M Foundation\",\n",
    "            \"David and Lucile Packard Foundation\",\n",
    "            \"LEGO Foundation\",\n",
    "            \"Children's Investment Fund Foundation\",\n",
    "            \"Conrad N. Hilton Foundation\",\n",
    "            \"Ford Foundation\",\n",
    "            \"Good Ventures Foundation\",\n",
    "            \"Citi Foundation\",\n",
    "            \"Bloomberg Family Foundation\",\n",
    "            \"Arcadia Fund\"\n",
    "            ]\n",
    "\n",
    "un_agency = [\"International Centre for Genetic Engineering and Biotechnology [ICGEB]\",\n",
    "            \"WFP\",\n",
    "            \"United Nations Industrial Development Organization [UNIDO]\",\n",
    "            \"UNICEF\",\n",
    "            \"UNFPA\",\n",
    "            \"UNHCR\",\n",
    "            \"UNDP\",\n",
    "            \"UNAIDS\",\n",
    "            \"UN Women\",\n",
    "            \"International Labour Organisation [ILO]\",\n",
    "            \"Joint Sustainable Development Goals Fund [Joint SDG Fund]\",\n",
    "            \"UN Development Coordination Office\",\n",
    "            \"Food and Agriculture Organisation [FAO]\",\n",
    "            \"International Atomic Energy Agency [IAEA]\",\n",
    "            \"Central Emergency Response Fund [CERF]\",\n",
    "            \"IFAD\",\n",
    "            \"COVID-19 Response and Recovery Multi-Partner Trust Fund [UN COVID-19 MPTF]\"\n",
    "            ]\n",
    "\n",
    "world_bank = [\"International Development Association [IDA]\",\n",
    "              \"International Bank for Reconstruction and Development [IBRD]\"]\n",
    "\n",
    "other_dfi_ifi_bank = [\"OPEC Fund for International Development [OPEC Fund]\",\n",
    "                \"Global Fund\",\n",
    "                \"Green Climate Fund [GCF]\"\n",
    "                \"Private Infrastructure Development Group\",\n",
    "                \"Global Environment Facility [GEF]\",\n",
    "                \"Adaptation Fund\",\n",
    "                \"Nordic Development Fund [NDF]\",\n",
    "                \"Islamic Development Bank [IsDB]\",\n",
    "                \"Asian Infrastructure Investment Bank [AIIB]\",\n",
    "                \"Asian Development Bank [AsDB]\",\n",
    "                \"IMF Concessional Trust Funds\"\n",
    "                ]\n",
    "\n",
    "other_igo_ngo_ppp = [\"World Health Organisation [WHO]\",\n",
    "                \"World Trade Organisation\",\n",
    "                \"WTO - International Trade Centre [ITC]\",\n",
    "                \"WHO-Strategic Preparedness and Response Plan [SPRP]\",\n",
    "                \"Global Alliance for Vaccines and Immunization [GAVI]\"\n",
    "                ]\n",
    "\n",
    "other_country = [\"Australia\",\n",
    "            \"Austria\",\n",
    "            \"Azerbaijan\",\n",
    "            \"Belgium\",\n",
    "            \"Bulgaria\",\n",
    "            \"Croatia\",\n",
    "            \"Czechia\",\n",
    "            \"Denmark\",\n",
    "            \"Estonia\",\n",
    "            \"Finland\",\n",
    "            \"Greece\",\n",
    "            \"Hungary\",\n",
    "            \"Iceland\",\n",
    "            \"Ireland\",\n",
    "            \"Israel\",\n",
    "            \"Kazakhstan\",\n",
    "            \"Korea\",\n",
    "            \"Kuwait\",\n",
    "            \"Latvia\",\n",
    "            \"Liechtenstein\",\n",
    "            \"Lithuania\",\n",
    "            \"Luxembourg\",\n",
    "            \"Malta\",\n",
    "            \"Netherlands\",\n",
    "            \"New Zealand\",\n",
    "            \"Norway\",\n",
    "            \"Poland\",\n",
    "            \"Portugal\",\n",
    "            \"Qatar\",\n",
    "            \"Romania\",\n",
    "            \"Saudi Arabia\",\n",
    "            \"Slovak Republic\",\n",
    "            \"Slovenia\",\n",
    "            \"Spain\",\n",
    "            \"Sweden\",\n",
    "            \"Switzerland\",\n",
    "            \"Türkiye\",\n",
    "            \"Thailand\",\n",
    "            \"United Arab Emirates\"\n",
    "]\n",
    "\n"
   ]
  },
  {
   "cell_type": "code",
   "execution_count": 6,
   "id": "aab2e321",
   "metadata": {},
   "outputs": [],
   "source": [
    "# define function to apply donor grouping\n",
    "def donor_group_function (donor):\n",
    "    if donor in g7:\n",
    "        return \"G7\"\n",
    "    elif donor in brics:\n",
    "        return \"BRICS\"\n",
    "    elif donor in eu_institutions:\n",
    "        return \"EU Institutions\"\n",
    "    elif donor in foundation:\n",
    "        return \"Foundation\"\n",
    "    elif donor in un_agency:\n",
    "        return \"UN Agency\"\n",
    "    elif donor in world_bank:\n",
    "        return \"World Bank\"\n",
    "    elif donor in other_country:\n",
    "        return \"Other - Country\"\n",
    "    elif donor in other_dfi_ifi_bank:\n",
    "        return \"Other - DFI, IFI, Bank\"\n",
    "    else:\n",
    "        return \"Other - IGO, NGO, PPP\"\n",
    "    \n",
    "#apply function crs_data to a new variable called 'donor group'\n",
    "crs_data[\"donor_group\"] = crs_data[\"donor_name\"].apply(donor_group_function)"
   ]
  },
  {
   "cell_type": "code",
   "execution_count": 7,
   "id": "4008e189",
   "metadata": {},
   "outputs": [
    {
     "data": {
      "text/html": [
       "<div>\n",
       "<style scoped>\n",
       "    .dataframe tbody tr th:only-of-type {\n",
       "        vertical-align: middle;\n",
       "    }\n",
       "\n",
       "    .dataframe tbody tr th {\n",
       "        vertical-align: top;\n",
       "    }\n",
       "\n",
       "    .dataframe thead th {\n",
       "        text-align: right;\n",
       "    }\n",
       "</style>\n",
       "<table border=\"1\" class=\"dataframe\">\n",
       "  <thead>\n",
       "    <tr style=\"text-align: right;\">\n",
       "      <th></th>\n",
       "      <th>year</th>\n",
       "      <th>donor_group</th>\n",
       "      <th>value</th>\n",
       "      <th>value_bn</th>\n",
       "      <th>value_bn_rounded</th>\n",
       "    </tr>\n",
       "  </thead>\n",
       "  <tbody>\n",
       "    <tr>\n",
       "      <th>0</th>\n",
       "      <td>2002</td>\n",
       "      <td>G7</td>\n",
       "      <td>4361.032566</td>\n",
       "      <td>4.361033</td>\n",
       "      <td>4.36</td>\n",
       "    </tr>\n",
       "    <tr>\n",
       "      <th>1</th>\n",
       "      <td>2002</td>\n",
       "      <td>Other - Country</td>\n",
       "      <td>131.898886</td>\n",
       "      <td>0.131899</td>\n",
       "      <td>0.13</td>\n",
       "    </tr>\n",
       "    <tr>\n",
       "      <th>2</th>\n",
       "      <td>2002</td>\n",
       "      <td>Other - DFI, IFI, Bank</td>\n",
       "      <td>859.946212</td>\n",
       "      <td>0.859946</td>\n",
       "      <td>0.86</td>\n",
       "    </tr>\n",
       "    <tr>\n",
       "      <th>3</th>\n",
       "      <td>2002</td>\n",
       "      <td>UN Agency</td>\n",
       "      <td>39.043041</td>\n",
       "      <td>0.039043</td>\n",
       "      <td>0.04</td>\n",
       "    </tr>\n",
       "    <tr>\n",
       "      <th>4</th>\n",
       "      <td>2002</td>\n",
       "      <td>World Bank</td>\n",
       "      <td>2443.378006</td>\n",
       "      <td>2.443378</td>\n",
       "      <td>2.44</td>\n",
       "    </tr>\n",
       "  </tbody>\n",
       "</table>\n",
       "</div>"
      ],
      "text/plain": [
       "   year             donor_group        value  value_bn  value_bn_rounded\n",
       "0  2002                      G7  4361.032566  4.361033              4.36\n",
       "1  2002         Other - Country   131.898886  0.131899              0.13\n",
       "2  2002  Other - DFI, IFI, Bank   859.946212  0.859946              0.86\n",
       "3  2002               UN Agency    39.043041  0.039043              0.04\n",
       "4  2002              World Bank  2443.378006  2.443378              2.44"
      ]
     },
     "execution_count": 7,
     "metadata": {},
     "output_type": "execute_result"
    }
   ],
   "source": [
    "#grouping dataset, calculating sum and rounding to billion - for charts\n",
    "crs_grouped = crs_data.groupby(['year','donor_group'], as_index=False)['value'].sum()\n",
    "crs_grouped[\"value_bn\"] = crs_grouped[\"value\"] / 1000\n",
    "crs_grouped[\"value_bn_rounded\"] = crs_grouped[\"value_bn\"].round(2)\n",
    "\n",
    "crs_grouped.head()"
   ]
  },
  {
   "cell_type": "markdown",
   "id": "210a99ea",
   "metadata": {},
   "source": [
    "#### EXPLORING VISUALISATIONS WITH PLOTLY EXPRESS"
   ]
  },
  {
   "cell_type": "code",
   "execution_count": 22,
   "id": "90e2802d",
   "metadata": {},
   "outputs": [
    {
     "data": {
      "application/vnd.plotly.v1+json": {
       "config": {
        "plotlyServerURL": "https://plot.ly"
       },
       "data": [
        {
         "alignmentgroup": "True",
         "hovertemplate": "Donor Group=G7<br>Year=%{x}<br>ODA disbursement ($billion)=%{y}<extra></extra>",
         "legendgroup": "G7",
         "marker": {
          "color": "rgb(136, 204, 238)",
          "pattern": {
           "shape": ""
          }
         },
         "name": "G7",
         "offsetgroup": "G7",
         "orientation": "v",
         "showlegend": true,
         "textposition": "auto",
         "texttemplate": "%{y}",
         "type": "bar",
         "x": [
          2002,
          2003,
          2004,
          2005,
          2006,
          2007,
          2008,
          2009,
          2010,
          2011,
          2012,
          2013,
          2014,
          2015,
          2016,
          2017,
          2018,
          2019,
          2020,
          2021,
          2022,
          2023
         ],
         "xaxis": "x",
         "y": [
          4.36,
          4.89,
          0.75,
          1.47,
          2.42,
          1.94,
          1.8,
          2.54,
          4.49,
          5.19,
          3.14,
          3.39,
          3.62,
          3.71,
          3.75,
          3.49,
          2.77,
          2.42,
          1.74,
          1.76,
          1.38,
          1.36
         ],
         "yaxis": "y"
        },
        {
         "alignmentgroup": "True",
         "hovertemplate": "Donor Group=Other - Country<br>Year=%{x}<br>ODA disbursement ($billion)=%{y}<extra></extra>",
         "legendgroup": "Other - Country",
         "marker": {
          "color": "rgb(204, 102, 119)",
          "pattern": {
           "shape": ""
          }
         },
         "name": "Other - Country",
         "offsetgroup": "Other - Country",
         "orientation": "v",
         "showlegend": true,
         "textposition": "auto",
         "texttemplate": "%{y}",
         "type": "bar",
         "x": [
          2002,
          2003,
          2004,
          2005,
          2006,
          2007,
          2008,
          2009,
          2010,
          2011,
          2012,
          2013,
          2014,
          2015,
          2016,
          2017,
          2018,
          2019,
          2020,
          2021,
          2022,
          2023
         ],
         "xaxis": "x",
         "y": [
          0.13,
          0.11,
          0.1,
          0.48,
          0.29,
          0.29,
          0.27,
          0.76,
          1.05,
          0.72,
          0.79,
          0.73,
          0.59,
          0.62,
          0.37,
          0.53,
          0.47,
          0.7,
          0.28,
          0.31,
          0.5,
          4.4
         ],
         "yaxis": "y"
        },
        {
         "alignmentgroup": "True",
         "hovertemplate": "Donor Group=Other - DFI, IFI, Bank<br>Year=%{x}<br>ODA disbursement ($billion)=%{y}<extra></extra>",
         "legendgroup": "Other - DFI, IFI, Bank",
         "marker": {
          "color": "rgb(221, 204, 119)",
          "pattern": {
           "shape": ""
          }
         },
         "name": "Other - DFI, IFI, Bank",
         "offsetgroup": "Other - DFI, IFI, Bank",
         "orientation": "v",
         "showlegend": true,
         "textposition": "auto",
         "texttemplate": "%{y}",
         "type": "bar",
         "x": [
          2002,
          2003,
          2004,
          2005,
          2006,
          2007,
          2008,
          2009,
          2010,
          2011,
          2012,
          2013,
          2014,
          2015,
          2016,
          2017,
          2018,
          2019,
          2020,
          2021,
          2022,
          2023
         ],
         "xaxis": "x",
         "y": [
          0.86,
          1.15,
          0.59,
          0.01,
          0.02,
          0.03,
          0.02,
          0.09,
          1.75,
          1.16,
          1.56,
          1.83,
          2.42,
          2.17,
          3.24,
          3.67,
          1.93,
          5.32,
          5.69,
          5.45,
          7.83,
          3.43
         ],
         "yaxis": "y"
        },
        {
         "alignmentgroup": "True",
         "hovertemplate": "Donor Group=UN Agency<br>Year=%{x}<br>ODA disbursement ($billion)=%{y}<extra></extra>",
         "legendgroup": "UN Agency",
         "marker": {
          "color": "rgb(17, 119, 51)",
          "pattern": {
           "shape": ""
          }
         },
         "name": "UN Agency",
         "offsetgroup": "UN Agency",
         "orientation": "v",
         "showlegend": true,
         "textposition": "auto",
         "texttemplate": "%{y}",
         "type": "bar",
         "x": [
          2002,
          2003,
          2004,
          2005,
          2006,
          2007,
          2008,
          2009,
          2010,
          2011,
          2012,
          2013,
          2014,
          2015,
          2016,
          2017,
          2018,
          2019,
          2020,
          2021,
          2022,
          2023
         ],
         "xaxis": "x",
         "y": [
          0.04,
          0.05,
          0.06,
          0.08,
          0.07,
          0.08,
          0.11,
          0.12,
          0.12,
          0.15,
          0.11,
          0.07,
          0.07,
          0.15,
          0.18,
          0.14,
          0.16,
          0.2,
          0.18,
          0.2,
          0.27,
          0.23
         ],
         "yaxis": "y"
        },
        {
         "alignmentgroup": "True",
         "hovertemplate": "Donor Group=World Bank<br>Year=%{x}<br>ODA disbursement ($billion)=%{y}<extra></extra>",
         "legendgroup": "World Bank",
         "marker": {
          "color": "rgb(51, 34, 136)",
          "pattern": {
           "shape": ""
          }
         },
         "name": "World Bank",
         "offsetgroup": "World Bank",
         "orientation": "v",
         "showlegend": true,
         "textposition": "auto",
         "texttemplate": "%{y}",
         "type": "bar",
         "x": [
          2002,
          2003,
          2004,
          2005,
          2006,
          2007,
          2008,
          2009,
          2010,
          2011,
          2012,
          2013,
          2014,
          2015,
          2016,
          2017,
          2018,
          2019,
          2020,
          2021,
          2022,
          2023
         ],
         "xaxis": "x",
         "y": [
          2.44,
          0.34,
          1.78,
          1.9,
          2.22,
          2.54,
          0.5,
          2.66,
          0.9,
          1.91,
          1.3,
          1.11,
          3.19,
          3.62,
          2.29,
          1.98,
          1.4,
          1.55,
          3.81,
          4.43,
          2.61,
          5.12
         ],
         "yaxis": "y"
        },
        {
         "alignmentgroup": "True",
         "hovertemplate": "Donor Group=EU Institutions<br>Year=%{x}<br>ODA disbursement ($billion)=%{y}<extra></extra>",
         "legendgroup": "EU Institutions",
         "marker": {
          "color": "rgb(170, 68, 153)",
          "pattern": {
           "shape": ""
          }
         },
         "name": "EU Institutions",
         "offsetgroup": "EU Institutions",
         "orientation": "v",
         "showlegend": true,
         "textposition": "auto",
         "texttemplate": "%{y}",
         "type": "bar",
         "x": [
          2003,
          2005,
          2006,
          2007,
          2008,
          2009,
          2010,
          2011,
          2012,
          2013,
          2014,
          2015,
          2016,
          2017,
          2018,
          2019,
          2020,
          2021,
          2022,
          2023
         ],
         "xaxis": "x",
         "y": [
          0,
          0.1,
          0.23,
          0.14,
          0.12,
          0.2,
          0.35,
          0.51,
          0.39,
          0.29,
          0.32,
          0.27,
          0.31,
          0.29,
          0.28,
          0.24,
          0.28,
          0.24,
          0.25,
          0.21
         ],
         "yaxis": "y"
        },
        {
         "alignmentgroup": "True",
         "hovertemplate": "Donor Group=Other - IGO, NGO, PPP<br>Year=%{x}<br>ODA disbursement ($billion)=%{y}<extra></extra>",
         "legendgroup": "Other - IGO, NGO, PPP",
         "marker": {
          "color": "rgb(68, 170, 153)",
          "pattern": {
           "shape": ""
          }
         },
         "name": "Other - IGO, NGO, PPP",
         "offsetgroup": "Other - IGO, NGO, PPP",
         "orientation": "v",
         "showlegend": true,
         "textposition": "auto",
         "texttemplate": "%{y}",
         "type": "bar",
         "x": [
          2007,
          2008,
          2009,
          2010,
          2011,
          2012,
          2013,
          2014,
          2015,
          2016,
          2017,
          2018,
          2019,
          2020,
          2021,
          2022,
          2023
         ],
         "xaxis": "x",
         "y": [
          0.07,
          0.15,
          0.07,
          0.2,
          0.04,
          0.32,
          0.35,
          0.18,
          0.22,
          0.28,
          0.27,
          0.38,
          0.31,
          0.58,
          0.49,
          0.27,
          0.17
         ],
         "yaxis": "y"
        },
        {
         "alignmentgroup": "True",
         "hovertemplate": "Donor Group=Foundation<br>Year=%{x}<br>ODA disbursement ($billion)=%{y}<extra></extra>",
         "legendgroup": "Foundation",
         "marker": {
          "color": "rgb(153, 153, 51)",
          "pattern": {
           "shape": ""
          }
         },
         "name": "Foundation",
         "offsetgroup": "Foundation",
         "orientation": "v",
         "showlegend": true,
         "textposition": "auto",
         "texttemplate": "%{y}",
         "type": "bar",
         "x": [
          2009,
          2010,
          2011,
          2012,
          2013,
          2014,
          2015,
          2016,
          2017,
          2018,
          2019,
          2020,
          2021,
          2022,
          2023
         ],
         "xaxis": "x",
         "y": [
          0.07,
          0.04,
          0.19,
          0.07,
          0.06,
          0.1,
          0.12,
          0.18,
          0.31,
          0.3,
          0.29,
          0.28,
          0.31,
          0.39,
          0.39
         ],
         "yaxis": "y"
        }
       ],
       "layout": {
        "barmode": "stack",
        "legend": {
         "title": {
          "text": "Donor"
         },
         "tracegroupgap": 0
        },
        "template": {
         "data": {
          "bar": [
           {
            "error_x": {
             "color": "#2a3f5f"
            },
            "error_y": {
             "color": "#2a3f5f"
            },
            "marker": {
             "line": {
              "color": "white",
              "width": 0.5
             },
             "pattern": {
              "fillmode": "overlay",
              "size": 10,
              "solidity": 0.2
             }
            },
            "type": "bar"
           }
          ],
          "barpolar": [
           {
            "marker": {
             "line": {
              "color": "white",
              "width": 0.5
             },
             "pattern": {
              "fillmode": "overlay",
              "size": 10,
              "solidity": 0.2
             }
            },
            "type": "barpolar"
           }
          ],
          "carpet": [
           {
            "aaxis": {
             "endlinecolor": "#2a3f5f",
             "gridcolor": "#C8D4E3",
             "linecolor": "#C8D4E3",
             "minorgridcolor": "#C8D4E3",
             "startlinecolor": "#2a3f5f"
            },
            "baxis": {
             "endlinecolor": "#2a3f5f",
             "gridcolor": "#C8D4E3",
             "linecolor": "#C8D4E3",
             "minorgridcolor": "#C8D4E3",
             "startlinecolor": "#2a3f5f"
            },
            "type": "carpet"
           }
          ],
          "choropleth": [
           {
            "colorbar": {
             "outlinewidth": 0,
             "ticks": ""
            },
            "type": "choropleth"
           }
          ],
          "contour": [
           {
            "colorbar": {
             "outlinewidth": 0,
             "ticks": ""
            },
            "colorscale": [
             [
              0,
              "#0d0887"
             ],
             [
              0.1111111111111111,
              "#46039f"
             ],
             [
              0.2222222222222222,
              "#7201a8"
             ],
             [
              0.3333333333333333,
              "#9c179e"
             ],
             [
              0.4444444444444444,
              "#bd3786"
             ],
             [
              0.5555555555555556,
              "#d8576b"
             ],
             [
              0.6666666666666666,
              "#ed7953"
             ],
             [
              0.7777777777777778,
              "#fb9f3a"
             ],
             [
              0.8888888888888888,
              "#fdca26"
             ],
             [
              1,
              "#f0f921"
             ]
            ],
            "type": "contour"
           }
          ],
          "contourcarpet": [
           {
            "colorbar": {
             "outlinewidth": 0,
             "ticks": ""
            },
            "type": "contourcarpet"
           }
          ],
          "heatmap": [
           {
            "colorbar": {
             "outlinewidth": 0,
             "ticks": ""
            },
            "colorscale": [
             [
              0,
              "#0d0887"
             ],
             [
              0.1111111111111111,
              "#46039f"
             ],
             [
              0.2222222222222222,
              "#7201a8"
             ],
             [
              0.3333333333333333,
              "#9c179e"
             ],
             [
              0.4444444444444444,
              "#bd3786"
             ],
             [
              0.5555555555555556,
              "#d8576b"
             ],
             [
              0.6666666666666666,
              "#ed7953"
             ],
             [
              0.7777777777777778,
              "#fb9f3a"
             ],
             [
              0.8888888888888888,
              "#fdca26"
             ],
             [
              1,
              "#f0f921"
             ]
            ],
            "type": "heatmap"
           }
          ],
          "heatmapgl": [
           {
            "colorbar": {
             "outlinewidth": 0,
             "ticks": ""
            },
            "colorscale": [
             [
              0,
              "#0d0887"
             ],
             [
              0.1111111111111111,
              "#46039f"
             ],
             [
              0.2222222222222222,
              "#7201a8"
             ],
             [
              0.3333333333333333,
              "#9c179e"
             ],
             [
              0.4444444444444444,
              "#bd3786"
             ],
             [
              0.5555555555555556,
              "#d8576b"
             ],
             [
              0.6666666666666666,
              "#ed7953"
             ],
             [
              0.7777777777777778,
              "#fb9f3a"
             ],
             [
              0.8888888888888888,
              "#fdca26"
             ],
             [
              1,
              "#f0f921"
             ]
            ],
            "type": "heatmapgl"
           }
          ],
          "histogram": [
           {
            "marker": {
             "pattern": {
              "fillmode": "overlay",
              "size": 10,
              "solidity": 0.2
             }
            },
            "type": "histogram"
           }
          ],
          "histogram2d": [
           {
            "colorbar": {
             "outlinewidth": 0,
             "ticks": ""
            },
            "colorscale": [
             [
              0,
              "#0d0887"
             ],
             [
              0.1111111111111111,
              "#46039f"
             ],
             [
              0.2222222222222222,
              "#7201a8"
             ],
             [
              0.3333333333333333,
              "#9c179e"
             ],
             [
              0.4444444444444444,
              "#bd3786"
             ],
             [
              0.5555555555555556,
              "#d8576b"
             ],
             [
              0.6666666666666666,
              "#ed7953"
             ],
             [
              0.7777777777777778,
              "#fb9f3a"
             ],
             [
              0.8888888888888888,
              "#fdca26"
             ],
             [
              1,
              "#f0f921"
             ]
            ],
            "type": "histogram2d"
           }
          ],
          "histogram2dcontour": [
           {
            "colorbar": {
             "outlinewidth": 0,
             "ticks": ""
            },
            "colorscale": [
             [
              0,
              "#0d0887"
             ],
             [
              0.1111111111111111,
              "#46039f"
             ],
             [
              0.2222222222222222,
              "#7201a8"
             ],
             [
              0.3333333333333333,
              "#9c179e"
             ],
             [
              0.4444444444444444,
              "#bd3786"
             ],
             [
              0.5555555555555556,
              "#d8576b"
             ],
             [
              0.6666666666666666,
              "#ed7953"
             ],
             [
              0.7777777777777778,
              "#fb9f3a"
             ],
             [
              0.8888888888888888,
              "#fdca26"
             ],
             [
              1,
              "#f0f921"
             ]
            ],
            "type": "histogram2dcontour"
           }
          ],
          "mesh3d": [
           {
            "colorbar": {
             "outlinewidth": 0,
             "ticks": ""
            },
            "type": "mesh3d"
           }
          ],
          "parcoords": [
           {
            "line": {
             "colorbar": {
              "outlinewidth": 0,
              "ticks": ""
             }
            },
            "type": "parcoords"
           }
          ],
          "pie": [
           {
            "automargin": true,
            "type": "pie"
           }
          ],
          "scatter": [
           {
            "fillpattern": {
             "fillmode": "overlay",
             "size": 10,
             "solidity": 0.2
            },
            "type": "scatter"
           }
          ],
          "scatter3d": [
           {
            "line": {
             "colorbar": {
              "outlinewidth": 0,
              "ticks": ""
             }
            },
            "marker": {
             "colorbar": {
              "outlinewidth": 0,
              "ticks": ""
             }
            },
            "type": "scatter3d"
           }
          ],
          "scattercarpet": [
           {
            "marker": {
             "colorbar": {
              "outlinewidth": 0,
              "ticks": ""
             }
            },
            "type": "scattercarpet"
           }
          ],
          "scattergeo": [
           {
            "marker": {
             "colorbar": {
              "outlinewidth": 0,
              "ticks": ""
             }
            },
            "type": "scattergeo"
           }
          ],
          "scattergl": [
           {
            "marker": {
             "colorbar": {
              "outlinewidth": 0,
              "ticks": ""
             }
            },
            "type": "scattergl"
           }
          ],
          "scattermapbox": [
           {
            "marker": {
             "colorbar": {
              "outlinewidth": 0,
              "ticks": ""
             }
            },
            "type": "scattermapbox"
           }
          ],
          "scatterpolar": [
           {
            "marker": {
             "colorbar": {
              "outlinewidth": 0,
              "ticks": ""
             }
            },
            "type": "scatterpolar"
           }
          ],
          "scatterpolargl": [
           {
            "marker": {
             "colorbar": {
              "outlinewidth": 0,
              "ticks": ""
             }
            },
            "type": "scatterpolargl"
           }
          ],
          "scatterternary": [
           {
            "marker": {
             "colorbar": {
              "outlinewidth": 0,
              "ticks": ""
             }
            },
            "type": "scatterternary"
           }
          ],
          "surface": [
           {
            "colorbar": {
             "outlinewidth": 0,
             "ticks": ""
            },
            "colorscale": [
             [
              0,
              "#0d0887"
             ],
             [
              0.1111111111111111,
              "#46039f"
             ],
             [
              0.2222222222222222,
              "#7201a8"
             ],
             [
              0.3333333333333333,
              "#9c179e"
             ],
             [
              0.4444444444444444,
              "#bd3786"
             ],
             [
              0.5555555555555556,
              "#d8576b"
             ],
             [
              0.6666666666666666,
              "#ed7953"
             ],
             [
              0.7777777777777778,
              "#fb9f3a"
             ],
             [
              0.8888888888888888,
              "#fdca26"
             ],
             [
              1,
              "#f0f921"
             ]
            ],
            "type": "surface"
           }
          ],
          "table": [
           {
            "cells": {
             "fill": {
              "color": "#EBF0F8"
             },
             "line": {
              "color": "white"
             }
            },
            "header": {
             "fill": {
              "color": "#C8D4E3"
             },
             "line": {
              "color": "white"
             }
            },
            "type": "table"
           }
          ]
         },
         "layout": {
          "annotationdefaults": {
           "arrowcolor": "#2a3f5f",
           "arrowhead": 0,
           "arrowwidth": 1
          },
          "autotypenumbers": "strict",
          "coloraxis": {
           "colorbar": {
            "outlinewidth": 0,
            "ticks": ""
           }
          },
          "colorscale": {
           "diverging": [
            [
             0,
             "#8e0152"
            ],
            [
             0.1,
             "#c51b7d"
            ],
            [
             0.2,
             "#de77ae"
            ],
            [
             0.3,
             "#f1b6da"
            ],
            [
             0.4,
             "#fde0ef"
            ],
            [
             0.5,
             "#f7f7f7"
            ],
            [
             0.6,
             "#e6f5d0"
            ],
            [
             0.7,
             "#b8e186"
            ],
            [
             0.8,
             "#7fbc41"
            ],
            [
             0.9,
             "#4d9221"
            ],
            [
             1,
             "#276419"
            ]
           ],
           "sequential": [
            [
             0,
             "#0d0887"
            ],
            [
             0.1111111111111111,
             "#46039f"
            ],
            [
             0.2222222222222222,
             "#7201a8"
            ],
            [
             0.3333333333333333,
             "#9c179e"
            ],
            [
             0.4444444444444444,
             "#bd3786"
            ],
            [
             0.5555555555555556,
             "#d8576b"
            ],
            [
             0.6666666666666666,
             "#ed7953"
            ],
            [
             0.7777777777777778,
             "#fb9f3a"
            ],
            [
             0.8888888888888888,
             "#fdca26"
            ],
            [
             1,
             "#f0f921"
            ]
           ],
           "sequentialminus": [
            [
             0,
             "#0d0887"
            ],
            [
             0.1111111111111111,
             "#46039f"
            ],
            [
             0.2222222222222222,
             "#7201a8"
            ],
            [
             0.3333333333333333,
             "#9c179e"
            ],
            [
             0.4444444444444444,
             "#bd3786"
            ],
            [
             0.5555555555555556,
             "#d8576b"
            ],
            [
             0.6666666666666666,
             "#ed7953"
            ],
            [
             0.7777777777777778,
             "#fb9f3a"
            ],
            [
             0.8888888888888888,
             "#fdca26"
            ],
            [
             1,
             "#f0f921"
            ]
           ]
          },
          "colorway": [
           "#636efa",
           "#EF553B",
           "#00cc96",
           "#ab63fa",
           "#FFA15A",
           "#19d3f3",
           "#FF6692",
           "#B6E880",
           "#FF97FF",
           "#FECB52"
          ],
          "font": {
           "color": "#2a3f5f"
          },
          "geo": {
           "bgcolor": "white",
           "lakecolor": "white",
           "landcolor": "white",
           "showlakes": true,
           "showland": true,
           "subunitcolor": "#C8D4E3"
          },
          "hoverlabel": {
           "align": "left"
          },
          "hovermode": "closest",
          "mapbox": {
           "style": "light"
          },
          "paper_bgcolor": "white",
          "plot_bgcolor": "white",
          "polar": {
           "angularaxis": {
            "gridcolor": "#EBF0F8",
            "linecolor": "#EBF0F8",
            "ticks": ""
           },
           "bgcolor": "white",
           "radialaxis": {
            "gridcolor": "#EBF0F8",
            "linecolor": "#EBF0F8",
            "ticks": ""
           }
          },
          "scene": {
           "xaxis": {
            "backgroundcolor": "white",
            "gridcolor": "#DFE8F3",
            "gridwidth": 2,
            "linecolor": "#EBF0F8",
            "showbackground": true,
            "ticks": "",
            "zerolinecolor": "#EBF0F8"
           },
           "yaxis": {
            "backgroundcolor": "white",
            "gridcolor": "#DFE8F3",
            "gridwidth": 2,
            "linecolor": "#EBF0F8",
            "showbackground": true,
            "ticks": "",
            "zerolinecolor": "#EBF0F8"
           },
           "zaxis": {
            "backgroundcolor": "white",
            "gridcolor": "#DFE8F3",
            "gridwidth": 2,
            "linecolor": "#EBF0F8",
            "showbackground": true,
            "ticks": "",
            "zerolinecolor": "#EBF0F8"
           }
          },
          "shapedefaults": {
           "line": {
            "color": "#2a3f5f"
           }
          },
          "ternary": {
           "aaxis": {
            "gridcolor": "#DFE8F3",
            "linecolor": "#A2B1C6",
            "ticks": ""
           },
           "baxis": {
            "gridcolor": "#DFE8F3",
            "linecolor": "#A2B1C6",
            "ticks": ""
           },
           "bgcolor": "white",
           "caxis": {
            "gridcolor": "#DFE8F3",
            "linecolor": "#A2B1C6",
            "ticks": ""
           }
          },
          "title": {
           "x": 0.05
          },
          "xaxis": {
           "automargin": true,
           "gridcolor": "#EBF0F8",
           "linecolor": "#EBF0F8",
           "ticks": "",
           "title": {
            "standoff": 15
           },
           "zerolinecolor": "#EBF0F8",
           "zerolinewidth": 2
          },
          "yaxis": {
           "automargin": true,
           "gridcolor": "#EBF0F8",
           "linecolor": "#EBF0F8",
           "ticks": "",
           "title": {
            "standoff": 15
           },
           "zerolinecolor": "#EBF0F8",
           "zerolinewidth": 2
          }
         }
        },
        "title": {
         "font": {
          "family": "Arial",
          "size": 16
         },
         "text": "ODA flows to Pakistan by year and donor group"
        },
        "xaxis": {
         "anchor": "y",
         "domain": [
          0,
          1
         ],
         "title": {
          "font": {
           "family": "Arial",
           "size": 12
          },
          "text": "Year"
         }
        },
        "yaxis": {
         "anchor": "x",
         "domain": [
          0,
          1
         ],
         "title": {
          "font": {
           "family": "Arial",
           "size": 12
          },
          "text": "ODA disbursement ($billion)"
         }
        }
       }
      }
     },
     "metadata": {},
     "output_type": "display_data"
    }
   ],
   "source": [
    "fig = px.bar(\n",
    "    crs_grouped,\n",
    "    x=\"year\",\n",
    "    y=\"value_bn_rounded\",\n",
    "    color=\"donor_group\",   # This separates the stacks by donor\n",
    "    text_auto=True,       # Optional: shows values on bars\n",
    "    title=\"ODA flows to Pakistan by year and donor group\",\n",
    "    labels={\n",
    "        \"year\": \"Year\",\n",
    "        \"value_bn_rounded\": \"ODA disbursement ($billion)\",\n",
    "        \"donor_group\": \"Donor Group\"\n",
    "    },\n",
    "    color_discrete_sequence=px.colors.qualitative.Safe  # Optional: choose nice colors\n",
    ")\n",
    "\n",
    "# Customize the layout a bit\n",
    "fig.update_layout(\n",
    "    barmode=\"stack\",  # Stack the bars\n",
    "    title_font=dict(family=\"Arial\", size=16),\n",
    "    xaxis_title_font=dict(family=\"Arial\", size=12),\n",
    "    yaxis_title_font=dict(family=\"Arial\", size=12),\n",
    "    legend_title=\"Donor\",\n",
    "    template=\"plotly_white\"\n",
    ")\n",
    "\n",
    "fig.show()\n",
    "\n",
    "### definitely need to recategorise donor names, grouping roughly as follows:\n",
    "# multilaterals: ADB, WB(IDA & IBRD), UN agencies, EU institution\n",
    "# bilterals: USA, UK, France, Germany, Australia, Japan, Saudi, 'other'"
   ]
  },
  {
   "cell_type": "markdown",
   "id": "e16ed2cc",
   "metadata": {},
   "source": [
    "CREATING A DASHBOARD - PLOTLY DASH"
   ]
  },
  {
   "cell_type": "code",
   "execution_count": 23,
   "id": "e143d3ce",
   "metadata": {},
   "outputs": [
    {
     "name": "stdout",
     "output_type": "stream",
     "text": [
      "['G7' 'Other - Country' 'Other - DFI, IFI, Bank' 'UN Agency' 'World Bank'\n",
      " 'EU Institutions' 'Other - IGO, NGO, PPP' 'Foundation']\n"
     ]
    }
   ],
   "source": [
    "print(crs_grouped['donor_group'].unique())"
   ]
  },
  {
   "cell_type": "code",
   "execution_count": null,
   "id": "967ed2f4",
   "metadata": {},
   "outputs": [
    {
     "data": {
      "text/html": [
       "\n",
       "        <iframe\n",
       "            width=\"100%\"\n",
       "            height=\"650\"\n",
       "            src=\"http://127.0.0.1:8050/\"\n",
       "            frameborder=\"0\"\n",
       "            allowfullscreen\n",
       "            \n",
       "        ></iframe>\n",
       "        "
      ],
      "text/plain": [
       "<IPython.lib.display.IFrame at 0x1c17bcbf6b0>"
      ]
     },
     "metadata": {},
     "output_type": "display_data"
    },
    {
     "name": "stdout",
     "output_type": "stream",
     "text": [
      "---------------------------------------------------------------------------\n",
      "KeyError                                  Traceback (most recent call last)\n",
      "File c:\\Users\\helen\\anaconda3\\Lib\\site-packages\\pandas\\core\\indexes\\base.py:3805, in Index.get_loc(\n",
      "    self=Index(['year', 'donor_group', 'value', 'value_bn', 'value_bn_rounded'], dtype='object'),\n",
      "    key='G7'\n",
      ")\n",
      "   3804 try:\n",
      "-> 3805     return self._engine.get_loc(casted_key)\n",
      "        casted_key = 'G7'\n",
      "        self = Index(['year', 'donor_group', 'value', 'value_bn', 'value_bn_rounded'], dtype='object')\n",
      "   3806 except KeyError as err:\n",
      "\n",
      "File index.pyx:167, in pandas._libs.index.IndexEngine.get_loc()\n",
      "\n",
      "File index.pyx:196, in pandas._libs.index.IndexEngine.get_loc()\n",
      "\n",
      "File pandas\\\\_libs\\\\hashtable_class_helper.pxi:7081, in pandas._libs.hashtable.PyObjectHashTable.get_item()\n",
      "\n",
      "File pandas\\\\_libs\\\\hashtable_class_helper.pxi:7089, in pandas._libs.hashtable.PyObjectHashTable.get_item()\n",
      "\n",
      "KeyError: 'G7'\n",
      "\n",
      "The above exception was the direct cause of the following exception:\n",
      "\n",
      "KeyError                                  Traceback (most recent call last)\n",
      "Cell In[28], line 21, in update_graph(selected_group='G7')\n",
      "     13 @callback(\n",
      "     14     Output(component_id='controls-and-graph', component_property='figure'),\n",
      "     15     Input(component_id='dropdown-selection', component_property='value')\n",
      "   (...)\n",
      "     19     #crs_group_selected = pd.DataFrame(crs_grouped[crs_grouped['donor_group'] == selected_group])\n",
      "     20 #then draw the graph\n",
      "---> 21     fig = px.bar(crs_grouped[selected_group], \n",
      "        fig = Figure({\n",
      "    'data': [{'alignmentgroup': 'True',\n",
      "              'hovertemplate': 'Donor Group=G7<br>Year=%{x}<br>ODA disbursement ($billion)=%{y}<extra></extra>',\n",
      "              'legendgroup': 'G7',\n",
      "              'marker': {'color': 'rgb(136, 204, 238)', 'pattern': {'shape': ''}},\n",
      "              'name': 'G7',\n",
      "              'offsetgroup': 'G7',\n",
      "              'orientation': 'v',\n",
      "              'showlegend': True,\n",
      "              'textposition': 'auto',\n",
      "              'texttemplate': '%{y}',\n",
      "              'type': 'bar',\n",
      "              'x': array([2002, 2003, 2004, 2005, 2006, 2007, 2008, 2009, 2010, 2011, 2012, 2013,\n",
      "                          2014, 2015, 2016, 2017, 2018, 2019, 2020, 2021, 2022, 2023], dtype=int64),\n",
      "              'xaxis': 'x',\n",
      "              'y': array([4.36, 4.89, 0.75, 1.47, 2.42, 1.94, 1.8 , 2.54, 4.49, 5.19, 3.14, 3.39,\n",
      "                          3.62, 3.71, 3.75, 3.49, 2.77, 2.42, 1.74, 1.76, 1.38, 1.36]),\n",
      "              'yaxis': 'y'},\n",
      "             {'alignmentgroup': 'True',\n",
      "              'hovertemplate': ('Donor Group=Other - Country<br' ... '($billion)=%{y}<extra></extra>'),\n",
      "              'legendgroup': 'Other - Country',\n",
      "              'marker': {'color': 'rgb(204, 102, 119)', 'pattern': {'shape': ''}},\n",
      "              'name': 'Other - Country',\n",
      "              'offsetgroup': 'Other - Country',\n",
      "              'orientation': 'v',\n",
      "              'showlegend': True,\n",
      "              'textposition': 'auto',\n",
      "              'texttemplate': '%{y}',\n",
      "              'type': 'bar',\n",
      "              'x': array([2002, 2003, 2004, 2005, 2006, 2007, 2008, 2009, 2010, 2011, 2012, 2013,\n",
      "                          2014, 2015, 2016, 2017, 2018, 2019, 2020, 2021, 2022, 2023], dtype=int64),\n",
      "              'xaxis': 'x',\n",
      "              'y': array([0.13, 0.11, 0.1 , 0.48, 0.29, 0.29, 0.27, 0.76, 1.05, 0.72, 0.79, 0.73,\n",
      "                          0.59, 0.62, 0.37, 0.53, 0.47, 0.7 , 0.28, 0.31, 0.5 , 4.4 ]),\n",
      "              'yaxis': 'y'},\n",
      "             {'alignmentgroup': 'True',\n",
      "              'hovertemplate': ('Donor Group=Other - DFI, IFI, ' ... '($billion)=%{y}<extra></extra>'),\n",
      "              'legendgroup': 'Other - DFI, IFI, Bank',\n",
      "              'marker': {'color': 'rgb(221, 204, 119)', 'pattern': {'shape': ''}},\n",
      "              'name': 'Other - DFI, IFI, Bank',\n",
      "              'offsetgroup': 'Other - DFI, IFI, Bank',\n",
      "              'orientation': 'v',\n",
      "              'showlegend': True,\n",
      "              'textposition': 'auto',\n",
      "              'texttemplate': '%{y}',\n",
      "              'type': 'bar',\n",
      "              'x': array([2002, 2003, 2004, 2005, 2006, 2007, 2008, 2009, 2010, 2011, 2012, 2013,\n",
      "                          2014, 2015, 2016, 2017, 2018, 2019, 2020, 2021, 2022, 2023], dtype=int64),\n",
      "              'xaxis': 'x',\n",
      "              'y': array([0.86, 1.15, 0.59, 0.01, 0.02, 0.03, 0.02, 0.09, 1.75, 1.16, 1.56, 1.83,\n",
      "                          2.42, 2.17, 3.24, 3.67, 1.93, 5.32, 5.69, 5.45, 7.83, 3.43]),\n",
      "              'yaxis': 'y'},\n",
      "             {'alignmentgroup': 'True',\n",
      "              'hovertemplate': ('Donor Group=UN Agency<br>Year=' ... '($billion)=%{y}<extra></extra>'),\n",
      "              'legendgroup': 'UN Agency',\n",
      "              'marker': {'color': 'rgb(17, 119, 51)', 'pattern': {'shape': ''}},\n",
      "              'name': 'UN Agency',\n",
      "              'offsetgroup': 'UN Agency',\n",
      "              'orientation': 'v',\n",
      "              'showlegend': True,\n",
      "              'textposition': 'auto',\n",
      "              'texttemplate': '%{y}',\n",
      "              'type': 'bar',\n",
      "              'x': array([2002, 2003, 2004, 2005, 2006, 2007, 2008, 2009, 2010, 2011, 2012, 2013,\n",
      "                          2014, 2015, 2016, 2017, 2018, 2019, 2020, 2021, 2022, 2023], dtype=int64),\n",
      "              'xaxis': 'x',\n",
      "              'y': array([0.04, 0.05, 0.06, 0.08, 0.07, 0.08, 0.11, 0.12, 0.12, 0.15, 0.11, 0.07,\n",
      "                          0.07, 0.15, 0.18, 0.14, 0.16, 0.2 , 0.18, 0.2 , 0.27, 0.23]),\n",
      "              'yaxis': 'y'},\n",
      "             {'alignmentgroup': 'True',\n",
      "              'hovertemplate': ('Donor Group=World Bank<br>Year' ... '($billion)=%{y}<extra></extra>'),\n",
      "              'legendgroup': 'World Bank',\n",
      "              'marker': {'color': 'rgb(51, 34, 136)', 'pattern': {'shape': ''}},\n",
      "              'name': 'World Bank',\n",
      "              'offsetgroup': 'World Bank',\n",
      "              'orientation': 'v',\n",
      "              'showlegend': True,\n",
      "              'textposition': 'auto',\n",
      "              'texttemplate': '%{y}',\n",
      "              'type': 'bar',\n",
      "              'x': array([2002, 2003, 2004, 2005, 2006, 2007, 2008, 2009, 2010, 2011, 2012, 2013,\n",
      "                          2014, 2015, 2016, 2017, 2018, 2019, 2020, 2021, 2022, 2023], dtype=int64),\n",
      "              'xaxis': 'x',\n",
      "              'y': array([2.44, 0.34, 1.78, 1.9 , 2.22, 2.54, 0.5 , 2.66, 0.9 , 1.91, 1.3 , 1.11,\n",
      "                          3.19, 3.62, 2.29, 1.98, 1.4 , 1.55, 3.81, 4.43, 2.61, 5.12]),\n",
      "              'yaxis': 'y'},\n",
      "             {'alignmentgroup': 'True',\n",
      "              'hovertemplate': ('Donor Group=EU Institutions<br' ... '($billion)=%{y}<extra></extra>'),\n",
      "              'legendgroup': 'EU Institutions',\n",
      "              'marker': {'color': 'rgb(170, 68, 153)', 'pattern': {'shape': ''}},\n",
      "              'name': 'EU Institutions',\n",
      "              'offsetgroup': 'EU Institutions',\n",
      "              'orientation': 'v',\n",
      "              'showlegend': True,\n",
      "              'textposition': 'auto',\n",
      "              'texttemplate': '%{y}',\n",
      "              'type': 'bar',\n",
      "              'x': array([2003, 2005, 2006, 2007, 2008, 2009, 2010, 2011, 2012, 2013, 2014, 2015,\n",
      "                          2016, 2017, 2018, 2019, 2020, 2021, 2022, 2023], dtype=int64),\n",
      "              'xaxis': 'x',\n",
      "              'y': array([0.  , 0.1 , 0.23, 0.14, 0.12, 0.2 , 0.35, 0.51, 0.39, 0.29, 0.32, 0.27,\n",
      "                          0.31, 0.29, 0.28, 0.24, 0.28, 0.24, 0.25, 0.21]),\n",
      "              'yaxis': 'y'},\n",
      "             {'alignmentgroup': 'True',\n",
      "              'hovertemplate': ('Donor Group=Other - IGO, NGO, ' ... '($billion)=%{y}<extra></extra>'),\n",
      "              'legendgroup': 'Other - IGO, NGO, PPP',\n",
      "              'marker': {'color': 'rgb(68, 170, 153)', 'pattern': {'shape': ''}},\n",
      "              'name': 'Other - IGO, NGO, PPP',\n",
      "              'offsetgroup': 'Other - IGO, NGO, PPP',\n",
      "              'orientation': 'v',\n",
      "              'showlegend': True,\n",
      "              'textposition': 'auto',\n",
      "              'texttemplate': '%{y}',\n",
      "              'type': 'bar',\n",
      "              'x': array([2007, 2008, 2009, 2010, 2011, 2012, 2013, 2014, 2015, 2016, 2017, 2018,\n",
      "                          2019, 2020, 2021, 2022, 2023], dtype=int64),\n",
      "              'xaxis': 'x',\n",
      "              'y': array([0.07, 0.15, 0.07, 0.2 , 0.04, 0.32, 0.35, 0.18, 0.22, 0.28, 0.27, 0.38,\n",
      "                          0.31, 0.58, 0.49, 0.27, 0.17]),\n",
      "              'yaxis': 'y'},\n",
      "             {'alignmentgroup': 'True',\n",
      "              'hovertemplate': ('Donor Group=Foundation<br>Year' ... '($billion)=%{y}<extra></extra>'),\n",
      "              'legendgroup': 'Foundation',\n",
      "              'marker': {'color': 'rgb(153, 153, 51)', 'pattern': {'shape': ''}},\n",
      "              'name': 'Foundation',\n",
      "              'offsetgroup': 'Foundation',\n",
      "              'orientation': 'v',\n",
      "              'showlegend': True,\n",
      "              'textposition': 'auto',\n",
      "              'texttemplate': '%{y}',\n",
      "              'type': 'bar',\n",
      "              'x': array([2009, 2010, 2011, 2012, 2013, 2014, 2015, 2016, 2017, 2018, 2019, 2020,\n",
      "                          2021, 2022, 2023], dtype=int64),\n",
      "              'xaxis': 'x',\n",
      "              'y': array([0.07, 0.04, 0.19, 0.07, 0.06, 0.1 , 0.12, 0.18, 0.31, 0.3 , 0.29, 0.28,\n",
      "                          0.31, 0.39, 0.39]),\n",
      "              'yaxis': 'y'}],\n",
      "    'layout': {'barmode': 'stack',\n",
      "               'legend': {'title': {'text': 'Donor'}, 'tracegroupgap': 0},\n",
      "               'template': '...',\n",
      "               'title': {'font': {'family': 'Arial', 'size': 16}, 'text': 'ODA flows to Pakistan by year and donor group'},\n",
      "               'xaxis': {'anchor': 'y',\n",
      "                         'domain': [0.0, 1.0],\n",
      "                         'title': {'font': {'family': 'Arial', 'size': 12}, 'text': 'Year'}},\n",
      "               'yaxis': {'anchor': 'x',\n",
      "                         'domain': [0.0, 1.0],\n",
      "                         'title': {'font': {'family': 'Arial', 'size': 12}, 'text': 'ODA disbursement ($billion)'}}}\n",
      "})\n",
      "        px = <module 'plotly.express' from 'c:\\\\Users\\\\helen\\\\anaconda3\\\\Lib\\\\site-packages\\\\plotly\\\\express\\\\__init__.py'>\n",
      "        crs_grouped =      year             donor_group        value  value_bn  value_bn_rounded\n",
      "0    2002                      G7  4361.032566  4.361033              4.36\n",
      "1    2002         Other - Country   131.898886  0.131899              0.13\n",
      "2    2002  Other - DFI, IFI, Bank   859.946212  0.859946              0.86\n",
      "3    2002               UN Agency    39.043041  0.039043              0.04\n",
      "4    2002              World Bank  2443.378006  2.443378              2.44\n",
      "..    ...                     ...          ...       ...               ...\n",
      "157  2023         Other - Country  4399.147195  4.399147              4.40\n",
      "158  2023  Other - DFI, IFI, Bank  3433.931436  3.433931              3.43\n",
      "159  2023   Other - IGO, NGO, PPP   173.945602  0.173946              0.17\n",
      "160  2023               UN Agency   230.125440  0.230125              0.23\n",
      "161  2023              World Bank  5123.220960  5.123221              5.12\n",
      "\n",
      "[162 rows x 5 columns]\n",
      "        selected_group = 'G7'\n",
      "     22                  x='year', \n",
      "     23                  y='value_bn_round',\n",
      "     24                  title = f'ODA by Year for {selected_group}')\n",
      "     25     return [fig]\n",
      "\n",
      "File c:\\Users\\helen\\anaconda3\\Lib\\site-packages\\pandas\\core\\frame.py:4102, in DataFrame.__getitem__(\n",
      "    self=     year             donor_group        value  ....123221              5.12\n",
      "\n",
      "[162 rows x 5 columns],\n",
      "    key='G7'\n",
      ")\n",
      "   4100 if self.columns.nlevels > 1:\n",
      "   4101     return self._getitem_multilevel(key)\n",
      "-> 4102 indexer = self.columns.get_loc(key)\n",
      "        key = 'G7'\n",
      "        self =      year             donor_group        value  value_bn  value_bn_rounded\n",
      "0    2002                      G7  4361.032566  4.361033              4.36\n",
      "1    2002         Other - Country   131.898886  0.131899              0.13\n",
      "2    2002  Other - DFI, IFI, Bank   859.946212  0.859946              0.86\n",
      "3    2002               UN Agency    39.043041  0.039043              0.04\n",
      "4    2002              World Bank  2443.378006  2.443378              2.44\n",
      "..    ...                     ...          ...       ...               ...\n",
      "157  2023         Other - Country  4399.147195  4.399147              4.40\n",
      "158  2023  Other - DFI, IFI, Bank  3433.931436  3.433931              3.43\n",
      "159  2023   Other - IGO, NGO, PPP   173.945602  0.173946              0.17\n",
      "160  2023               UN Agency   230.125440  0.230125              0.23\n",
      "161  2023              World Bank  5123.220960  5.123221              5.12\n",
      "\n",
      "[162 rows x 5 columns]\n",
      "   4103 if is_integer(indexer):\n",
      "   4104     indexer = [indexer]\n",
      "\n",
      "File c:\\Users\\helen\\anaconda3\\Lib\\site-packages\\pandas\\core\\indexes\\base.py:3812, in Index.get_loc(\n",
      "    self=Index(['year', 'donor_group', 'value', 'value_bn', 'value_bn_rounded'], dtype='object'),\n",
      "    key='G7'\n",
      ")\n",
      "   3807     if isinstance(casted_key, slice) or (\n",
      "   3808         isinstance(casted_key, abc.Iterable)\n",
      "   3809         and any(isinstance(x, slice) for x in casted_key)\n",
      "   3810     ):\n",
      "   3811         raise InvalidIndexError(key)\n",
      "-> 3812     raise KeyError(key) from err\n",
      "        key = 'G7'\n",
      "   3813 except TypeError:\n",
      "   3814     # If we have a listlike key, _check_indexing_error will raise\n",
      "   3815     #  InvalidIndexError. Otherwise we fall through and re-raise\n",
      "   3816     #  the TypeError.\n",
      "   3817     self._check_indexing_error(key)\n",
      "\n",
      "KeyError: 'G7'\n",
      "\n",
      "---------------------------------------------------------------------------\n",
      "KeyError                                  Traceback (most recent call last)\n",
      "File c:\\Users\\helen\\anaconda3\\Lib\\site-packages\\pandas\\core\\indexes\\base.py:3805, in Index.get_loc(\n",
      "    self=Index(['year', 'donor_group', 'value', 'value_bn', 'value_bn_rounded'], dtype='object'),\n",
      "    key='Other - DFI, IFI, Bank'\n",
      ")\n",
      "   3804 try:\n",
      "-> 3805     return self._engine.get_loc(casted_key)\n",
      "        casted_key = 'Other - DFI, IFI, Bank'\n",
      "        self = Index(['year', 'donor_group', 'value', 'value_bn', 'value_bn_rounded'], dtype='object')\n",
      "   3806 except KeyError as err:\n",
      "\n",
      "File index.pyx:167, in pandas._libs.index.IndexEngine.get_loc()\n",
      "\n",
      "File index.pyx:196, in pandas._libs.index.IndexEngine.get_loc()\n",
      "\n",
      "File pandas\\\\_libs\\\\hashtable_class_helper.pxi:7081, in pandas._libs.hashtable.PyObjectHashTable.get_item()\n",
      "\n",
      "File pandas\\\\_libs\\\\hashtable_class_helper.pxi:7089, in pandas._libs.hashtable.PyObjectHashTable.get_item()\n",
      "\n",
      "KeyError: 'Other - DFI, IFI, Bank'\n",
      "\n",
      "The above exception was the direct cause of the following exception:\n",
      "\n",
      "KeyError                                  Traceback (most recent call last)\n",
      "Cell In[28], line 21, in update_graph(\n",
      "    selected_group='Other - DFI, IFI, Bank'\n",
      ")\n",
      "     13 @callback(\n",
      "     14     Output(component_id='controls-and-graph', component_property='figure'),\n",
      "     15     Input(component_id='dropdown-selection', component_property='value')\n",
      "   (...)\n",
      "     19     #crs_group_selected = pd.DataFrame(crs_grouped[crs_grouped['donor_group'] == selected_group])\n",
      "     20 #then draw the graph\n",
      "---> 21     fig = px.bar(crs_grouped[selected_group], \n",
      "        fig = Figure({\n",
      "    'data': [{'alignmentgroup': 'True',\n",
      "              'hovertemplate': 'Donor Group=G7<br>Year=%{x}<br>ODA disbursement ($billion)=%{y}<extra></extra>',\n",
      "              'legendgroup': 'G7',\n",
      "              'marker': {'color': 'rgb(136, 204, 238)', 'pattern': {'shape': ''}},\n",
      "              'name': 'G7',\n",
      "              'offsetgroup': 'G7',\n",
      "              'orientation': 'v',\n",
      "              'showlegend': True,\n",
      "              'textposition': 'auto',\n",
      "              'texttemplate': '%{y}',\n",
      "              'type': 'bar',\n",
      "              'x': array([2002, 2003, 2004, 2005, 2006, 2007, 2008, 2009, 2010, 2011, 2012, 2013,\n",
      "                          2014, 2015, 2016, 2017, 2018, 2019, 2020, 2021, 2022, 2023], dtype=int64),\n",
      "              'xaxis': 'x',\n",
      "              'y': array([4.36, 4.89, 0.75, 1.47, 2.42, 1.94, 1.8 , 2.54, 4.49, 5.19, 3.14, 3.39,\n",
      "                          3.62, 3.71, 3.75, 3.49, 2.77, 2.42, 1.74, 1.76, 1.38, 1.36]),\n",
      "              'yaxis': 'y'},\n",
      "             {'alignmentgroup': 'True',\n",
      "              'hovertemplate': ('Donor Group=Other - Country<br' ... '($billion)=%{y}<extra></extra>'),\n",
      "              'legendgroup': 'Other - Country',\n",
      "              'marker': {'color': 'rgb(204, 102, 119)', 'pattern': {'shape': ''}},\n",
      "              'name': 'Other - Country',\n",
      "              'offsetgroup': 'Other - Country',\n",
      "              'orientation': 'v',\n",
      "              'showlegend': True,\n",
      "              'textposition': 'auto',\n",
      "              'texttemplate': '%{y}',\n",
      "              'type': 'bar',\n",
      "              'x': array([2002, 2003, 2004, 2005, 2006, 2007, 2008, 2009, 2010, 2011, 2012, 2013,\n",
      "                          2014, 2015, 2016, 2017, 2018, 2019, 2020, 2021, 2022, 2023], dtype=int64),\n",
      "              'xaxis': 'x',\n",
      "              'y': array([0.13, 0.11, 0.1 , 0.48, 0.29, 0.29, 0.27, 0.76, 1.05, 0.72, 0.79, 0.73,\n",
      "                          0.59, 0.62, 0.37, 0.53, 0.47, 0.7 , 0.28, 0.31, 0.5 , 4.4 ]),\n",
      "              'yaxis': 'y'},\n",
      "             {'alignmentgroup': 'True',\n",
      "              'hovertemplate': ('Donor Group=Other - DFI, IFI, ' ... '($billion)=%{y}<extra></extra>'),\n",
      "              'legendgroup': 'Other - DFI, IFI, Bank',\n",
      "              'marker': {'color': 'rgb(221, 204, 119)', 'pattern': {'shape': ''}},\n",
      "              'name': 'Other - DFI, IFI, Bank',\n",
      "              'offsetgroup': 'Other - DFI, IFI, Bank',\n",
      "              'orientation': 'v',\n",
      "              'showlegend': True,\n",
      "              'textposition': 'auto',\n",
      "              'texttemplate': '%{y}',\n",
      "              'type': 'bar',\n",
      "              'x': array([2002, 2003, 2004, 2005, 2006, 2007, 2008, 2009, 2010, 2011, 2012, 2013,\n",
      "                          2014, 2015, 2016, 2017, 2018, 2019, 2020, 2021, 2022, 2023], dtype=int64),\n",
      "              'xaxis': 'x',\n",
      "              'y': array([0.86, 1.15, 0.59, 0.01, 0.02, 0.03, 0.02, 0.09, 1.75, 1.16, 1.56, 1.83,\n",
      "                          2.42, 2.17, 3.24, 3.67, 1.93, 5.32, 5.69, 5.45, 7.83, 3.43]),\n",
      "              'yaxis': 'y'},\n",
      "             {'alignmentgroup': 'True',\n",
      "              'hovertemplate': ('Donor Group=UN Agency<br>Year=' ... '($billion)=%{y}<extra></extra>'),\n",
      "              'legendgroup': 'UN Agency',\n",
      "              'marker': {'color': 'rgb(17, 119, 51)', 'pattern': {'shape': ''}},\n",
      "              'name': 'UN Agency',\n",
      "              'offsetgroup': 'UN Agency',\n",
      "              'orientation': 'v',\n",
      "              'showlegend': True,\n",
      "              'textposition': 'auto',\n",
      "              'texttemplate': '%{y}',\n",
      "              'type': 'bar',\n",
      "              'x': array([2002, 2003, 2004, 2005, 2006, 2007, 2008, 2009, 2010, 2011, 2012, 2013,\n",
      "                          2014, 2015, 2016, 2017, 2018, 2019, 2020, 2021, 2022, 2023], dtype=int64),\n",
      "              'xaxis': 'x',\n",
      "              'y': array([0.04, 0.05, 0.06, 0.08, 0.07, 0.08, 0.11, 0.12, 0.12, 0.15, 0.11, 0.07,\n",
      "                          0.07, 0.15, 0.18, 0.14, 0.16, 0.2 , 0.18, 0.2 , 0.27, 0.23]),\n",
      "              'yaxis': 'y'},\n",
      "             {'alignmentgroup': 'True',\n",
      "              'hovertemplate': ('Donor Group=World Bank<br>Year' ... '($billion)=%{y}<extra></extra>'),\n",
      "              'legendgroup': 'World Bank',\n",
      "              'marker': {'color': 'rgb(51, 34, 136)', 'pattern': {'shape': ''}},\n",
      "              'name': 'World Bank',\n",
      "              'offsetgroup': 'World Bank',\n",
      "              'orientation': 'v',\n",
      "              'showlegend': True,\n",
      "              'textposition': 'auto',\n",
      "              'texttemplate': '%{y}',\n",
      "              'type': 'bar',\n",
      "              'x': array([2002, 2003, 2004, 2005, 2006, 2007, 2008, 2009, 2010, 2011, 2012, 2013,\n",
      "                          2014, 2015, 2016, 2017, 2018, 2019, 2020, 2021, 2022, 2023], dtype=int64),\n",
      "              'xaxis': 'x',\n",
      "              'y': array([2.44, 0.34, 1.78, 1.9 , 2.22, 2.54, 0.5 , 2.66, 0.9 , 1.91, 1.3 , 1.11,\n",
      "                          3.19, 3.62, 2.29, 1.98, 1.4 , 1.55, 3.81, 4.43, 2.61, 5.12]),\n",
      "              'yaxis': 'y'},\n",
      "             {'alignmentgroup': 'True',\n",
      "              'hovertemplate': ('Donor Group=EU Institutions<br' ... '($billion)=%{y}<extra></extra>'),\n",
      "              'legendgroup': 'EU Institutions',\n",
      "              'marker': {'color': 'rgb(170, 68, 153)', 'pattern': {'shape': ''}},\n",
      "              'name': 'EU Institutions',\n",
      "              'offsetgroup': 'EU Institutions',\n",
      "              'orientation': 'v',\n",
      "              'showlegend': True,\n",
      "              'textposition': 'auto',\n",
      "              'texttemplate': '%{y}',\n",
      "              'type': 'bar',\n",
      "              'x': array([2003, 2005, 2006, 2007, 2008, 2009, 2010, 2011, 2012, 2013, 2014, 2015,\n",
      "                          2016, 2017, 2018, 2019, 2020, 2021, 2022, 2023], dtype=int64),\n",
      "              'xaxis': 'x',\n",
      "              'y': array([0.  , 0.1 , 0.23, 0.14, 0.12, 0.2 , 0.35, 0.51, 0.39, 0.29, 0.32, 0.27,\n",
      "                          0.31, 0.29, 0.28, 0.24, 0.28, 0.24, 0.25, 0.21]),\n",
      "              'yaxis': 'y'},\n",
      "             {'alignmentgroup': 'True',\n",
      "              'hovertemplate': ('Donor Group=Other - IGO, NGO, ' ... '($billion)=%{y}<extra></extra>'),\n",
      "              'legendgroup': 'Other - IGO, NGO, PPP',\n",
      "              'marker': {'color': 'rgb(68, 170, 153)', 'pattern': {'shape': ''}},\n",
      "              'name': 'Other - IGO, NGO, PPP',\n",
      "              'offsetgroup': 'Other - IGO, NGO, PPP',\n",
      "              'orientation': 'v',\n",
      "              'showlegend': True,\n",
      "              'textposition': 'auto',\n",
      "              'texttemplate': '%{y}',\n",
      "              'type': 'bar',\n",
      "              'x': array([2007, 2008, 2009, 2010, 2011, 2012, 2013, 2014, 2015, 2016, 2017, 2018,\n",
      "                          2019, 2020, 2021, 2022, 2023], dtype=int64),\n",
      "              'xaxis': 'x',\n",
      "              'y': array([0.07, 0.15, 0.07, 0.2 , 0.04, 0.32, 0.35, 0.18, 0.22, 0.28, 0.27, 0.38,\n",
      "                          0.31, 0.58, 0.49, 0.27, 0.17]),\n",
      "              'yaxis': 'y'},\n",
      "             {'alignmentgroup': 'True',\n",
      "              'hovertemplate': ('Donor Group=Foundation<br>Year' ... '($billion)=%{y}<extra></extra>'),\n",
      "              'legendgroup': 'Foundation',\n",
      "              'marker': {'color': 'rgb(153, 153, 51)', 'pattern': {'shape': ''}},\n",
      "              'name': 'Foundation',\n",
      "              'offsetgroup': 'Foundation',\n",
      "              'orientation': 'v',\n",
      "              'showlegend': True,\n",
      "              'textposition': 'auto',\n",
      "              'texttemplate': '%{y}',\n",
      "              'type': 'bar',\n",
      "              'x': array([2009, 2010, 2011, 2012, 2013, 2014, 2015, 2016, 2017, 2018, 2019, 2020,\n",
      "                          2021, 2022, 2023], dtype=int64),\n",
      "              'xaxis': 'x',\n",
      "              'y': array([0.07, 0.04, 0.19, 0.07, 0.06, 0.1 , 0.12, 0.18, 0.31, 0.3 , 0.29, 0.28,\n",
      "                          0.31, 0.39, 0.39]),\n",
      "              'yaxis': 'y'}],\n",
      "    'layout': {'barmode': 'stack',\n",
      "               'legend': {'title': {'text': 'Donor'}, 'tracegroupgap': 0},\n",
      "               'template': '...',\n",
      "               'title': {'font': {'family': 'Arial', 'size': 16}, 'text': 'ODA flows to Pakistan by year and donor group'},\n",
      "               'xaxis': {'anchor': 'y',\n",
      "                         'domain': [0.0, 1.0],\n",
      "                         'title': {'font': {'family': 'Arial', 'size': 12}, 'text': 'Year'}},\n",
      "               'yaxis': {'anchor': 'x',\n",
      "                         'domain': [0.0, 1.0],\n",
      "                         'title': {'font': {'family': 'Arial', 'size': 12}, 'text': 'ODA disbursement ($billion)'}}}\n",
      "})\n",
      "        px = <module 'plotly.express' from 'c:\\\\Users\\\\helen\\\\anaconda3\\\\Lib\\\\site-packages\\\\plotly\\\\express\\\\__init__.py'>\n",
      "        crs_grouped =      year             donor_group        value  value_bn  value_bn_rounded\n",
      "0    2002                      G7  4361.032566  4.361033              4.36\n",
      "1    2002         Other - Country   131.898886  0.131899              0.13\n",
      "2    2002  Other - DFI, IFI, Bank   859.946212  0.859946              0.86\n",
      "3    2002               UN Agency    39.043041  0.039043              0.04\n",
      "4    2002              World Bank  2443.378006  2.443378              2.44\n",
      "..    ...                     ...          ...       ...               ...\n",
      "157  2023         Other - Country  4399.147195  4.399147              4.40\n",
      "158  2023  Other - DFI, IFI, Bank  3433.931436  3.433931              3.43\n",
      "159  2023   Other - IGO, NGO, PPP   173.945602  0.173946              0.17\n",
      "160  2023               UN Agency   230.125440  0.230125              0.23\n",
      "161  2023              World Bank  5123.220960  5.123221              5.12\n",
      "\n",
      "[162 rows x 5 columns]\n",
      "        selected_group = 'Other - DFI, IFI, Bank'\n",
      "     22                  x='year', \n",
      "     23                  y='value_bn_round',\n",
      "     24                  title = f'ODA by Year for {selected_group}')\n",
      "     25     return [fig]\n",
      "\n",
      "File c:\\Users\\helen\\anaconda3\\Lib\\site-packages\\pandas\\core\\frame.py:4102, in DataFrame.__getitem__(\n",
      "    self=     year             donor_group        value  ....123221              5.12\n",
      "\n",
      "[162 rows x 5 columns],\n",
      "    key='Other - DFI, IFI, Bank'\n",
      ")\n",
      "   4100 if self.columns.nlevels > 1:\n",
      "   4101     return self._getitem_multilevel(key)\n",
      "-> 4102 indexer = self.columns.get_loc(key)\n",
      "        key = 'Other - DFI, IFI, Bank'\n",
      "        self =      year             donor_group        value  value_bn  value_bn_rounded\n",
      "0    2002                      G7  4361.032566  4.361033              4.36\n",
      "1    2002         Other - Country   131.898886  0.131899              0.13\n",
      "2    2002  Other - DFI, IFI, Bank   859.946212  0.859946              0.86\n",
      "3    2002               UN Agency    39.043041  0.039043              0.04\n",
      "4    2002              World Bank  2443.378006  2.443378              2.44\n",
      "..    ...                     ...          ...       ...               ...\n",
      "157  2023         Other - Country  4399.147195  4.399147              4.40\n",
      "158  2023  Other - DFI, IFI, Bank  3433.931436  3.433931              3.43\n",
      "159  2023   Other - IGO, NGO, PPP   173.945602  0.173946              0.17\n",
      "160  2023               UN Agency   230.125440  0.230125              0.23\n",
      "161  2023              World Bank  5123.220960  5.123221              5.12\n",
      "\n",
      "[162 rows x 5 columns]\n",
      "   4103 if is_integer(indexer):\n",
      "   4104     indexer = [indexer]\n",
      "\n",
      "File c:\\Users\\helen\\anaconda3\\Lib\\site-packages\\pandas\\core\\indexes\\base.py:3812, in Index.get_loc(\n",
      "    self=Index(['year', 'donor_group', 'value', 'value_bn', 'value_bn_rounded'], dtype='object'),\n",
      "    key='Other - DFI, IFI, Bank'\n",
      ")\n",
      "   3807     if isinstance(casted_key, slice) or (\n",
      "   3808         isinstance(casted_key, abc.Iterable)\n",
      "   3809         and any(isinstance(x, slice) for x in casted_key)\n",
      "   3810     ):\n",
      "   3811         raise InvalidIndexError(key)\n",
      "-> 3812     raise KeyError(key) from err\n",
      "        key = 'Other - DFI, IFI, Bank'\n",
      "   3813 except TypeError:\n",
      "   3814     # If we have a listlike key, _check_indexing_error will raise\n",
      "   3815     #  InvalidIndexError. Otherwise we fall through and re-raise\n",
      "   3816     #  the TypeError.\n",
      "   3817     self._check_indexing_error(key)\n",
      "\n",
      "KeyError: 'Other - DFI, IFI, Bank'\n",
      "\n"
     ]
    }
   ],
   "source": [
    "# Initialize the app\n",
    "app = Dash()\n",
    "\n",
    "# App layout\n",
    "app.layout = html.Div([\n",
    "    html.Div(children='ODA Flows Dashboard'), \n",
    "    html.Hr(), #visual separator to break up sections of a page\n",
    "    dcc.Dropdown(crs_grouped.donor_group.unique(),'G7', id='dropdown-selection'),  \n",
    "    dcc.Graph(figure=fig, id='controls-and-graph')\n",
    "])\n",
    "\n",
    "# Add controls to build the interaction\n",
    "@callback(\n",
    "    Output(component_id='controls-and-graph', component_property='figure'),\n",
    "    Input(component_id='dropdown-selection', component_property='value')\n",
    ")\n",
    "def update_graph(selected_group):\n",
    "#filter for selected group first\n",
    "    #crs_group_selected = pd.DataFrame(crs_grouped[crs_grouped['donor_group'] == selected_group])\n",
    "#then draw the graph\n",
    "    fig = px.bar(crs_grouped[selected_group], \n",
    "                 x='year', \n",
    "                 y='value_bn_round',\n",
    "                 title = f'ODA by Year for {selected_group}')\n",
    "    return [fig]\n",
    "\n",
    "# Run the app\n",
    "if __name__ == '__main__':\n",
    "    app.run(debug=True)"
   ]
  }
 ],
 "metadata": {
  "kernelspec": {
   "display_name": "base",
   "language": "python",
   "name": "python3"
  },
  "language_info": {
   "codemirror_mode": {
    "name": "ipython",
    "version": 3
   },
   "file_extension": ".py",
   "mimetype": "text/x-python",
   "name": "python",
   "nbconvert_exporter": "python",
   "pygments_lexer": "ipython3",
   "version": "3.12.5"
  }
 },
 "nbformat": 4,
 "nbformat_minor": 5
}
