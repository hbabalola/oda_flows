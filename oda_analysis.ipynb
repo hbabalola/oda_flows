{
 "cells": [
  {
   "cell_type": "code",
   "execution_count": null,
   "id": "27027bf0-f79e-4f24-bdb3-7c75cdc25e95",
   "metadata": {},
   "outputs": [],
   "source": [
    "import numpy as np\n",
    "import pandas as pd\n",
    "import plotly.graph_objects as go\n",
    "import plotly.express as px\n",
    "import dash"
   ]
  },
  {
   "cell_type": "code",
   "execution_count": null,
   "id": "091230bb-3d48-44a9-89b0-cc46f9052c4a",
   "metadata": {},
   "outputs": [],
   "source": [
    "#loading data\n",
    "crs_data = pd.read_csv(\"crs_data.csv\")"
   ]
  },
  {
   "cell_type": "code",
   "execution_count": null,
   "id": "a61a1368-aa04-4c33-9152-2b08ec6754c1",
   "metadata": {},
   "outputs": [
    {
     "data": {
      "text/html": [
       "<div>\n",
       "<style scoped>\n",
       "    .dataframe tbody tr th:only-of-type {\n",
       "        vertical-align: middle;\n",
       "    }\n",
       "\n",
       "    .dataframe tbody tr th {\n",
       "        vertical-align: top;\n",
       "    }\n",
       "\n",
       "    .dataframe thead th {\n",
       "        text-align: right;\n",
       "    }\n",
       "</style>\n",
       "<table border=\"1\" class=\"dataframe\">\n",
       "  <thead>\n",
       "    <tr style=\"text-align: right;\">\n",
       "      <th></th>\n",
       "      <th>donor_code</th>\n",
       "      <th>donor_name</th>\n",
       "      <th>recipient_code</th>\n",
       "      <th>recipient_name</th>\n",
       "      <th>sector_code</th>\n",
       "      <th>sector_name</th>\n",
       "      <th>measure_code</th>\n",
       "      <th>measure_name</th>\n",
       "      <th>channel_code</th>\n",
       "      <th>channel_name</th>\n",
       "      <th>...</th>\n",
       "      <th>drr</th>\n",
       "      <th>nutrition</th>\n",
       "      <th>disability</th>\n",
       "      <th>biodiversity</th>\n",
       "      <th>climate_mitigation</th>\n",
       "      <th>climate_adaptation</th>\n",
       "      <th>desertification</th>\n",
       "      <th>amount_tied</th>\n",
       "      <th>amount_untied</th>\n",
       "      <th>nature_of_submission</th>\n",
       "    </tr>\n",
       "  </thead>\n",
       "  <tbody>\n",
       "    <tr>\n",
       "      <th>0</th>\n",
       "      <td>1628.0</td>\n",
       "      <td>Wellcome Trust</td>\n",
       "      <td>665</td>\n",
       "      <td>Pakistan</td>\n",
       "      <td>12182</td>\n",
       "      <td>Medical research</td>\n",
       "      <td>30</td>\n",
       "      <td>Private Development Finance</td>\n",
       "      <td>50000</td>\n",
       "      <td>Teaching institutions, research institutes or ...</td>\n",
       "      <td>...</td>\n",
       "      <td>NaN</td>\n",
       "      <td>NaN</td>\n",
       "      <td>NaN</td>\n",
       "      <td>0.0</td>\n",
       "      <td>0.0</td>\n",
       "      <td>0.0</td>\n",
       "      <td>NaN</td>\n",
       "      <td>NaN</td>\n",
       "      <td>NaN</td>\n",
       "      <td>8.0</td>\n",
       "    </tr>\n",
       "    <tr>\n",
       "      <th>1</th>\n",
       "      <td>1628.0</td>\n",
       "      <td>Wellcome Trust</td>\n",
       "      <td>665</td>\n",
       "      <td>Pakistan</td>\n",
       "      <td>12182</td>\n",
       "      <td>Medical research</td>\n",
       "      <td>30</td>\n",
       "      <td>Private Development Finance</td>\n",
       "      <td>50000</td>\n",
       "      <td>Teaching institutions, research institutes or ...</td>\n",
       "      <td>...</td>\n",
       "      <td>NaN</td>\n",
       "      <td>NaN</td>\n",
       "      <td>NaN</td>\n",
       "      <td>0.0</td>\n",
       "      <td>0.0</td>\n",
       "      <td>0.0</td>\n",
       "      <td>NaN</td>\n",
       "      <td>NaN</td>\n",
       "      <td>NaN</td>\n",
       "      <td>8.0</td>\n",
       "    </tr>\n",
       "    <tr>\n",
       "      <th>2</th>\n",
       "      <td>1628.0</td>\n",
       "      <td>Wellcome Trust</td>\n",
       "      <td>665</td>\n",
       "      <td>Pakistan</td>\n",
       "      <td>12182</td>\n",
       "      <td>Medical research</td>\n",
       "      <td>30</td>\n",
       "      <td>Private Development Finance</td>\n",
       "      <td>50000</td>\n",
       "      <td>Teaching institutions, research institutes or ...</td>\n",
       "      <td>...</td>\n",
       "      <td>NaN</td>\n",
       "      <td>NaN</td>\n",
       "      <td>NaN</td>\n",
       "      <td>0.0</td>\n",
       "      <td>0.0</td>\n",
       "      <td>0.0</td>\n",
       "      <td>0.0</td>\n",
       "      <td>NaN</td>\n",
       "      <td>NaN</td>\n",
       "      <td>8.0</td>\n",
       "    </tr>\n",
       "    <tr>\n",
       "      <th>3</th>\n",
       "      <td>1628.0</td>\n",
       "      <td>Wellcome Trust</td>\n",
       "      <td>665</td>\n",
       "      <td>Pakistan</td>\n",
       "      <td>12182</td>\n",
       "      <td>Medical research</td>\n",
       "      <td>30</td>\n",
       "      <td>Private Development Finance</td>\n",
       "      <td>50000</td>\n",
       "      <td>Teaching institutions, research institutes or ...</td>\n",
       "      <td>...</td>\n",
       "      <td>NaN</td>\n",
       "      <td>NaN</td>\n",
       "      <td>NaN</td>\n",
       "      <td>0.0</td>\n",
       "      <td>0.0</td>\n",
       "      <td>0.0</td>\n",
       "      <td>0.0</td>\n",
       "      <td>NaN</td>\n",
       "      <td>NaN</td>\n",
       "      <td>8.0</td>\n",
       "    </tr>\n",
       "    <tr>\n",
       "      <th>4</th>\n",
       "      <td>1628.0</td>\n",
       "      <td>Wellcome Trust</td>\n",
       "      <td>665</td>\n",
       "      <td>Pakistan</td>\n",
       "      <td>12220</td>\n",
       "      <td>Basic health care</td>\n",
       "      <td>30</td>\n",
       "      <td>Private Development Finance</td>\n",
       "      <td>50000</td>\n",
       "      <td>Teaching institutions, research institutes or ...</td>\n",
       "      <td>...</td>\n",
       "      <td>NaN</td>\n",
       "      <td>NaN</td>\n",
       "      <td>NaN</td>\n",
       "      <td>0.0</td>\n",
       "      <td>0.0</td>\n",
       "      <td>0.0</td>\n",
       "      <td>0.0</td>\n",
       "      <td>NaN</td>\n",
       "      <td>NaN</td>\n",
       "      <td>8.0</td>\n",
       "    </tr>\n",
       "  </tbody>\n",
       "</table>\n",
       "<p>5 rows × 55 columns</p>\n",
       "</div>"
      ],
      "text/plain": [
       "   donor_code      donor_name  recipient_code recipient_name  sector_code  \\\n",
       "0      1628.0  Wellcome Trust             665       Pakistan        12182   \n",
       "1      1628.0  Wellcome Trust             665       Pakistan        12182   \n",
       "2      1628.0  Wellcome Trust             665       Pakistan        12182   \n",
       "3      1628.0  Wellcome Trust             665       Pakistan        12182   \n",
       "4      1628.0  Wellcome Trust             665       Pakistan        12220   \n",
       "\n",
       "         sector_name  measure_code                 measure_name  channel_code  \\\n",
       "0   Medical research            30  Private Development Finance         50000   \n",
       "1   Medical research            30  Private Development Finance         50000   \n",
       "2   Medical research            30  Private Development Finance         50000   \n",
       "3   Medical research            30  Private Development Finance         50000   \n",
       "4  Basic health care            30  Private Development Finance         50000   \n",
       "\n",
       "                                        channel_name  ... drr nutrition  \\\n",
       "0  Teaching institutions, research institutes or ...  ... NaN       NaN   \n",
       "1  Teaching institutions, research institutes or ...  ... NaN       NaN   \n",
       "2  Teaching institutions, research institutes or ...  ... NaN       NaN   \n",
       "3  Teaching institutions, research institutes or ...  ... NaN       NaN   \n",
       "4  Teaching institutions, research institutes or ...  ... NaN       NaN   \n",
       "\n",
       "  disability biodiversity climate_mitigation climate_adaptation  \\\n",
       "0        NaN          0.0                0.0                0.0   \n",
       "1        NaN          0.0                0.0                0.0   \n",
       "2        NaN          0.0                0.0                0.0   \n",
       "3        NaN          0.0                0.0                0.0   \n",
       "4        NaN          0.0                0.0                0.0   \n",
       "\n",
       "  desertification  amount_tied amount_untied nature_of_submission  \n",
       "0             NaN          NaN           NaN                  8.0  \n",
       "1             NaN          NaN           NaN                  8.0  \n",
       "2             0.0          NaN           NaN                  8.0  \n",
       "3             0.0          NaN           NaN                  8.0  \n",
       "4             0.0          NaN           NaN                  8.0  \n",
       "\n",
       "[5 rows x 55 columns]"
      ]
     },
     "execution_count": 3,
     "metadata": {},
     "output_type": "execute_result"
    }
   ],
   "source": [
    "#understanding variables\n",
    "#crs_data.head()\n",
    "#crs_data.info()"
   ]
  },
  {
   "cell_type": "code",
   "execution_count": null,
   "id": "6709b78a",
   "metadata": {},
   "outputs": [
    {
     "name": "stdout",
     "output_type": "stream",
     "text": [
      "['Wellcome Trust' 'IKEA Foundation' 'William and Flora Hewlett Foundation'\n",
      " 'Jacobs Foundation' 'German Postcode Lottery' 'Open Society Foundations'\n",
      " 'UBS Optimus Foundation' 'Susan T. Buffett Foundation'\n",
      " 'World Diabetes Foundation' 'Gates Foundation' 'Rockefeller Foundation'\n",
      " 'Laudes Foundation' 'H&M Foundation'\n",
      " 'David and Lucile Packard Foundation' 'LEGO Foundation'\n",
      " \"Children's Investment Fund Foundation\" 'Conrad N. Hilton Foundation'\n",
      " 'Ford Foundation' 'Good Ventures Foundation' 'Citi Foundation'\n",
      " 'Bloomberg Family Foundation'\n",
      " 'OPEC Fund for International Development [OPEC Fund]' 'Arcadia Fund'\n",
      " 'Global Fund' 'Green Climate Fund [GCF]'\n",
      " 'International Centre for Genetic Engineering and Biotechnology [ICGEB]'\n",
      " 'Private Infrastructure Development Group'\n",
      " 'Global Alliance for Vaccines and Immunization [GAVI]'\n",
      " 'Global Environment Facility [GEF]' 'Adaptation Fund'\n",
      " 'International Development Association [IDA]'\n",
      " 'Nordic Development Fund [NDF]'\n",
      " 'International Bank for Reconstruction and Development [IBRD]'\n",
      " 'World Health Organisation [WHO]' 'World Trade Organisation'\n",
      " 'WTO - International Trade Centre [ITC]' 'WFP'\n",
      " 'United Nations Industrial Development Organization [UNIDO]'\n",
      " 'WHO-Strategic Preparedness and Response Plan [SPRP]' 'UNICEF' 'UNFPA'\n",
      " 'UNHCR' 'UNDP' 'UNAIDS' 'UN Women'\n",
      " 'International Labour Organisation [ILO]'\n",
      " 'Joint Sustainable Development Goals Fund [Joint SDG Fund]'\n",
      " 'UN Development Coordination Office'\n",
      " 'Food and Agriculture Organisation [FAO]'\n",
      " 'International Atomic Energy Agency [IAEA]'\n",
      " 'Central Emergency Response Fund [CERF]' 'IFAD'\n",
      " 'Islamic Development Bank [IsDB]'\n",
      " 'COVID-19 Response and Recovery Multi-Partner Trust Fund [UN COVID-19 MPTF]'\n",
      " 'Asian Infrastructure Investment Bank [AIIB]'\n",
      " 'Asian Development Bank [AsDB]' 'EU Institutions'\n",
      " 'IMF Concessional Trust Funds' 'United Arab Emirates' 'Thailand'\n",
      " 'Kazakhstan' 'Saudi Arabia' 'Romania' 'Malta' 'Qatar' 'Croatia'\n",
      " 'Bulgaria' 'Kuwait' 'Azerbaijan' 'Liechtenstein' 'United States'\n",
      " 'United Kingdom' 'Türkiye' 'Switzerland' 'Sweden' 'Spain'\n",
      " 'Slovak Republic' 'Slovenia' 'Portugal' 'Poland' 'Norway' 'New Zealand'\n",
      " 'Netherlands' 'Luxembourg' 'Lithuania' 'Korea' 'Latvia' 'Japan' 'Italy'\n",
      " 'Israel' 'Ireland' 'Iceland' 'Greece' 'Hungary' 'Germany' 'France'\n",
      " 'Finland' 'Denmark' 'Estonia' 'Czechia' 'Canada' 'Belgium' 'Austria'\n",
      " 'Australia']\n"
     ]
    }
   ],
   "source": [
    "#figuring out what the unique donor names are, to categorise\n",
    "#unique_donor_name = crs_data[\"donor_name\"].unique()\n",
    "#print(unique_donor_name)\n",
    "#unique_donors.to_csv('unique_donors_250517.csv', index=False)"
   ]
  },
  {
   "cell_type": "code",
   "execution_count": null,
   "id": "abb4c0f9",
   "metadata": {},
   "outputs": [],
   "source": [
    "#Grouping donors into mutually exclusive categories - G7, BRICS, UN, World Bank, Other - etc\n",
    "\n",
    "g7 = [\"United Kingdom\", \n",
    "      \"United States\", \n",
    "      \"France\", \n",
    "      \"Germany\", \n",
    "      \"Italy\", \n",
    "      \"Canada\", \n",
    "      \"Japan\"]\n",
    "\n",
    "brics = [\"Brazil\", \n",
    "         \"Russia\", \n",
    "         \"India\",\n",
    "         \"China\", \n",
    "         \"South Africa\"] # no BRIC countries currently in dataset\n",
    "\n",
    "eu_institutions = [\"EU Institutions\"]\n",
    "\n",
    "foundation = [\"Wellcome Trust\",\n",
    "            \"IKEA Foundation\",\n",
    "            \"William and Flora Hewlett Foundation\",\n",
    "            \"Jacobs Foundation\",\n",
    "            \"German Postcode Lottery\",\n",
    "            \"Open Society Foundations\",\n",
    "            \"UBS Optimus Foundation\",\n",
    "            \"Susan T. Buffett Foundation\",\n",
    "            \"World Diabetes Foundation\",\n",
    "            \"Gates Foundation\",\n",
    "            \"Rockefeller Foundation\",\n",
    "            \"Laudes Foundation\",\n",
    "            \"H&M Foundation\",\n",
    "            \"David and Lucile Packard Foundation\",\n",
    "            \"LEGO Foundation\",\n",
    "            \"Children's Investment Fund Foundation\",\n",
    "            \"Conrad N. Hilton Foundation\",\n",
    "            \"Ford Foundation\",\n",
    "            \"Good Ventures Foundation\",\n",
    "            \"Citi Foundation\",\n",
    "            \"Bloomberg Family Foundation\",\n",
    "            \"Arcadia Fund\"\n",
    "            ]\n",
    "\n",
    "un_agency = [\"International Centre for Genetic Engineering and Biotechnology [ICGEB]\",\n",
    "            \"WFP\",\n",
    "            \"United Nations Industrial Development Organization [UNIDO]\",\n",
    "            \"UNICEF\",\n",
    "            \"UNFPA\",\n",
    "            \"UNHCR\",\n",
    "            \"UNDP\",\n",
    "            \"UNAIDS\",\n",
    "            \"UN Women\",\n",
    "            \"International Labour Organisation [ILO]\",\n",
    "            \"Joint Sustainable Development Goals Fund [Joint SDG Fund]\",\n",
    "            \"UN Development Coordination Office\",\n",
    "            \"Food and Agriculture Organisation [FAO]\",\n",
    "            \"International Atomic Energy Agency [IAEA]\",\n",
    "            \"Central Emergency Response Fund [CERF]\",\n",
    "            \"IFAD\",\n",
    "            \"COVID-19 Response and Recovery Multi-Partner Trust Fund [UN COVID-19 MPTF]\"\n",
    "            ]\n",
    "\n",
    "world_bank = [\"International Development Association [IDA]\",\n",
    "              \"International Bank for Reconstruction and Development [IBRD]\"]\n",
    "\n",
    "other_dfi_ifi_bank = [\"OPEC Fund for International Development [OPEC Fund]\",\n",
    "                \"Global Fund\",\n",
    "                \"Green Climate Fund [GCF]\"\n",
    "                \"Private Infrastructure Development Group\",\n",
    "                \"Global Environment Facility [GEF]\",\n",
    "                \"Adaptation Fund\",\n",
    "                \"Nordic Development Fund [NDF]\",\n",
    "                \"Islamic Development Bank [IsDB]\",\n",
    "                \"Asian Infrastructure Investment Bank [AIIB]\",\n",
    "                \"Asian Development Bank [AsDB]\",\n",
    "                \"IMF Concessional Trust Funds\"\n",
    "                ]\n",
    "\n",
    "other_igo_ngo_ppp = [\"World Health Organisation [WHO]\",\n",
    "                \"World Trade Organisation\",\n",
    "                \"WTO - International Trade Centre [ITC]\",\n",
    "                \"WHO-Strategic Preparedness and Response Plan [SPRP]\",\n",
    "                \"Global Alliance for Vaccines and Immunization [GAVI]\"\n",
    "                ]\n",
    "\n",
    "other_country = [\"Australia\",\n",
    "            \"Austria\",\n",
    "            \"Azerbaijan\",\n",
    "            \"Belgium\",\n",
    "            \"Bulgaria\",\n",
    "            \"Croatia\",\n",
    "            \"Czechia\",\n",
    "            \"Denmark\",\n",
    "            \"Estonia\",\n",
    "            \"Finland\",\n",
    "            \"Greece\",\n",
    "            \"Hungary\",\n",
    "            \"Iceland\",\n",
    "            \"Ireland\",\n",
    "            \"Israel\",\n",
    "            \"Kazakhstan\",\n",
    "            \"Korea\",\n",
    "            \"Kuwait\",\n",
    "            \"Latvia\",\n",
    "            \"Liechtenstein\",\n",
    "            \"Lithuania\",\n",
    "            \"Luxembourg\",\n",
    "            \"Malta\",\n",
    "            \"Netherlands\",\n",
    "            \"New Zealand\",\n",
    "            \"Norway\",\n",
    "            \"Poland\",\n",
    "            \"Portugal\",\n",
    "            \"Qatar\",\n",
    "            \"Romania\",\n",
    "            \"Saudi Arabia\",\n",
    "            \"Slovak Republic\",\n",
    "            \"Slovenia\",\n",
    "            \"Spain\",\n",
    "            \"Sweden\",\n",
    "            \"Switzerland\",\n",
    "            \"Türkiye\",\n",
    "            \"Thailand\",\n",
    "            \"United Arab Emirates\"\n",
    "]\n",
    "\n"
   ]
  },
  {
   "cell_type": "code",
   "execution_count": null,
   "id": "aab2e321",
   "metadata": {},
   "outputs": [],
   "source": [
    "# define function to apply donor grouping\n",
    "def donor_group_function (donor):\n",
    "    if donor in g7:\n",
    "        return \"G7\"\n",
    "    elif donor in brics:\n",
    "        return \"BRICS\"\n",
    "    elif donor in eu_institutions:\n",
    "        return \"EU Institutions\"\n",
    "    elif donor in foundation:\n",
    "        return \"Foundation\"\n",
    "    elif donor in un_agency:\n",
    "        return \"UN Agency\"\n",
    "    elif donor in world_bank:\n",
    "        return \"World Bank\"\n",
    "    elif donor in other_country:\n",
    "        return \"Other - Country\"\n",
    "    elif donor in other_dfi_ifi_bank:\n",
    "        return \"Other - DFI, IFI, Bank\"\n",
    "    else:\n",
    "        return \"Other - IGO, NGO, PPP\"\n",
    "    \n",
    "#apply function crs_data to a new variable called 'donor group'\n",
    "crs_data[\"donor_group\"] = crs_data[\"donor_name\"].apply(donor_group_function)"
   ]
  },
  {
   "cell_type": "code",
   "execution_count": null,
   "id": "4008e189",
   "metadata": {},
   "outputs": [
    {
     "data": {
      "text/html": [
       "<div>\n",
       "<style scoped>\n",
       "    .dataframe tbody tr th:only-of-type {\n",
       "        vertical-align: middle;\n",
       "    }\n",
       "\n",
       "    .dataframe tbody tr th {\n",
       "        vertical-align: top;\n",
       "    }\n",
       "\n",
       "    .dataframe thead th {\n",
       "        text-align: right;\n",
       "    }\n",
       "</style>\n",
       "<table border=\"1\" class=\"dataframe\">\n",
       "  <thead>\n",
       "    <tr style=\"text-align: right;\">\n",
       "      <th></th>\n",
       "      <th>year</th>\n",
       "      <th>donor_group</th>\n",
       "      <th>value</th>\n",
       "      <th>value_bn</th>\n",
       "      <th>value_bn_rounded</th>\n",
       "    </tr>\n",
       "  </thead>\n",
       "  <tbody>\n",
       "    <tr>\n",
       "      <th>0</th>\n",
       "      <td>2002</td>\n",
       "      <td>G7</td>\n",
       "      <td>4361.032566</td>\n",
       "      <td>4.361033</td>\n",
       "      <td>4.36</td>\n",
       "    </tr>\n",
       "    <tr>\n",
       "      <th>1</th>\n",
       "      <td>2002</td>\n",
       "      <td>Other - Country</td>\n",
       "      <td>131.898886</td>\n",
       "      <td>0.131899</td>\n",
       "      <td>0.13</td>\n",
       "    </tr>\n",
       "    <tr>\n",
       "      <th>2</th>\n",
       "      <td>2002</td>\n",
       "      <td>Other - DFI, IFI, Bank</td>\n",
       "      <td>859.946212</td>\n",
       "      <td>0.859946</td>\n",
       "      <td>0.86</td>\n",
       "    </tr>\n",
       "    <tr>\n",
       "      <th>3</th>\n",
       "      <td>2002</td>\n",
       "      <td>UN Agency</td>\n",
       "      <td>39.043041</td>\n",
       "      <td>0.039043</td>\n",
       "      <td>0.04</td>\n",
       "    </tr>\n",
       "    <tr>\n",
       "      <th>4</th>\n",
       "      <td>2002</td>\n",
       "      <td>World Bank</td>\n",
       "      <td>2443.378006</td>\n",
       "      <td>2.443378</td>\n",
       "      <td>2.44</td>\n",
       "    </tr>\n",
       "  </tbody>\n",
       "</table>\n",
       "</div>"
      ],
      "text/plain": [
       "   year             donor_group        value  value_bn  value_bn_rounded\n",
       "0  2002                      G7  4361.032566  4.361033              4.36\n",
       "1  2002         Other - Country   131.898886  0.131899              0.13\n",
       "2  2002  Other - DFI, IFI, Bank   859.946212  0.859946              0.86\n",
       "3  2002               UN Agency    39.043041  0.039043              0.04\n",
       "4  2002              World Bank  2443.378006  2.443378              2.44"
      ]
     },
     "execution_count": 47,
     "metadata": {},
     "output_type": "execute_result"
    }
   ],
   "source": [
    "#grouping dataset, calculating sum and rounding to billion - for charts\n",
    "crs_grouped = crs_data.groupby(['year','donor_group'], as_index=False)['value'].sum()\n",
    "crs_grouped[\"value_bn\"] = crs_grouped[\"value\"] / 1000\n",
    "crs_grouped[\"value_bn_rounded\"] = crs_grouped[\"value_bn\"].round(2)\n",
    "\n",
    "crs_grouped.head()"
   ]
  },
  {
   "cell_type": "markdown",
   "id": "210a99ea",
   "metadata": {},
   "source": [
    "#### EXPLORING VISUALISATIONS WITH PLOTLY EXPRESS"
   ]
  },
  {
   "cell_type": "code",
   "execution_count": null,
   "id": "90e2802d",
   "metadata": {},
   "outputs": [
    {
     "data": {
      "application/vnd.plotly.v1+json": {
       "config": {
        "plotlyServerURL": "https://plot.ly"
       },
       "data": [
        {
         "alignmentgroup": "True",
         "hovertemplate": "Donor Group=G7<br>Year=%{x}<br>ODA disbursement ($billion)=%{y}<extra></extra>",
         "legendgroup": "G7",
         "marker": {
          "color": "rgb(136, 204, 238)",
          "pattern": {
           "shape": ""
          }
         },
         "name": "G7",
         "offsetgroup": "G7",
         "orientation": "v",
         "showlegend": true,
         "textposition": "auto",
         "texttemplate": "%{y}",
         "type": "bar",
         "x": [
          2002,
          2003,
          2004,
          2005,
          2006,
          2007,
          2008,
          2009,
          2010,
          2011,
          2012,
          2013,
          2014,
          2015,
          2016,
          2017,
          2018,
          2019,
          2020,
          2021,
          2022,
          2023
         ],
         "xaxis": "x",
         "y": [
          4.36,
          4.89,
          0.75,
          1.47,
          2.42,
          1.94,
          1.8,
          2.54,
          4.49,
          5.19,
          3.14,
          3.39,
          3.62,
          3.71,
          3.75,
          3.49,
          2.77,
          2.42,
          1.74,
          1.76,
          1.38,
          1.36
         ],
         "yaxis": "y"
        },
        {
         "alignmentgroup": "True",
         "hovertemplate": "Donor Group=Other - Country<br>Year=%{x}<br>ODA disbursement ($billion)=%{y}<extra></extra>",
         "legendgroup": "Other - Country",
         "marker": {
          "color": "rgb(204, 102, 119)",
          "pattern": {
           "shape": ""
          }
         },
         "name": "Other - Country",
         "offsetgroup": "Other - Country",
         "orientation": "v",
         "showlegend": true,
         "textposition": "auto",
         "texttemplate": "%{y}",
         "type": "bar",
         "x": [
          2002,
          2003,
          2004,
          2005,
          2006,
          2007,
          2008,
          2009,
          2010,
          2011,
          2012,
          2013,
          2014,
          2015,
          2016,
          2017,
          2018,
          2019,
          2020,
          2021,
          2022,
          2023
         ],
         "xaxis": "x",
         "y": [
          0.13,
          0.11,
          0.1,
          0.48,
          0.29,
          0.29,
          0.27,
          0.76,
          1.05,
          0.72,
          0.79,
          0.73,
          0.59,
          0.62,
          0.37,
          0.53,
          0.47,
          0.7,
          0.28,
          0.31,
          0.5,
          4.4
         ],
         "yaxis": "y"
        },
        {
         "alignmentgroup": "True",
         "hovertemplate": "Donor Group=Other - DFI, IFI, Bank<br>Year=%{x}<br>ODA disbursement ($billion)=%{y}<extra></extra>",
         "legendgroup": "Other - DFI, IFI, Bank",
         "marker": {
          "color": "rgb(221, 204, 119)",
          "pattern": {
           "shape": ""
          }
         },
         "name": "Other - DFI, IFI, Bank",
         "offsetgroup": "Other - DFI, IFI, Bank",
         "orientation": "v",
         "showlegend": true,
         "textposition": "auto",
         "texttemplate": "%{y}",
         "type": "bar",
         "x": [
          2002,
          2003,
          2004,
          2005,
          2006,
          2007,
          2008,
          2009,
          2010,
          2011,
          2012,
          2013,
          2014,
          2015,
          2016,
          2017,
          2018,
          2019,
          2020,
          2021,
          2022,
          2023
         ],
         "xaxis": "x",
         "y": [
          0.86,
          1.15,
          0.59,
          0.01,
          0.02,
          0.03,
          0.02,
          0.09,
          1.75,
          1.16,
          1.56,
          1.83,
          2.42,
          2.17,
          3.24,
          3.67,
          1.93,
          5.32,
          5.69,
          5.45,
          7.83,
          3.43
         ],
         "yaxis": "y"
        },
        {
         "alignmentgroup": "True",
         "hovertemplate": "Donor Group=UN Agency<br>Year=%{x}<br>ODA disbursement ($billion)=%{y}<extra></extra>",
         "legendgroup": "UN Agency",
         "marker": {
          "color": "rgb(17, 119, 51)",
          "pattern": {
           "shape": ""
          }
         },
         "name": "UN Agency",
         "offsetgroup": "UN Agency",
         "orientation": "v",
         "showlegend": true,
         "textposition": "auto",
         "texttemplate": "%{y}",
         "type": "bar",
         "x": [
          2002,
          2003,
          2004,
          2005,
          2006,
          2007,
          2008,
          2009,
          2010,
          2011,
          2012,
          2013,
          2014,
          2015,
          2016,
          2017,
          2018,
          2019,
          2020,
          2021,
          2022,
          2023
         ],
         "xaxis": "x",
         "y": [
          0.04,
          0.05,
          0.06,
          0.08,
          0.07,
          0.08,
          0.11,
          0.12,
          0.12,
          0.15,
          0.11,
          0.07,
          0.07,
          0.15,
          0.18,
          0.14,
          0.16,
          0.2,
          0.18,
          0.2,
          0.27,
          0.23
         ],
         "yaxis": "y"
        },
        {
         "alignmentgroup": "True",
         "hovertemplate": "Donor Group=World Bank<br>Year=%{x}<br>ODA disbursement ($billion)=%{y}<extra></extra>",
         "legendgroup": "World Bank",
         "marker": {
          "color": "rgb(51, 34, 136)",
          "pattern": {
           "shape": ""
          }
         },
         "name": "World Bank",
         "offsetgroup": "World Bank",
         "orientation": "v",
         "showlegend": true,
         "textposition": "auto",
         "texttemplate": "%{y}",
         "type": "bar",
         "x": [
          2002,
          2003,
          2004,
          2005,
          2006,
          2007,
          2008,
          2009,
          2010,
          2011,
          2012,
          2013,
          2014,
          2015,
          2016,
          2017,
          2018,
          2019,
          2020,
          2021,
          2022,
          2023
         ],
         "xaxis": "x",
         "y": [
          2.44,
          0.34,
          1.78,
          1.9,
          2.22,
          2.54,
          0.5,
          2.66,
          0.9,
          1.91,
          1.3,
          1.11,
          3.19,
          3.62,
          2.29,
          1.98,
          1.4,
          1.55,
          3.81,
          4.43,
          2.61,
          5.12
         ],
         "yaxis": "y"
        },
        {
         "alignmentgroup": "True",
         "hovertemplate": "Donor Group=EU Institutions<br>Year=%{x}<br>ODA disbursement ($billion)=%{y}<extra></extra>",
         "legendgroup": "EU Institutions",
         "marker": {
          "color": "rgb(170, 68, 153)",
          "pattern": {
           "shape": ""
          }
         },
         "name": "EU Institutions",
         "offsetgroup": "EU Institutions",
         "orientation": "v",
         "showlegend": true,
         "textposition": "auto",
         "texttemplate": "%{y}",
         "type": "bar",
         "x": [
          2003,
          2005,
          2006,
          2007,
          2008,
          2009,
          2010,
          2011,
          2012,
          2013,
          2014,
          2015,
          2016,
          2017,
          2018,
          2019,
          2020,
          2021,
          2022,
          2023
         ],
         "xaxis": "x",
         "y": [
          0,
          0.1,
          0.23,
          0.14,
          0.12,
          0.2,
          0.35,
          0.51,
          0.39,
          0.29,
          0.32,
          0.27,
          0.31,
          0.29,
          0.28,
          0.24,
          0.28,
          0.24,
          0.25,
          0.21
         ],
         "yaxis": "y"
        },
        {
         "alignmentgroup": "True",
         "hovertemplate": "Donor Group=Other - IGO, NGO, PPP<br>Year=%{x}<br>ODA disbursement ($billion)=%{y}<extra></extra>",
         "legendgroup": "Other - IGO, NGO, PPP",
         "marker": {
          "color": "rgb(68, 170, 153)",
          "pattern": {
           "shape": ""
          }
         },
         "name": "Other - IGO, NGO, PPP",
         "offsetgroup": "Other - IGO, NGO, PPP",
         "orientation": "v",
         "showlegend": true,
         "textposition": "auto",
         "texttemplate": "%{y}",
         "type": "bar",
         "x": [
          2007,
          2008,
          2009,
          2010,
          2011,
          2012,
          2013,
          2014,
          2015,
          2016,
          2017,
          2018,
          2019,
          2020,
          2021,
          2022,
          2023
         ],
         "xaxis": "x",
         "y": [
          0.07,
          0.15,
          0.07,
          0.2,
          0.04,
          0.32,
          0.35,
          0.18,
          0.22,
          0.28,
          0.27,
          0.38,
          0.31,
          0.58,
          0.49,
          0.27,
          0.17
         ],
         "yaxis": "y"
        },
        {
         "alignmentgroup": "True",
         "hovertemplate": "Donor Group=Foundation<br>Year=%{x}<br>ODA disbursement ($billion)=%{y}<extra></extra>",
         "legendgroup": "Foundation",
         "marker": {
          "color": "rgb(153, 153, 51)",
          "pattern": {
           "shape": ""
          }
         },
         "name": "Foundation",
         "offsetgroup": "Foundation",
         "orientation": "v",
         "showlegend": true,
         "textposition": "auto",
         "texttemplate": "%{y}",
         "type": "bar",
         "x": [
          2009,
          2010,
          2011,
          2012,
          2013,
          2014,
          2015,
          2016,
          2017,
          2018,
          2019,
          2020,
          2021,
          2022,
          2023
         ],
         "xaxis": "x",
         "y": [
          0.07,
          0.04,
          0.19,
          0.07,
          0.06,
          0.1,
          0.12,
          0.18,
          0.31,
          0.3,
          0.29,
          0.28,
          0.31,
          0.39,
          0.39
         ],
         "yaxis": "y"
        }
       ],
       "layout": {
        "barmode": "stack",
        "legend": {
         "title": {
          "text": "Donor"
         },
         "tracegroupgap": 0
        },
        "template": {
         "data": {
          "bar": [
           {
            "error_x": {
             "color": "#2a3f5f"
            },
            "error_y": {
             "color": "#2a3f5f"
            },
            "marker": {
             "line": {
              "color": "white",
              "width": 0.5
             },
             "pattern": {
              "fillmode": "overlay",
              "size": 10,
              "solidity": 0.2
             }
            },
            "type": "bar"
           }
          ],
          "barpolar": [
           {
            "marker": {
             "line": {
              "color": "white",
              "width": 0.5
             },
             "pattern": {
              "fillmode": "overlay",
              "size": 10,
              "solidity": 0.2
             }
            },
            "type": "barpolar"
           }
          ],
          "carpet": [
           {
            "aaxis": {
             "endlinecolor": "#2a3f5f",
             "gridcolor": "#C8D4E3",
             "linecolor": "#C8D4E3",
             "minorgridcolor": "#C8D4E3",
             "startlinecolor": "#2a3f5f"
            },
            "baxis": {
             "endlinecolor": "#2a3f5f",
             "gridcolor": "#C8D4E3",
             "linecolor": "#C8D4E3",
             "minorgridcolor": "#C8D4E3",
             "startlinecolor": "#2a3f5f"
            },
            "type": "carpet"
           }
          ],
          "choropleth": [
           {
            "colorbar": {
             "outlinewidth": 0,
             "ticks": ""
            },
            "type": "choropleth"
           }
          ],
          "contour": [
           {
            "colorbar": {
             "outlinewidth": 0,
             "ticks": ""
            },
            "colorscale": [
             [
              0,
              "#0d0887"
             ],
             [
              0.1111111111111111,
              "#46039f"
             ],
             [
              0.2222222222222222,
              "#7201a8"
             ],
             [
              0.3333333333333333,
              "#9c179e"
             ],
             [
              0.4444444444444444,
              "#bd3786"
             ],
             [
              0.5555555555555556,
              "#d8576b"
             ],
             [
              0.6666666666666666,
              "#ed7953"
             ],
             [
              0.7777777777777778,
              "#fb9f3a"
             ],
             [
              0.8888888888888888,
              "#fdca26"
             ],
             [
              1,
              "#f0f921"
             ]
            ],
            "type": "contour"
           }
          ],
          "contourcarpet": [
           {
            "colorbar": {
             "outlinewidth": 0,
             "ticks": ""
            },
            "type": "contourcarpet"
           }
          ],
          "heatmap": [
           {
            "colorbar": {
             "outlinewidth": 0,
             "ticks": ""
            },
            "colorscale": [
             [
              0,
              "#0d0887"
             ],
             [
              0.1111111111111111,
              "#46039f"
             ],
             [
              0.2222222222222222,
              "#7201a8"
             ],
             [
              0.3333333333333333,
              "#9c179e"
             ],
             [
              0.4444444444444444,
              "#bd3786"
             ],
             [
              0.5555555555555556,
              "#d8576b"
             ],
             [
              0.6666666666666666,
              "#ed7953"
             ],
             [
              0.7777777777777778,
              "#fb9f3a"
             ],
             [
              0.8888888888888888,
              "#fdca26"
             ],
             [
              1,
              "#f0f921"
             ]
            ],
            "type": "heatmap"
           }
          ],
          "heatmapgl": [
           {
            "colorbar": {
             "outlinewidth": 0,
             "ticks": ""
            },
            "colorscale": [
             [
              0,
              "#0d0887"
             ],
             [
              0.1111111111111111,
              "#46039f"
             ],
             [
              0.2222222222222222,
              "#7201a8"
             ],
             [
              0.3333333333333333,
              "#9c179e"
             ],
             [
              0.4444444444444444,
              "#bd3786"
             ],
             [
              0.5555555555555556,
              "#d8576b"
             ],
             [
              0.6666666666666666,
              "#ed7953"
             ],
             [
              0.7777777777777778,
              "#fb9f3a"
             ],
             [
              0.8888888888888888,
              "#fdca26"
             ],
             [
              1,
              "#f0f921"
             ]
            ],
            "type": "heatmapgl"
           }
          ],
          "histogram": [
           {
            "marker": {
             "pattern": {
              "fillmode": "overlay",
              "size": 10,
              "solidity": 0.2
             }
            },
            "type": "histogram"
           }
          ],
          "histogram2d": [
           {
            "colorbar": {
             "outlinewidth": 0,
             "ticks": ""
            },
            "colorscale": [
             [
              0,
              "#0d0887"
             ],
             [
              0.1111111111111111,
              "#46039f"
             ],
             [
              0.2222222222222222,
              "#7201a8"
             ],
             [
              0.3333333333333333,
              "#9c179e"
             ],
             [
              0.4444444444444444,
              "#bd3786"
             ],
             [
              0.5555555555555556,
              "#d8576b"
             ],
             [
              0.6666666666666666,
              "#ed7953"
             ],
             [
              0.7777777777777778,
              "#fb9f3a"
             ],
             [
              0.8888888888888888,
              "#fdca26"
             ],
             [
              1,
              "#f0f921"
             ]
            ],
            "type": "histogram2d"
           }
          ],
          "histogram2dcontour": [
           {
            "colorbar": {
             "outlinewidth": 0,
             "ticks": ""
            },
            "colorscale": [
             [
              0,
              "#0d0887"
             ],
             [
              0.1111111111111111,
              "#46039f"
             ],
             [
              0.2222222222222222,
              "#7201a8"
             ],
             [
              0.3333333333333333,
              "#9c179e"
             ],
             [
              0.4444444444444444,
              "#bd3786"
             ],
             [
              0.5555555555555556,
              "#d8576b"
             ],
             [
              0.6666666666666666,
              "#ed7953"
             ],
             [
              0.7777777777777778,
              "#fb9f3a"
             ],
             [
              0.8888888888888888,
              "#fdca26"
             ],
             [
              1,
              "#f0f921"
             ]
            ],
            "type": "histogram2dcontour"
           }
          ],
          "mesh3d": [
           {
            "colorbar": {
             "outlinewidth": 0,
             "ticks": ""
            },
            "type": "mesh3d"
           }
          ],
          "parcoords": [
           {
            "line": {
             "colorbar": {
              "outlinewidth": 0,
              "ticks": ""
             }
            },
            "type": "parcoords"
           }
          ],
          "pie": [
           {
            "automargin": true,
            "type": "pie"
           }
          ],
          "scatter": [
           {
            "fillpattern": {
             "fillmode": "overlay",
             "size": 10,
             "solidity": 0.2
            },
            "type": "scatter"
           }
          ],
          "scatter3d": [
           {
            "line": {
             "colorbar": {
              "outlinewidth": 0,
              "ticks": ""
             }
            },
            "marker": {
             "colorbar": {
              "outlinewidth": 0,
              "ticks": ""
             }
            },
            "type": "scatter3d"
           }
          ],
          "scattercarpet": [
           {
            "marker": {
             "colorbar": {
              "outlinewidth": 0,
              "ticks": ""
             }
            },
            "type": "scattercarpet"
           }
          ],
          "scattergeo": [
           {
            "marker": {
             "colorbar": {
              "outlinewidth": 0,
              "ticks": ""
             }
            },
            "type": "scattergeo"
           }
          ],
          "scattergl": [
           {
            "marker": {
             "colorbar": {
              "outlinewidth": 0,
              "ticks": ""
             }
            },
            "type": "scattergl"
           }
          ],
          "scattermapbox": [
           {
            "marker": {
             "colorbar": {
              "outlinewidth": 0,
              "ticks": ""
             }
            },
            "type": "scattermapbox"
           }
          ],
          "scatterpolar": [
           {
            "marker": {
             "colorbar": {
              "outlinewidth": 0,
              "ticks": ""
             }
            },
            "type": "scatterpolar"
           }
          ],
          "scatterpolargl": [
           {
            "marker": {
             "colorbar": {
              "outlinewidth": 0,
              "ticks": ""
             }
            },
            "type": "scatterpolargl"
           }
          ],
          "scatterternary": [
           {
            "marker": {
             "colorbar": {
              "outlinewidth": 0,
              "ticks": ""
             }
            },
            "type": "scatterternary"
           }
          ],
          "surface": [
           {
            "colorbar": {
             "outlinewidth": 0,
             "ticks": ""
            },
            "colorscale": [
             [
              0,
              "#0d0887"
             ],
             [
              0.1111111111111111,
              "#46039f"
             ],
             [
              0.2222222222222222,
              "#7201a8"
             ],
             [
              0.3333333333333333,
              "#9c179e"
             ],
             [
              0.4444444444444444,
              "#bd3786"
             ],
             [
              0.5555555555555556,
              "#d8576b"
             ],
             [
              0.6666666666666666,
              "#ed7953"
             ],
             [
              0.7777777777777778,
              "#fb9f3a"
             ],
             [
              0.8888888888888888,
              "#fdca26"
             ],
             [
              1,
              "#f0f921"
             ]
            ],
            "type": "surface"
           }
          ],
          "table": [
           {
            "cells": {
             "fill": {
              "color": "#EBF0F8"
             },
             "line": {
              "color": "white"
             }
            },
            "header": {
             "fill": {
              "color": "#C8D4E3"
             },
             "line": {
              "color": "white"
             }
            },
            "type": "table"
           }
          ]
         },
         "layout": {
          "annotationdefaults": {
           "arrowcolor": "#2a3f5f",
           "arrowhead": 0,
           "arrowwidth": 1
          },
          "autotypenumbers": "strict",
          "coloraxis": {
           "colorbar": {
            "outlinewidth": 0,
            "ticks": ""
           }
          },
          "colorscale": {
           "diverging": [
            [
             0,
             "#8e0152"
            ],
            [
             0.1,
             "#c51b7d"
            ],
            [
             0.2,
             "#de77ae"
            ],
            [
             0.3,
             "#f1b6da"
            ],
            [
             0.4,
             "#fde0ef"
            ],
            [
             0.5,
             "#f7f7f7"
            ],
            [
             0.6,
             "#e6f5d0"
            ],
            [
             0.7,
             "#b8e186"
            ],
            [
             0.8,
             "#7fbc41"
            ],
            [
             0.9,
             "#4d9221"
            ],
            [
             1,
             "#276419"
            ]
           ],
           "sequential": [
            [
             0,
             "#0d0887"
            ],
            [
             0.1111111111111111,
             "#46039f"
            ],
            [
             0.2222222222222222,
             "#7201a8"
            ],
            [
             0.3333333333333333,
             "#9c179e"
            ],
            [
             0.4444444444444444,
             "#bd3786"
            ],
            [
             0.5555555555555556,
             "#d8576b"
            ],
            [
             0.6666666666666666,
             "#ed7953"
            ],
            [
             0.7777777777777778,
             "#fb9f3a"
            ],
            [
             0.8888888888888888,
             "#fdca26"
            ],
            [
             1,
             "#f0f921"
            ]
           ],
           "sequentialminus": [
            [
             0,
             "#0d0887"
            ],
            [
             0.1111111111111111,
             "#46039f"
            ],
            [
             0.2222222222222222,
             "#7201a8"
            ],
            [
             0.3333333333333333,
             "#9c179e"
            ],
            [
             0.4444444444444444,
             "#bd3786"
            ],
            [
             0.5555555555555556,
             "#d8576b"
            ],
            [
             0.6666666666666666,
             "#ed7953"
            ],
            [
             0.7777777777777778,
             "#fb9f3a"
            ],
            [
             0.8888888888888888,
             "#fdca26"
            ],
            [
             1,
             "#f0f921"
            ]
           ]
          },
          "colorway": [
           "#636efa",
           "#EF553B",
           "#00cc96",
           "#ab63fa",
           "#FFA15A",
           "#19d3f3",
           "#FF6692",
           "#B6E880",
           "#FF97FF",
           "#FECB52"
          ],
          "font": {
           "color": "#2a3f5f"
          },
          "geo": {
           "bgcolor": "white",
           "lakecolor": "white",
           "landcolor": "white",
           "showlakes": true,
           "showland": true,
           "subunitcolor": "#C8D4E3"
          },
          "hoverlabel": {
           "align": "left"
          },
          "hovermode": "closest",
          "mapbox": {
           "style": "light"
          },
          "paper_bgcolor": "white",
          "plot_bgcolor": "white",
          "polar": {
           "angularaxis": {
            "gridcolor": "#EBF0F8",
            "linecolor": "#EBF0F8",
            "ticks": ""
           },
           "bgcolor": "white",
           "radialaxis": {
            "gridcolor": "#EBF0F8",
            "linecolor": "#EBF0F8",
            "ticks": ""
           }
          },
          "scene": {
           "xaxis": {
            "backgroundcolor": "white",
            "gridcolor": "#DFE8F3",
            "gridwidth": 2,
            "linecolor": "#EBF0F8",
            "showbackground": true,
            "ticks": "",
            "zerolinecolor": "#EBF0F8"
           },
           "yaxis": {
            "backgroundcolor": "white",
            "gridcolor": "#DFE8F3",
            "gridwidth": 2,
            "linecolor": "#EBF0F8",
            "showbackground": true,
            "ticks": "",
            "zerolinecolor": "#EBF0F8"
           },
           "zaxis": {
            "backgroundcolor": "white",
            "gridcolor": "#DFE8F3",
            "gridwidth": 2,
            "linecolor": "#EBF0F8",
            "showbackground": true,
            "ticks": "",
            "zerolinecolor": "#EBF0F8"
           }
          },
          "shapedefaults": {
           "line": {
            "color": "#2a3f5f"
           }
          },
          "ternary": {
           "aaxis": {
            "gridcolor": "#DFE8F3",
            "linecolor": "#A2B1C6",
            "ticks": ""
           },
           "baxis": {
            "gridcolor": "#DFE8F3",
            "linecolor": "#A2B1C6",
            "ticks": ""
           },
           "bgcolor": "white",
           "caxis": {
            "gridcolor": "#DFE8F3",
            "linecolor": "#A2B1C6",
            "ticks": ""
           }
          },
          "title": {
           "x": 0.05
          },
          "xaxis": {
           "automargin": true,
           "gridcolor": "#EBF0F8",
           "linecolor": "#EBF0F8",
           "ticks": "",
           "title": {
            "standoff": 15
           },
           "zerolinecolor": "#EBF0F8",
           "zerolinewidth": 2
          },
          "yaxis": {
           "automargin": true,
           "gridcolor": "#EBF0F8",
           "linecolor": "#EBF0F8",
           "ticks": "",
           "title": {
            "standoff": 15
           },
           "zerolinecolor": "#EBF0F8",
           "zerolinewidth": 2
          }
         }
        },
        "title": {
         "font": {
          "family": "Arial",
          "size": 16
         },
         "text": "ODA flows to Pakistan by year and donor group"
        },
        "xaxis": {
         "anchor": "y",
         "domain": [
          0,
          1
         ],
         "title": {
          "font": {
           "family": "Arial",
           "size": 12
          },
          "text": "Year"
         }
        },
        "yaxis": {
         "anchor": "x",
         "domain": [
          0,
          1
         ],
         "title": {
          "font": {
           "family": "Arial",
           "size": 12
          },
          "text": "ODA disbursement ($billion)"
         }
        }
       }
      }
     },
     "metadata": {},
     "output_type": "display_data"
    }
   ],
   "source": [
    "fig = px.bar(\n",
    "    crs_grouped,\n",
    "    x=\"year\",\n",
    "    y=\"value_bn_rounded\",\n",
    "    color=\"donor_group\",   # This separates the stacks by donor\n",
    "    text_auto=True,       # Optional: shows values on bars\n",
    "    title=\"ODA flows to Pakistan by year and donor group\",\n",
    "    labels={\n",
    "        \"year\": \"Year\",\n",
    "        \"value_bn_rounded\": \"ODA disbursement ($billion)\",\n",
    "        \"donor_group\": \"Donor Group\"\n",
    "    },\n",
    "    color_discrete_sequence=px.colors.qualitative.Safe  # Optional: choose nice colors\n",
    ")\n",
    "\n",
    "# Customize the layout a bit\n",
    "fig.update_layout(\n",
    "    barmode=\"stack\",  # Stack the bars\n",
    "    title_font=dict(family=\"Arial\", size=16),\n",
    "    xaxis_title_font=dict(family=\"Arial\", size=12),\n",
    "    yaxis_title_font=dict(family=\"Arial\", size=12),\n",
    "    legend_title=\"Donor\",\n",
    "    template=\"plotly_white\"\n",
    ")\n",
    "\n",
    "fig.show()\n",
    "\n",
    "### definitely need to recategorise donor names, grouping roughly as follows:\n",
    "# multilaterals: ADB, WB(IDA & IBRD), UN agencies, EU institution\n",
    "# bilterals: USA, UK, France, Germany, Australia, Japan, Saudi, 'other'"
   ]
  }
 ],
 "metadata": {
  "kernelspec": {
   "display_name": "base",
   "language": "python",
   "name": "python3"
  },
  "language_info": {
   "codemirror_mode": {
    "name": "ipython",
    "version": 3
   },
   "file_extension": ".py",
   "mimetype": "text/x-python",
   "name": "python",
   "nbconvert_exporter": "python",
   "pygments_lexer": "ipython3",
   "version": "3.12.5"
  }
 },
 "nbformat": 4,
 "nbformat_minor": 5
}
