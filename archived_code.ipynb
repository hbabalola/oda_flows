{
 "cells": [
  {
   "cell_type": "code",
   "execution_count": null,
   "id": "027adf18",
   "metadata": {},
   "outputs": [],
   "source": [
    "## EXPLORING VISUALISATIONS WITH JUPYTER NOTEBOOK\n",
    "%matplotlib inline\n",
    "\n",
    "# Create our figure and our axes\n",
    "figure, axes = plt.subplots(figsize=(6, 5))\n",
    "\n",
    "# Plot the Data\n",
    "axes.bar(x=crs_grouped[\"year\"], height=crs_grouped[\"value\"],\n",
    "             color=\"#9E2A2B\")  # NEW - Colour specified using HEX code\n",
    "\n",
    "# Add Labels and titles\n",
    "axes.set_title(\"ODA flows to Pakistan by year\", \n",
    "               fontname=\"Arial\", \n",
    "               size=16)\n",
    "axes.set_xlabel(\"Year\", fontname=\"Arial\", size=12)\n",
    "axes.set_ylabel(\"ODA disbursement ($million)\", fontname=\"Arial\", size=12);"
   ]
  },
  {
   "cell_type": "code",
   "execution_count": null,
   "id": "15b0bacd",
   "metadata": {},
   "outputs": [],
   "source": [
    "# Create our figure and our axes\n",
    "figure, axes = plt.subplots(figsize=(6, 5))\n",
    "\n",
    "# Plot the Data\n",
    "axes.bar(x=crs_grouped[\"year\"], height=crs_grouped[\"value\"],\n",
    "             color=\"#9E2A2B\")  # NEW - Colour specified using HEX code\n",
    "\n",
    "#Pivot data to wide format\n",
    "pivoted = grouped.pivot(index='year', columns='donor_name', values='value').fillna(0)\n",
    "\n",
    "#Create stacked bar chart\n",
    "pivoted.plot(kind='bar', stacked=True, figsize=(8,6), color=[\"#9E2A2B\", \"#005F73\"])\n",
    "\n",
    "\n",
    "# Add Labels and titles\n",
    "axes.set_title(\"ODA flows to Pakistan by year\", \n",
    "               fontname=\"Arial\", \n",
    "               size=16)\n",
    "axes.set_xlabel(\"Year\", fontname=\"Arial\", size=12)\n",
    "axes.set_ylabel(\"ODA disbursement ($million)\", fontname=\"Arial\", size=12);"
   ]
  },
  {
   "cell_type": "code",
   "execution_count": null,
   "id": "1eceb981",
   "metadata": {},
   "outputs": [],
   "source": [
    "##PLOTLY GRAPH - MORE CUSTOMISABLE BUT REQUIRES MORE CODE\n",
    "\n",
    "# Create a bar chart using Plotly\n",
    "fig = go.Figure(data=[go.Bar(\n",
    "    x=crs_grouped[\"year\"],  # x-axis\n",
    "    y=crs_grouped[\"value\"],  # y-axis\n",
    "    marker_color=\"#9E2A2B\"    # Color specified using HEX code\n",
    ")])\n",
    "\n",
    "# Add titles and labels\n",
    "fig.update_layout(\n",
    "    title=\"ODA flows to Pakistan by year\",\n",
    "    title_font=dict(family=\"Arial\", size=16),\n",
    "    xaxis_title=\"Year\",\n",
    "    xaxis_title_font=dict(family=\"Arial\", size=12),\n",
    "    yaxis_title=\"ODA disbursement ($million)\",\n",
    "    yaxis_title_font=dict(family=\"Arial\", size=12)\n",
    ")\n",
    "\n",
    "# Show the figure\n",
    "fig.show()\n"
   ]
  }
 ],
 "metadata": {
  "language_info": {
   "name": "python"
  }
 },
 "nbformat": 4,
 "nbformat_minor": 5
}
