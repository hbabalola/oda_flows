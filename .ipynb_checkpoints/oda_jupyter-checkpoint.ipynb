{
 "cells": [
  {
   "cell_type": "code",
   "execution_count": 9,
   "id": "27027bf0-f79e-4f24-bdb3-7c75cdc25e95",
   "metadata": {},
   "outputs": [],
   "source": [
    "import pandas as pd\n",
    "import plotly as ply\n",
    "from oda_reader import download_crs\n",
    "from oda_reader import get_available_filters\n",
    "from oda_reader import bulk_download_multisystem\n",
    "from oda_reader import disable_cache"
   ]
  },
  {
   "cell_type": "code",
   "execution_count": 10,
   "id": "091230bb-3d48-44a9-89b0-cc46f9052c4a",
   "metadata": {},
   "outputs": [
    {
     "name": "stdout",
     "output_type": "stream",
     "text": [
      "OrderedDict([('donor', str | list[str] | None),\n",
      "             ('recipient', str | list[str] | None),\n",
      "             ('sector', int | list[int] | None),\n",
      "             ('measure', int | list[int] | None),\n",
      "             ('channel', str | list[str] | None),\n",
      "             ('modality', str | list[str] | None),\n",
      "             ('flow_type', str | list[str] | None),\n",
      "             ('price_base', str | list[str] | None),\n",
      "             ('unit_measure', str | list[str] | None),\n",
      "             ('microdata', <class 'bool'>)])\n",
      "OrderedDict({'donor': str | list[str] | None, 'recipient': str | list[str] | None, 'sector': int | list[int] | None, 'measure': int | list[int] | None, 'channel': str | list[str] | None, 'modality': str | list[str] | None, 'flow_type': str | list[str] | None, 'price_base': str | list[str] | None, 'unit_measure': str | list[str] | None, 'microdata': <class 'bool'>})\n"
     ]
    }
   ],
   "source": [
    "crs_filters = get_available_filters(source=\"crs\")\n",
    "print(crs_filters)"
   ]
  },
  {
   "cell_type": "code",
   "execution_count": 11,
   "id": "1c17c561-4e0a-49e4-9ce8-524cad49a193",
   "metadata": {},
   "outputs": [
    {
     "name": "stderr",
     "output_type": "stream",
     "text": [
      "INFO: Downloading CRS data. This may take a while...\n",
      "Note this is a slow API. Consider using bulk_download_crs() to downloadthe full dataset instead.\n",
      "INFO: Reading the crs schema translation\n",
      "INFO: Fetching data from https://sdmx.oecd.org/dcd-public/rest/data/OECD.DCD.FSD,DSD_CRS@DF_CRS,1.6/UK.PAK.......DD..?format=csvfilewithlabels&startPeriod=2000&endPeriod=2023\n",
      "INFO: Fetching data from https://sdmx.oecd.org/dcd-public/rest/data/OECD.DCD.FSD,DSD_CRS@DF_CRS,1.5/UK.PAK.......DD..?format=csvfilewithlabels&startPeriod=2000&endPeriod=2023\n",
      "ERROR: Error 429: You have exceeded the number of requests for data downloads or very large data ranges permitted in the OECD Data API. Please contact us through the OECD Data Explorer (https://data-explorer.oecd.org) feedback form (indicating your IP address) to request more details or exceptions.\n"
     ]
    },
    {
     "ename": "ConnectionError",
     "evalue": "Error 429: You have exceeded the number of requests for data downloads or very large data ranges permitted in the OECD Data API. Please contact us through the OECD Data Explorer (https://data-explorer.oecd.org) feedback form (indicating your IP address) to request more details or exceptions.",
     "output_type": "error",
     "traceback": [
      "\u001b[1;31m---------------------------------------------------------------------------\u001b[0m",
      "\u001b[1;31mConnectionError\u001b[0m                           Traceback (most recent call last)",
      "Cell \u001b[1;32mIn[11], line 3\u001b[0m\n\u001b[0;32m      1\u001b[0m disable_cache()\n\u001b[1;32m----> 3\u001b[0m crs_data \u001b[38;5;241m=\u001b[39m  download_crs(\n\u001b[0;32m      4\u001b[0m     start_year\u001b[38;5;241m=\u001b[39m\u001b[38;5;241m2000\u001b[39m,\n\u001b[0;32m      5\u001b[0m     end_year\u001b[38;5;241m=\u001b[39m\u001b[38;5;241m2023\u001b[39m,\n\u001b[0;32m      6\u001b[0m     pre_process\u001b[38;5;241m=\u001b[39m\u001b[38;5;28;01mTrue\u001b[39;00m,\n\u001b[0;32m      7\u001b[0m     filters\u001b[38;5;241m=\u001b[39m{\u001b[38;5;124m\"\u001b[39m\u001b[38;5;124mdonor\u001b[39m\u001b[38;5;124m\"\u001b[39m: \u001b[38;5;124m\"\u001b[39m\u001b[38;5;124mUK\u001b[39m\u001b[38;5;124m\"\u001b[39m,\n\u001b[0;32m      8\u001b[0m              \u001b[38;5;124m\"\u001b[39m\u001b[38;5;124mrecipient\u001b[39m\u001b[38;5;124m\"\u001b[39m: \u001b[38;5;124m\"\u001b[39m\u001b[38;5;124mPAK\u001b[39m\u001b[38;5;124m\"\u001b[39m},\n\u001b[0;32m      9\u001b[0m )\n\u001b[0;32m     11\u001b[0m crs_data \u001b[38;5;241m=\u001b[39m pd\u001b[38;5;241m.\u001b[39mDataFrame(crs_data)\n\u001b[0;32m     12\u001b[0m crs_data\u001b[38;5;241m.\u001b[39minfo()\n",
      "File \u001b[1;32m~\\anaconda3\\Lib\\site-packages\\oda_reader\\common.py:58\u001b[0m, in \u001b[0;36mcache_info.<locals>.wrapper\u001b[1;34m(*args, **kwargs)\u001b[0m\n\u001b[0;32m     52\u001b[0m             logger\u001b[38;5;241m.\u001b[39minfo(\n\u001b[0;32m     53\u001b[0m                 \u001b[38;5;124mf\u001b[39m\u001b[38;5;124m\"\"\"\u001b[39m\u001b[38;5;130;01m\\n\u001b[39;00m\u001b[38;5;124m[oda-reader]  Caching is enabled (and lasts a maximum of 7 days).\u001b[39m\n\u001b[0;32m     54\u001b[0m \u001b[38;5;124mIf you want to disable it, use `from oda_reader import disable_cache` and call\u001b[39m\n\u001b[0;32m     55\u001b[0m \u001b[38;5;124mit before running your query.\u001b[39m\u001b[38;5;130;01m\\n\u001b[39;00m\u001b[38;5;124m\"\"\"\u001b[39m\n\u001b[0;32m     56\u001b[0m             )\n\u001b[0;32m     57\u001b[0m         \u001b[38;5;28mglobals\u001b[39m()[\u001b[38;5;124m\"\u001b[39m\u001b[38;5;124m_has_logged_cache_message\u001b[39m\u001b[38;5;124m\"\u001b[39m] \u001b[38;5;241m=\u001b[39m \u001b[38;5;28;01mTrue\u001b[39;00m\n\u001b[1;32m---> 58\u001b[0m         \u001b[38;5;28;01mreturn\u001b[39;00m func(\u001b[38;5;241m*\u001b[39margs, \u001b[38;5;241m*\u001b[39m\u001b[38;5;241m*\u001b[39mkwargs)\n",
      "File \u001b[1;32m~\\anaconda3\\Lib\\site-packages\\oda_reader\\crs.py:139\u001b[0m, in \u001b[0;36mdownload_crs\u001b[1;34m(start_year, end_year, filters, pre_process, dotstat_codes, as_grant_equivalent, dataflow_version)\u001b[0m\n\u001b[0;32m    132\u001b[0m         warning_message \u001b[38;5;241m+\u001b[39m\u001b[38;5;241m=\u001b[39m \u001b[38;5;124m\"\u001b[39m\u001b[38;5;130;01m\\n\u001b[39;00m\u001b[38;5;124m\"\u001b[39m\u001b[38;5;241m.\u001b[39mjoin(\n\u001b[0;32m    133\u001b[0m             \u001b[38;5;124mf\u001b[39m\u001b[38;5;124m\"\u001b[39m\u001b[38;5;124mUnless you specify \u001b[39m\u001b[38;5;132;01m{\u001b[39;00mw\u001b[38;5;132;01m}\u001b[39;00m\u001b[38;5;124m: \u001b[39m\u001b[38;5;124m'\u001b[39m\u001b[38;5;124m_T\u001b[39m\u001b[38;5;124m'\u001b[39m\u001b[38;5;124m, the data will contain duplicates.\u001b[39m\u001b[38;5;124m\"\u001b[39m\n\u001b[0;32m    134\u001b[0m             \u001b[38;5;28;01mfor\u001b[39;00m w \u001b[38;5;129;01min\u001b[39;00m warnings\n\u001b[0;32m    135\u001b[0m         )\n\u001b[0;32m    137\u001b[0m     logger\u001b[38;5;241m.\u001b[39mwarning(warning_message)\n\u001b[1;32m--> 139\u001b[0m df \u001b[38;5;241m=\u001b[39m download(\n\u001b[0;32m    140\u001b[0m     version\u001b[38;5;241m=\u001b[39m\u001b[38;5;124m\"\u001b[39m\u001b[38;5;124mcrs\u001b[39m\u001b[38;5;124m\"\u001b[39m,\n\u001b[0;32m    141\u001b[0m     dataflow_id\u001b[38;5;241m=\u001b[39mDATAFLOW_ID \u001b[38;5;28;01mif\u001b[39;00m \u001b[38;5;129;01mnot\u001b[39;00m as_grant_equivalent \u001b[38;5;28;01melse\u001b[39;00m DATAFLOW_ID_GE,\n\u001b[0;32m    142\u001b[0m     dataflow_version\u001b[38;5;241m=\u001b[39mdataflow_version,\n\u001b[0;32m    143\u001b[0m     start_year\u001b[38;5;241m=\u001b[39mstart_year,\n\u001b[0;32m    144\u001b[0m     end_year\u001b[38;5;241m=\u001b[39mend_year,\n\u001b[0;32m    145\u001b[0m     filters\u001b[38;5;241m=\u001b[39mfilters,\n\u001b[0;32m    146\u001b[0m     pre_process\u001b[38;5;241m=\u001b[39mpre_process,\n\u001b[0;32m    147\u001b[0m     dotstat_codes\u001b[38;5;241m=\u001b[39mdotstat_codes,\n\u001b[0;32m    148\u001b[0m )\n\u001b[0;32m    150\u001b[0m \u001b[38;5;66;03m# remove columns where all rows are NaN\u001b[39;00m\n\u001b[0;32m    151\u001b[0m df \u001b[38;5;241m=\u001b[39m df\u001b[38;5;241m.\u001b[39mdropna(axis\u001b[38;5;241m=\u001b[39m\u001b[38;5;241m1\u001b[39m, how\u001b[38;5;241m=\u001b[39m\u001b[38;5;124m\"\u001b[39m\u001b[38;5;124mall\u001b[39m\u001b[38;5;124m\"\u001b[39m)\n",
      "File \u001b[1;32m~\\anaconda3\\Lib\\site-packages\\oda_reader\\download\\download_tools.py:114\u001b[0m, in \u001b[0;36mdownload\u001b[1;34m(version, dataflow_id, dataflow_version, start_year, end_year, filters, pre_process, dotstat_codes)\u001b[0m\n\u001b[0;32m    110\u001b[0m url \u001b[38;5;241m=\u001b[39m qb\u001b[38;5;241m.\u001b[39mset_time_period(start\u001b[38;5;241m=\u001b[39mstart_year, end\u001b[38;5;241m=\u001b[39mend_year)\u001b[38;5;241m.\u001b[39mbuild_query()\n\u001b[0;32m    112\u001b[0m \u001b[38;5;66;03m# Get the dataframe\u001b[39;00m\n\u001b[1;32m--> 114\u001b[0m df \u001b[38;5;241m=\u001b[39m api_response_to_df(url\u001b[38;5;241m=\u001b[39murl, read_csv_options\u001b[38;5;241m=\u001b[39mdf_options)\n\u001b[0;32m    116\u001b[0m \u001b[38;5;66;03m# Preprocess the data\u001b[39;00m\n\u001b[0;32m    117\u001b[0m \u001b[38;5;28;01mif\u001b[39;00m pre_process:\n",
      "File \u001b[1;32m~\\anaconda3\\Lib\\site-packages\\oda_reader\\common.py:192\u001b[0m, in \u001b[0;36mapi_response_to_df\u001b[1;34m(url, read_csv_options, compressed)\u001b[0m\n\u001b[0;32m    189\u001b[0m     \u001b[38;5;28;01mreturn\u001b[39;00m pd\u001b[38;5;241m.\u001b[39mread_csv(url, \u001b[38;5;241m*\u001b[39m\u001b[38;5;241m*\u001b[39mread_csv_options)\n\u001b[0;32m    191\u001b[0m \u001b[38;5;66;03m# Fetch the data from the API with compression headers\u001b[39;00m\n\u001b[1;32m--> 192\u001b[0m response \u001b[38;5;241m=\u001b[39m get_data_from_api(url\u001b[38;5;241m=\u001b[39murl, compressed\u001b[38;5;241m=\u001b[39mcompressed)\n\u001b[0;32m    194\u001b[0m \u001b[38;5;66;03m# Convert the content to stringIO\u001b[39;00m\n\u001b[0;32m    195\u001b[0m data \u001b[38;5;241m=\u001b[39m text_to_stringIO(response)\n",
      "File \u001b[1;32m~\\anaconda3\\Lib\\site-packages\\oda_reader\\common.py:152\u001b[0m, in \u001b[0;36mget_data_from_api\u001b[1;34m(url, compressed, retries)\u001b[0m\n\u001b[0;32m    150\u001b[0m     new_version \u001b[38;5;241m=\u001b[39m \u001b[38;5;28mstr\u001b[39m(\u001b[38;5;28mround\u001b[39m(\u001b[38;5;28mfloat\u001b[39m(version) \u001b[38;5;241m-\u001b[39m FALLBACK_STEP, \u001b[38;5;241m1\u001b[39m))\n\u001b[0;32m    151\u001b[0m     new_url \u001b[38;5;241m=\u001b[39m _replace_dataflow_version(url\u001b[38;5;241m=\u001b[39murl, version\u001b[38;5;241m=\u001b[39mnew_version)\n\u001b[1;32m--> 152\u001b[0m     \u001b[38;5;28;01mreturn\u001b[39;00m get_data_from_api(\n\u001b[0;32m    153\u001b[0m         url\u001b[38;5;241m=\u001b[39mnew_url, compressed\u001b[38;5;241m=\u001b[39mcompressed, retries\u001b[38;5;241m=\u001b[39mretries \u001b[38;5;241m+\u001b[39m \u001b[38;5;241m1\u001b[39m\n\u001b[0;32m    154\u001b[0m     )\n\u001b[0;32m    155\u001b[0m \u001b[38;5;28;01melse\u001b[39;00m:\n\u001b[0;32m    156\u001b[0m     \u001b[38;5;28;01mraise\u001b[39;00m \u001b[38;5;167;01mConnectionError\u001b[39;00m(\u001b[38;5;124m\"\u001b[39m\u001b[38;5;124mNo data found for the selected parameters.\u001b[39m\u001b[38;5;124m\"\u001b[39m)\n",
      "File \u001b[1;32m~\\anaconda3\\Lib\\site-packages\\oda_reader\\common.py:164\u001b[0m, in \u001b[0;36mget_data_from_api\u001b[1;34m(url, compressed, retries)\u001b[0m\n\u001b[0;32m    162\u001b[0m \u001b[38;5;28;01mif\u001b[39;00m status_code \u001b[38;5;241m>\u001b[39m \u001b[38;5;241m299\u001b[39m:\n\u001b[0;32m    163\u001b[0m     logger\u001b[38;5;241m.\u001b[39merror(\u001b[38;5;124mf\u001b[39m\u001b[38;5;124m\"\u001b[39m\u001b[38;5;124mError \u001b[39m\u001b[38;5;132;01m{\u001b[39;00mstatus_code\u001b[38;5;132;01m}\u001b[39;00m\u001b[38;5;124m: \u001b[39m\u001b[38;5;132;01m{\u001b[39;00mresponse\u001b[38;5;132;01m}\u001b[39;00m\u001b[38;5;124m\"\u001b[39m)\n\u001b[1;32m--> 164\u001b[0m     \u001b[38;5;28;01mraise\u001b[39;00m \u001b[38;5;167;01mConnectionError\u001b[39;00m(\u001b[38;5;124mf\u001b[39m\u001b[38;5;124m\"\u001b[39m\u001b[38;5;124mError \u001b[39m\u001b[38;5;132;01m{\u001b[39;00mstatus_code\u001b[38;5;132;01m}\u001b[39;00m\u001b[38;5;124m: \u001b[39m\u001b[38;5;132;01m{\u001b[39;00mresponse\u001b[38;5;132;01m}\u001b[39;00m\u001b[38;5;124m\"\u001b[39m)\n\u001b[0;32m    166\u001b[0m \u001b[38;5;28;01mreturn\u001b[39;00m response\n",
      "\u001b[1;31mConnectionError\u001b[0m: Error 429: You have exceeded the number of requests for data downloads or very large data ranges permitted in the OECD Data API. Please contact us through the OECD Data Explorer (https://data-explorer.oecd.org) feedback form (indicating your IP address) to request more details or exceptions."
     ]
    }
   ],
   "source": [
    "\n",
    "disable_cache()\n",
    "\n",
    "crs_data =  download_crs(\n",
    "    start_year=2000,\n",
    "    end_year=2023,\n",
    "    pre_process=True,\n",
    "    filters={\"recipient\": \"PAK\",\n",
    "        #\"donor\": \"UK\"\n",
    "            }\n",
    ")\n",
    "\n",
    "crs_data = pd.DataFrame(crs_data)\n",
    "crs_data.info()"
   ]
  },
  {
   "cell_type": "code",
   "execution_count": null,
   "id": "f4bf8469-6d8c-4230-b9da-02142fb1883c",
   "metadata": {},
   "outputs": [],
   "source": []
  }
 ],
 "metadata": {
  "kernelspec": {
   "display_name": "Python 3 (ipykernel)",
   "language": "python",
   "name": "python3"
  },
  "language_info": {
   "codemirror_mode": {
    "name": "ipython",
    "version": 3
   },
   "file_extension": ".py",
   "mimetype": "text/x-python",
   "name": "python",
   "nbconvert_exporter": "python",
   "pygments_lexer": "ipython3",
   "version": "3.12.5"
  }
 },
 "nbformat": 4,
 "nbformat_minor": 5
}
